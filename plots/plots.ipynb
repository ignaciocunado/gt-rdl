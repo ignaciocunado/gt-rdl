{
 "cells": [
  {
   "metadata": {
    "ExecuteTime": {
     "end_time": "2025-06-13T15:46:15.949957Z",
     "start_time": "2025-06-13T15:46:15.651827Z"
    }
   },
   "cell_type": "code",
   "source": [
    "import pandas as pd\n",
    "import numpy as np\n",
    "\n",
    "import wandb\n",
    "import matplotlib.pyplot as plt\n",
    "import dotenv\n",
    "api = wandb.Api()\n",
    "dotenv.load_dotenv()\n",
    "\n",
    "runs = api.runs(dotenv.get_key('.env', 'WANDB_URL'), {\"group\": {\"$regex\": \"runtime.*\"}})"
   ],
   "id": "3e27e53738913495",
   "outputs": [],
   "execution_count": 104
  },
  {
   "metadata": {
    "ExecuteTime": {
     "end_time": "2025-06-13T15:46:23.960754Z",
     "start_time": "2025-06-13T15:46:18.793394Z"
    }
   },
   "cell_type": "code",
   "source": [
    "summary_list, config_list, name_list = [], [], []\n",
    "\n",
    "memory = []\n",
    "tasks = []\n",
    "models = []\n",
    "runtime = []\n",
    "for run in runs:\n",
    "    summary_list.append(run.summary._json_dict)\n",
    "    memory.append(pd.Series(run.history(stream='events')['system.gpu.0.memoryAllocatedBytes']).interpolate(method=\"linear\", limit_direction=\"both\").tolist())\n",
    "\n",
    "    config_list.append(\n",
    "        {k: v for k,v in run.config.items()\n",
    "         if not k.startswith('_')})\n",
    "    name_list.append(run.name)\n",
    "    tasks.append(run.config['task_name'])\n",
    "    models.append(run.config['model'])\n",
    "    runtime.append(run.summary['_runtime'])\n",
    "\n",
    "df = pd.DataFrame({\n",
    "    'model': models,\n",
    "    'task_name': tasks,\n",
    "    \"memory\": memory,\n",
    "    \"runtime\": runtime,\n",
    "})\n",
    "\n",
    "df.head(10)"
   ],
   "id": "724adc201cdf957e",
   "outputs": [
    {
     "data": {
      "text/plain": [
       "        model    task_name                                             memory  \\\n",
       "0  Graphormer  driver-top3  [43810750464.0, 34506735616.0, 25202720768.0, ...   \n",
       "1  Graphormer  driver-top3  [29118103552.0, 29118103552.0, 29118103552.0, ...   \n",
       "2  Graphormer  driver-top3  [20159070208.0, 23548067840.0, 26937065472.0, ...   \n",
       "3  Graphormer  driver-top3  [38129565696.0, 38130264746.666664, 3813096379...   \n",
       "4     FraudGT       ad-ctr  [1699938304.0, 1701336405.3333333, 1702734506....   \n",
       "5  Graphormer  driver-top3  [16900096000.0, 16900096000.0, 16900096000.0, ...   \n",
       "6     FraudGT       ad-ctr  [1702035456.0, 1703084032.0, 1704132608.0, 170...   \n",
       "7     FraudGT       ad-ctr  [1699938304.0, 1700986880.0, 1702035456.0, 170...   \n",
       "8     FraudGT       ad-ctr  [1699938304.0, 1701336405.3333333, 1702734506....   \n",
       "9     FraudGT       ad-ctr  [1699938304.0, 1701336405.3333333, 1702734506....   \n",
       "\n",
       "      runtime  \n",
       "0  355.531186  \n",
       "1  352.858604  \n",
       "2  350.855769  \n",
       "3  357.758009  \n",
       "4  163.141244  \n",
       "5  354.698609  \n",
       "6  166.761686  \n",
       "7  163.854053  \n",
       "8  162.095901  \n",
       "9  162.580496  "
      ],
      "text/html": [
       "<div>\n",
       "<style scoped>\n",
       "    .dataframe tbody tr th:only-of-type {\n",
       "        vertical-align: middle;\n",
       "    }\n",
       "\n",
       "    .dataframe tbody tr th {\n",
       "        vertical-align: top;\n",
       "    }\n",
       "\n",
       "    .dataframe thead th {\n",
       "        text-align: right;\n",
       "    }\n",
       "</style>\n",
       "<table border=\"1\" class=\"dataframe\">\n",
       "  <thead>\n",
       "    <tr style=\"text-align: right;\">\n",
       "      <th></th>\n",
       "      <th>model</th>\n",
       "      <th>task_name</th>\n",
       "      <th>memory</th>\n",
       "      <th>runtime</th>\n",
       "    </tr>\n",
       "  </thead>\n",
       "  <tbody>\n",
       "    <tr>\n",
       "      <th>0</th>\n",
       "      <td>Graphormer</td>\n",
       "      <td>driver-top3</td>\n",
       "      <td>[43810750464.0, 34506735616.0, 25202720768.0, ...</td>\n",
       "      <td>355.531186</td>\n",
       "    </tr>\n",
       "    <tr>\n",
       "      <th>1</th>\n",
       "      <td>Graphormer</td>\n",
       "      <td>driver-top3</td>\n",
       "      <td>[29118103552.0, 29118103552.0, 29118103552.0, ...</td>\n",
       "      <td>352.858604</td>\n",
       "    </tr>\n",
       "    <tr>\n",
       "      <th>2</th>\n",
       "      <td>Graphormer</td>\n",
       "      <td>driver-top3</td>\n",
       "      <td>[20159070208.0, 23548067840.0, 26937065472.0, ...</td>\n",
       "      <td>350.855769</td>\n",
       "    </tr>\n",
       "    <tr>\n",
       "      <th>3</th>\n",
       "      <td>Graphormer</td>\n",
       "      <td>driver-top3</td>\n",
       "      <td>[38129565696.0, 38130264746.666664, 3813096379...</td>\n",
       "      <td>357.758009</td>\n",
       "    </tr>\n",
       "    <tr>\n",
       "      <th>4</th>\n",
       "      <td>FraudGT</td>\n",
       "      <td>ad-ctr</td>\n",
       "      <td>[1699938304.0, 1701336405.3333333, 1702734506....</td>\n",
       "      <td>163.141244</td>\n",
       "    </tr>\n",
       "    <tr>\n",
       "      <th>5</th>\n",
       "      <td>Graphormer</td>\n",
       "      <td>driver-top3</td>\n",
       "      <td>[16900096000.0, 16900096000.0, 16900096000.0, ...</td>\n",
       "      <td>354.698609</td>\n",
       "    </tr>\n",
       "    <tr>\n",
       "      <th>6</th>\n",
       "      <td>FraudGT</td>\n",
       "      <td>ad-ctr</td>\n",
       "      <td>[1702035456.0, 1703084032.0, 1704132608.0, 170...</td>\n",
       "      <td>166.761686</td>\n",
       "    </tr>\n",
       "    <tr>\n",
       "      <th>7</th>\n",
       "      <td>FraudGT</td>\n",
       "      <td>ad-ctr</td>\n",
       "      <td>[1699938304.0, 1700986880.0, 1702035456.0, 170...</td>\n",
       "      <td>163.854053</td>\n",
       "    </tr>\n",
       "    <tr>\n",
       "      <th>8</th>\n",
       "      <td>FraudGT</td>\n",
       "      <td>ad-ctr</td>\n",
       "      <td>[1699938304.0, 1701336405.3333333, 1702734506....</td>\n",
       "      <td>162.095901</td>\n",
       "    </tr>\n",
       "    <tr>\n",
       "      <th>9</th>\n",
       "      <td>FraudGT</td>\n",
       "      <td>ad-ctr</td>\n",
       "      <td>[1699938304.0, 1701336405.3333333, 1702734506....</td>\n",
       "      <td>162.580496</td>\n",
       "    </tr>\n",
       "  </tbody>\n",
       "</table>\n",
       "</div>"
      ]
     },
     "execution_count": 105,
     "metadata": {},
     "output_type": "execute_result"
    }
   ],
   "execution_count": 105
  },
  {
   "metadata": {
    "ExecuteTime": {
     "end_time": "2025-06-13T15:46:24.723173Z",
     "start_time": "2025-06-13T15:46:24.705169Z"
    }
   },
   "cell_type": "code",
   "source": [
    "def mean(list_of_arrays):\n",
    "    max_len = max(np.array(arr).shape[0] for arr in list_of_arrays)\n",
    "    # pad each array to that length, filling with NaN\n",
    "    padded = [\n",
    "        np.pad(arr,\n",
    "               pad_width=(0, max_len - np.array(arr).shape[0]),\n",
    "               constant_values=np.nan)\n",
    "        for arr in list_of_arrays\n",
    "    ]\n",
    "    # now this will work\n",
    "    stacked = np.vstack(padded) * 1e-9\n",
    "    return np.mean(np.nanmean(stacked, axis=0)), np.mean(np.nanstd(stacked, axis=0))\n",
    "\n",
    "avg_memory = df.groupby(['model', 'task_name'])['memory'].apply(lambda lists: mean(lists)).apply(pd.Series).rename(columns={0: 'mean', 1: 'std'})\n",
    "avg_memory = avg_memory.reset_index()\n",
    "avg_memory.head()"
   ],
   "id": "14c88e38bc384311",
   "outputs": [
    {
     "data": {
      "text/plain": [
       "        model    task_name       mean       std\n",
       "0     FraudGT       ad-ctr   1.703780  0.000122\n",
       "1     FraudGT  driver-top3   1.166501  0.005630\n",
       "2  Graphormer       ad-ctr  36.100809  7.104464\n",
       "3  Graphormer  driver-top3  28.354019  9.845876"
      ],
      "text/html": [
       "<div>\n",
       "<style scoped>\n",
       "    .dataframe tbody tr th:only-of-type {\n",
       "        vertical-align: middle;\n",
       "    }\n",
       "\n",
       "    .dataframe tbody tr th {\n",
       "        vertical-align: top;\n",
       "    }\n",
       "\n",
       "    .dataframe thead th {\n",
       "        text-align: right;\n",
       "    }\n",
       "</style>\n",
       "<table border=\"1\" class=\"dataframe\">\n",
       "  <thead>\n",
       "    <tr style=\"text-align: right;\">\n",
       "      <th></th>\n",
       "      <th>model</th>\n",
       "      <th>task_name</th>\n",
       "      <th>mean</th>\n",
       "      <th>std</th>\n",
       "    </tr>\n",
       "  </thead>\n",
       "  <tbody>\n",
       "    <tr>\n",
       "      <th>0</th>\n",
       "      <td>FraudGT</td>\n",
       "      <td>ad-ctr</td>\n",
       "      <td>1.703780</td>\n",
       "      <td>0.000122</td>\n",
       "    </tr>\n",
       "    <tr>\n",
       "      <th>1</th>\n",
       "      <td>FraudGT</td>\n",
       "      <td>driver-top3</td>\n",
       "      <td>1.166501</td>\n",
       "      <td>0.005630</td>\n",
       "    </tr>\n",
       "    <tr>\n",
       "      <th>2</th>\n",
       "      <td>Graphormer</td>\n",
       "      <td>ad-ctr</td>\n",
       "      <td>36.100809</td>\n",
       "      <td>7.104464</td>\n",
       "    </tr>\n",
       "    <tr>\n",
       "      <th>3</th>\n",
       "      <td>Graphormer</td>\n",
       "      <td>driver-top3</td>\n",
       "      <td>28.354019</td>\n",
       "      <td>9.845876</td>\n",
       "    </tr>\n",
       "  </tbody>\n",
       "</table>\n",
       "</div>"
      ]
     },
     "execution_count": 106,
     "metadata": {},
     "output_type": "execute_result"
    }
   ],
   "execution_count": 106
  },
  {
   "metadata": {
    "ExecuteTime": {
     "end_time": "2025-06-13T15:46:25.552233Z",
     "start_time": "2025-06-13T15:46:25.469455Z"
    }
   },
   "cell_type": "code",
   "source": [
    "plt.rcParams.update({\n",
    "    \"font.family\":       \"serif\",\n",
    "    \"font.serif\":        [\"Times New Roman\", \"Palatino\", \"STIX\"],\n",
    "    \"mathtext.fontset\":  \"stix\",         # use STIX fonts for math\n",
    "    \"text.usetex\":       False,          # or True if you have LaTeX installed\n",
    "\n",
    "    # 2) Axis titles and tick labels\n",
    "    \"axes.labelsize\":    14,\n",
    "    \"axes.titlesize\":    16,\n",
    "    \"xtick.labelsize\":   12,\n",
    "    \"ytick.labelsize\":   12,\n",
    "    \"xtick.direction\":   \"out\",\n",
    "    \"ytick.direction\":   \"out\",\n",
    "\n",
    "    # 3) Grid style\n",
    "    \"axes.grid\":         True,\n",
    "    \"grid.color\":        \"0.8\",          # light grey\n",
    "    \"grid.linestyle\":    \"--\",\n",
    "    \"grid.linewidth\":    0.5,\n",
    "\n",
    "    # 4) Legend styling\n",
    "    \"legend.frameon\":    True,\n",
    "    \"legend.framealpha\": 0.9,\n",
    "    \"legend.edgecolor\":  \"0.8\",\n",
    "    \"legend.fontsize\":   12,\n",
    "})\n",
    "\n",
    "\n",
    "fraud_means = avg_memory.iloc[0:2]['mean']\n",
    "fraud_std = avg_memory.iloc[0:2]['std']\n",
    "graphormer_means = avg_memory.iloc[2:4]['mean']\n",
    "graphormer_std = avg_memory.iloc[2:4]['std']\n",
    "\n",
    "tasks = ['ad-ctr', 'driver-top3']\n",
    "# Plot\n",
    "x = np.arange(len(tasks))\n",
    "width = 0.35\n",
    "\n",
    "fig, ax = plt.subplots()\n",
    "ax.bar(x - width/2, fraud_means, width, label='FraudGT', color='red', yerr=fraud_std)\n",
    "ax.bar(x + width/2, graphormer_means, width, label='Graphormer', color='blue', yerr=graphormer_std)\n",
    "\n",
    "\n",
    "# Labels and aesthetics\n",
    "ax.set_xticks(x)\n",
    "ax.set_xticklabels(tasks)\n",
    "ax.set_xlabel('Task')\n",
    "ax.set_ylabel('Average GPU memory usage (GB)')\n",
    "ax.legend()\n",
    "\n",
    "plt.savefig('memory.pdf')\n",
    "plt.show()"
   ],
   "id": "9d3fcd40e777fdd1",
   "outputs": [
    {
     "data": {
      "text/plain": [
       "<Figure size 640x480 with 1 Axes>"
      ],
      "image/png": "[encoded data removed]"
     },
     "metadata": {},
     "output_type": "display_data"
    }
   ],
   "execution_count": 107
  },
  {
   "metadata": {
    "ExecuteTime": {
     "end_time": "2025-06-13T15:46:26.544220Z",
     "start_time": "2025-06-13T15:46:26.532019Z"
    }
   },
   "cell_type": "code",
   "source": [
    "avg_runtime  =df.groupby(['model', 'task_name'])['runtime'].mean().apply(pd.Series).reset_index().rename(columns={0: 'mean'})\n",
    "std_runtime = df.groupby(['model', 'task_name'])['runtime'].std().apply(pd.Series).reset_index().rename(columns={0: 'std'})"
   ],
   "id": "d403ed74a8f8cc1c",
   "outputs": [],
   "execution_count": 108
  },
  {
   "metadata": {
    "ExecuteTime": {
     "end_time": "2025-06-13T15:46:27.966704Z",
     "start_time": "2025-06-13T15:46:27.687174Z"
    }
   },
   "cell_type": "code",
   "source": [
    "fraud_means = avg_runtime.iloc[0:2]['mean']\n",
    "fraud_std = std_runtime.iloc[0:2]['std']\n",
    "graphormer_means = avg_runtime.iloc[2:4]['mean']\n",
    "graphormer_std = std_runtime.iloc[2:4]['std']\n",
    "\n",
    "tasks = ['ad-ctr', 'driver-top3']\n",
    "# Plot\n",
    "x = np.arange(len(tasks))\n",
    "width = 0.35\n",
    "\n",
    "fig, ax = plt.subplots()\n",
    "ax.bar(x - width/2, fraud_means, width, label='FraudGT', color='red', yerr=fraud_std)\n",
    "ax.bar(x + width/2, graphormer_means, width, label='Graphormer', color='blue', yerr=graphormer_std)\n",
    "\n",
    "\n",
    "# Labels and aesthetics\n",
    "ax.set_xticks(x)\n",
    "ax.set_xticklabels(tasks)\n",
    "ax.set_xlabel('Task')\n",
    "ax.set_ylabel('Average runtime (seconds)')\n",
    "ax.legend()\n",
    "\n",
    "plt.savefig('runtime.pdf')\n",
    "plt.show()"
   ],
   "id": "7d77cf09ed82a1cd",
   "outputs": [
    {
     "data": {
      "text/plain": [
       "<Figure size 640x480 with 1 Axes>"
      ],
      "image/png": "[encoded data removed]"
     },
     "metadata": {},
     "output_type": "display_data"
    }
   ],
   "execution_count": 109
  },
  {
   "metadata": {},
   "cell_type": "code",
   "outputs": [],
   "execution_count": null,
   "source": "",
   "id": "d2b6331f363292e2"
  }
 ],
 "metadata": {
  "kernelspec": {
   "display_name": "Python 3",
   "language": "python",
   "name": "python3"
  },
  "language_info": {
   "codemirror_mode": {
    "name": "ipython",
    "version": 2
   },
   "file_extension": ".py",
   "mimetype": "text/x-python",
   "name": "python",
   "nbconvert_exporter": "python",
   "pygments_lexer": "ipython2",
   "version": "2.7.6"
  }
 },
 "nbformat": 4,
 "nbformat_minor": 5
}
