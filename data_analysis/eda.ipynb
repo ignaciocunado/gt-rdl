{
 "cells": [
  {
   "cell_type": "code",
   "id": "initial_id",
   "metadata": {
    "collapsed": true,
    "ExecuteTime": {
     "end_time": "2025-06-17T17:24:03.016198Z",
     "start_time": "2025-06-17T17:24:02.697282Z"
    }
   },
   "source": [
    "import gc\n",
    "import utils\n",
    "import duckdb\n",
    "import pandas as pd\n",
    "import plotly.io as pio\n",
    "import matplotlib.pyplot as plt\n",
    "import numpy as np\n",
    "import seaborn as sns\n",
    "# jupysql is a requirement too"
   ],
   "outputs": [],
   "execution_count": 1
  },
  {
   "metadata": {
    "ExecuteTime": {
     "end_time": "2025-06-17T17:24:03.576191Z",
     "start_time": "2025-06-17T17:24:03.569495Z"
    }
   },
   "cell_type": "code",
   "source": [
    "# Matplotlib config\n",
    "plt.style.use('default')\n",
    "plt.rcParams.update({\n",
    "    \"font.family\":       \"serif\",\n",
    "    \"font.serif\":        [\"Times New Roman\", \"Palatino\", \"STIX\"],\n",
    "    \"mathtext.fontset\":  \"stix\",         # use STIX fonts for math\n",
    "    \"text.usetex\":       False,          # or True if you have LaTeX installed\n",
    "\n",
    "    # 2) Axis titles and tick labels\n",
    "    \"axes.labelsize\":    14,\n",
    "    \"axes.titlesize\":    16,\n",
    "    \"xtick.labelsize\":   12,\n",
    "    \"ytick.labelsize\":   12,\n",
    "    \"xtick.direction\":   \"out\",\n",
    "    \"ytick.direction\":   \"out\",\n",
    "\n",
    "    # 3) Grid style\n",
    "    \"axes.grid\":         False,\n",
    "    \"grid.color\":        \"0.8\",          # light grey\n",
    "    \"grid.linestyle\":    \"--\",\n",
    "    \"grid.linewidth\":    0.5,\n",
    "\n",
    "    # 4) Legend styling\n",
    "    \"legend.frameon\":    True,\n",
    "    \"legend.framealpha\": 0.9,\n",
    "    \"legend.edgecolor\":  \"0.8\",\n",
    "    \"legend.fontsize\":   12,\n",
    "})"
   ],
   "id": "7a98557a935d6a0c",
   "outputs": [],
   "execution_count": 2
  },
  {
   "metadata": {
    "ExecuteTime": {
     "end_time": "2025-06-17T17:24:14.072092Z",
     "start_time": "2025-06-17T17:24:03.769772Z"
    }
   },
   "cell_type": "code",
   "source": [
    "utils.db_setup('rel-f1', 'f1.db')\n",
    "utils.db_setup('rel-avito', 'avito.db')\n",
    "utils.db_setup('rel-hm', 'hm.db')\n",
    "utils.db_setup('rel-stack', 'stack.db')\n",
    "utils.db_setup('rel-trial', 'trial.db')"
   ],
   "id": "e467e93256ae5d13",
   "outputs": [
    {
     "name": "stdout",
     "output_type": "stream",
     "text": [
      "Loading Database object from /Users/ignacunado/Library/Caches/relbench/rel-f1/db...\n",
      "Done in 0.07 seconds.\n",
      "Catalog Error: Table with name \"races\" already exists!\n",
      "Loading Database object from /Users/ignacunado/Library/Caches/relbench/rel-avito/db...\n",
      "Done in 1.60 seconds.\n",
      "Catalog Error: Table with name \"AdsInfo\" already exists!\n",
      "Loading Database object from /Users/ignacunado/Library/Caches/relbench/rel-hm/db...\n",
      "Done in 0.44 seconds.\n",
      "Catalog Error: Table with name \"article\" already exists!\n",
      "Loading Database object from /Users/ignacunado/Library/Caches/relbench/rel-stack/db...\n",
      "Done in 2.99 seconds.\n",
      "Catalog Error: Table with name \"users\" already exists!\n",
      "Loading Database object from /Users/ignacunado/Library/Caches/relbench/rel-trial/db...\n",
      "Done in 2.18 seconds.\n",
      "Catalog Error: Table with name \"studies\" already exists!\n"
     ]
    }
   ],
   "execution_count": 3
  },
  {
   "metadata": {},
   "cell_type": "markdown",
   "source": "# F1",
   "id": "7cae56406e772592"
  },
  {
   "metadata": {
    "ExecuteTime": {
     "end_time": "2025-06-17T17:24:14.302822Z",
     "start_time": "2025-06-17T17:24:14.083053Z"
    }
   },
   "cell_type": "code",
   "source": [
    "conn = duckdb.connect('f1.db')\n",
    "%load_ext sql\n",
    "%sql conn --alias duckdb\n",
    "%config SqlMagic.displaycon=False\n",
    "%config SqlMagic.autopandas=True\n",
    "pio.renderers.default = 'svg'"
   ],
   "id": "67ef4711af13eb55",
   "outputs": [],
   "execution_count": 4
  },
  {
   "metadata": {
    "ExecuteTime": {
     "end_time": "2025-06-17T17:24:14.318708Z",
     "start_time": "2025-06-17T17:24:14.310426Z"
    }
   },
   "cell_type": "code",
   "source": [
    "%%sql train_df <<\n",
    "from driver_position_train"
   ],
   "id": "3f6be6c464b668c2",
   "outputs": [],
   "execution_count": 5
  },
  {
   "metadata": {
    "ExecuteTime": {
     "end_time": "2025-06-17T17:24:14.331374Z",
     "start_time": "2025-06-17T17:24:14.327321Z"
    }
   },
   "cell_type": "code",
   "source": [
    "%%sql test_df <<\n",
    "from driver_position_test"
   ],
   "id": "eb0852836bb68bb1",
   "outputs": [],
   "execution_count": 6
  },
  {
   "metadata": {
    "ExecuteTime": {
     "end_time": "2025-06-17T17:24:14.344809Z",
     "start_time": "2025-06-17T17:24:14.340220Z"
    }
   },
   "cell_type": "code",
   "source": [
    "%%sql val_df <<\n",
    "from driver_position_val"
   ],
   "id": "8ff8039198c1facf",
   "outputs": [],
   "execution_count": 7
  },
  {
   "metadata": {
    "ExecuteTime": {
     "end_time": "2025-06-17T17:24:14.367721Z",
     "start_time": "2025-06-17T17:24:14.358995Z"
    }
   },
   "cell_type": "code",
   "source": "train_df.describe()",
   "id": "f6c47697b778de47",
   "outputs": [
    {
     "data": {
      "text/plain": [
       "                                date     driverId     position\n",
       "count                           7453  7453.000000  7453.000000\n",
       "mean   1977-07-01 23:41:38.698510656   262.155105    13.901438\n",
       "min              1950-06-19 00:00:00     1.000000     1.000000\n",
       "25%              1964-04-06 00:00:00   108.000000     9.000000\n",
       "50%              1977-11-24 00:00:00   208.000000    13.333333\n",
       "75%              1990-05-20 00:00:00   374.000000    18.000000\n",
       "max              2004-09-03 00:00:00   806.000000    39.000000\n",
       "std                              NaN   192.276916     7.025734"
      ],
      "text/html": [
       "<div>\n",
       "<style scoped>\n",
       "    .dataframe tbody tr th:only-of-type {\n",
       "        vertical-align: middle;\n",
       "    }\n",
       "\n",
       "    .dataframe tbody tr th {\n",
       "        vertical-align: top;\n",
       "    }\n",
       "\n",
       "    .dataframe thead th {\n",
       "        text-align: right;\n",
       "    }\n",
       "</style>\n",
       "<table border=\"1\" class=\"dataframe\">\n",
       "  <thead>\n",
       "    <tr style=\"text-align: right;\">\n",
       "      <th></th>\n",
       "      <th>date</th>\n",
       "      <th>driverId</th>\n",
       "      <th>position</th>\n",
       "    </tr>\n",
       "  </thead>\n",
       "  <tbody>\n",
       "    <tr>\n",
       "      <th>count</th>\n",
       "      <td>7453</td>\n",
       "      <td>7453.000000</td>\n",
       "      <td>7453.000000</td>\n",
       "    </tr>\n",
       "    <tr>\n",
       "      <th>mean</th>\n",
       "      <td>1977-07-01 23:41:38.698510656</td>\n",
       "      <td>262.155105</td>\n",
       "      <td>13.901438</td>\n",
       "    </tr>\n",
       "    <tr>\n",
       "      <th>min</th>\n",
       "      <td>1950-06-19 00:00:00</td>\n",
       "      <td>1.000000</td>\n",
       "      <td>1.000000</td>\n",
       "    </tr>\n",
       "    <tr>\n",
       "      <th>25%</th>\n",
       "      <td>1964-04-06 00:00:00</td>\n",
       "      <td>108.000000</td>\n",
       "      <td>9.000000</td>\n",
       "    </tr>\n",
       "    <tr>\n",
       "      <th>50%</th>\n",
       "      <td>1977-11-24 00:00:00</td>\n",
       "      <td>208.000000</td>\n",
       "      <td>13.333333</td>\n",
       "    </tr>\n",
       "    <tr>\n",
       "      <th>75%</th>\n",
       "      <td>1990-05-20 00:00:00</td>\n",
       "      <td>374.000000</td>\n",
       "      <td>18.000000</td>\n",
       "    </tr>\n",
       "    <tr>\n",
       "      <th>max</th>\n",
       "      <td>2004-09-03 00:00:00</td>\n",
       "      <td>806.000000</td>\n",
       "      <td>39.000000</td>\n",
       "    </tr>\n",
       "    <tr>\n",
       "      <th>std</th>\n",
       "      <td>NaN</td>\n",
       "      <td>192.276916</td>\n",
       "      <td>7.025734</td>\n",
       "    </tr>\n",
       "  </tbody>\n",
       "</table>\n",
       "</div>"
      ]
     },
     "execution_count": 8,
     "metadata": {},
     "output_type": "execute_result"
    }
   ],
   "execution_count": 8
  },
  {
   "metadata": {
    "ExecuteTime": {
     "end_time": "2025-06-17T17:24:14.418055Z",
     "start_time": "2025-06-17T17:24:14.410085Z"
    }
   },
   "cell_type": "code",
   "source": "test_df.describe()",
   "id": "fcd3489ebda72f18",
   "outputs": [
    {
     "data": {
      "text/plain": [
       "                                date    driverId    position\n",
       "count                            760  760.000000  760.000000\n",
       "mean   2013-02-25 03:09:28.421052672  369.565789   11.926206\n",
       "min              2010-03-02 00:00:00    0.000000    1.000000\n",
       "25%              2011-06-25 00:00:00   12.000000    8.000000\n",
       "50%              2013-02-14 00:00:00  109.000000   12.183333\n",
       "75%              2014-10-07 00:00:00  815.000000   16.000000\n",
       "max              2016-05-29 00:00:00  837.000000   24.000000\n",
       "std                              NaN  391.605783    5.213817"
      ],
      "text/html": [
       "<div>\n",
       "<style scoped>\n",
       "    .dataframe tbody tr th:only-of-type {\n",
       "        vertical-align: middle;\n",
       "    }\n",
       "\n",
       "    .dataframe tbody tr th {\n",
       "        vertical-align: top;\n",
       "    }\n",
       "\n",
       "    .dataframe thead th {\n",
       "        text-align: right;\n",
       "    }\n",
       "</style>\n",
       "<table border=\"1\" class=\"dataframe\">\n",
       "  <thead>\n",
       "    <tr style=\"text-align: right;\">\n",
       "      <th></th>\n",
       "      <th>date</th>\n",
       "      <th>driverId</th>\n",
       "      <th>position</th>\n",
       "    </tr>\n",
       "  </thead>\n",
       "  <tbody>\n",
       "    <tr>\n",
       "      <th>count</th>\n",
       "      <td>760</td>\n",
       "      <td>760.000000</td>\n",
       "      <td>760.000000</td>\n",
       "    </tr>\n",
       "    <tr>\n",
       "      <th>mean</th>\n",
       "      <td>2013-02-25 03:09:28.421052672</td>\n",
       "      <td>369.565789</td>\n",
       "      <td>11.926206</td>\n",
       "    </tr>\n",
       "    <tr>\n",
       "      <th>min</th>\n",
       "      <td>2010-03-02 00:00:00</td>\n",
       "      <td>0.000000</td>\n",
       "      <td>1.000000</td>\n",
       "    </tr>\n",
       "    <tr>\n",
       "      <th>25%</th>\n",
       "      <td>2011-06-25 00:00:00</td>\n",
       "      <td>12.000000</td>\n",
       "      <td>8.000000</td>\n",
       "    </tr>\n",
       "    <tr>\n",
       "      <th>50%</th>\n",
       "      <td>2013-02-14 00:00:00</td>\n",
       "      <td>109.000000</td>\n",
       "      <td>12.183333</td>\n",
       "    </tr>\n",
       "    <tr>\n",
       "      <th>75%</th>\n",
       "      <td>2014-10-07 00:00:00</td>\n",
       "      <td>815.000000</td>\n",
       "      <td>16.000000</td>\n",
       "    </tr>\n",
       "    <tr>\n",
       "      <th>max</th>\n",
       "      <td>2016-05-29 00:00:00</td>\n",
       "      <td>837.000000</td>\n",
       "      <td>24.000000</td>\n",
       "    </tr>\n",
       "    <tr>\n",
       "      <th>std</th>\n",
       "      <td>NaN</td>\n",
       "      <td>391.605783</td>\n",
       "      <td>5.213817</td>\n",
       "    </tr>\n",
       "  </tbody>\n",
       "</table>\n",
       "</div>"
      ]
     },
     "execution_count": 9,
     "metadata": {},
     "output_type": "execute_result"
    }
   ],
   "execution_count": 9
  },
  {
   "metadata": {
    "ExecuteTime": {
     "end_time": "2025-06-17T17:24:14.540229Z",
     "start_time": "2025-06-17T17:24:14.532982Z"
    }
   },
   "cell_type": "code",
   "source": "val_df.describe()",
   "id": "e66bbce75f81b582",
   "outputs": [
    {
     "data": {
      "text/plain": [
       "                                date    driverId    position\n",
       "count                            499  499.000000  499.000000\n",
       "mean   2007-07-08 09:31:22.965931776   17.146293   11.083200\n",
       "min              2005-03-02 00:00:00    0.000000    1.000000\n",
       "25%              2006-04-26 00:00:00    7.000000    7.550000\n",
       "50%              2007-08-19 00:00:00   15.000000   11.400000\n",
       "75%              2008-08-13 00:00:00   21.000000   14.666667\n",
       "max              2009-10-07 00:00:00  154.000000   22.000000\n",
       "std                              NaN   18.703044    4.640726"
      ],
      "text/html": [
       "<div>\n",
       "<style scoped>\n",
       "    .dataframe tbody tr th:only-of-type {\n",
       "        vertical-align: middle;\n",
       "    }\n",
       "\n",
       "    .dataframe tbody tr th {\n",
       "        vertical-align: top;\n",
       "    }\n",
       "\n",
       "    .dataframe thead th {\n",
       "        text-align: right;\n",
       "    }\n",
       "</style>\n",
       "<table border=\"1\" class=\"dataframe\">\n",
       "  <thead>\n",
       "    <tr style=\"text-align: right;\">\n",
       "      <th></th>\n",
       "      <th>date</th>\n",
       "      <th>driverId</th>\n",
       "      <th>position</th>\n",
       "    </tr>\n",
       "  </thead>\n",
       "  <tbody>\n",
       "    <tr>\n",
       "      <th>count</th>\n",
       "      <td>499</td>\n",
       "      <td>499.000000</td>\n",
       "      <td>499.000000</td>\n",
       "    </tr>\n",
       "    <tr>\n",
       "      <th>mean</th>\n",
       "      <td>2007-07-08 09:31:22.965931776</td>\n",
       "      <td>17.146293</td>\n",
       "      <td>11.083200</td>\n",
       "    </tr>\n",
       "    <tr>\n",
       "      <th>min</th>\n",
       "      <td>2005-03-02 00:00:00</td>\n",
       "      <td>0.000000</td>\n",
       "      <td>1.000000</td>\n",
       "    </tr>\n",
       "    <tr>\n",
       "      <th>25%</th>\n",
       "      <td>2006-04-26 00:00:00</td>\n",
       "      <td>7.000000</td>\n",
       "      <td>7.550000</td>\n",
       "    </tr>\n",
       "    <tr>\n",
       "      <th>50%</th>\n",
       "      <td>2007-08-19 00:00:00</td>\n",
       "      <td>15.000000</td>\n",
       "      <td>11.400000</td>\n",
       "    </tr>\n",
       "    <tr>\n",
       "      <th>75%</th>\n",
       "      <td>2008-08-13 00:00:00</td>\n",
       "      <td>21.000000</td>\n",
       "      <td>14.666667</td>\n",
       "    </tr>\n",
       "    <tr>\n",
       "      <th>max</th>\n",
       "      <td>2009-10-07 00:00:00</td>\n",
       "      <td>154.000000</td>\n",
       "      <td>22.000000</td>\n",
       "    </tr>\n",
       "    <tr>\n",
       "      <th>std</th>\n",
       "      <td>NaN</td>\n",
       "      <td>18.703044</td>\n",
       "      <td>4.640726</td>\n",
       "    </tr>\n",
       "  </tbody>\n",
       "</table>\n",
       "</div>"
      ]
     },
     "execution_count": 10,
     "metadata": {},
     "output_type": "execute_result"
    }
   ],
   "execution_count": 10
  },
  {
   "metadata": {
    "ExecuteTime": {
     "end_time": "2025-06-17T17:24:14.694417Z",
     "start_time": "2025-06-17T17:24:14.690882Z"
    }
   },
   "cell_type": "code",
   "source": [
    "driver_pos_train_labels = train_df['position'].to_numpy()\n",
    "driver_pos_test_labels = test_df['position'].to_numpy()\n",
    "driver_pos_val_labels = val_df['position'].to_numpy()"
   ],
   "id": "a08b4a20cec09908",
   "outputs": [],
   "execution_count": 11
  },
  {
   "metadata": {
    "ExecuteTime": {
     "end_time": "2025-06-17T17:24:14.795900Z",
     "start_time": "2025-06-17T17:24:14.793521Z"
    }
   },
   "cell_type": "code",
   "source": [
    "def plot_reg_dist(ax, data, xlabel, ylabel, title):\n",
    "    mean = np.mean(data)\n",
    "    ax.hist(data, bins='auto', color='#B3EBF2')\n",
    "    ax.axvline(mean, label='Mean', color='r')\n",
    "    ax.set_xlabel(xlabel)\n",
    "    ax.set_ylabel(ylabel)\n",
    "    ax.set_title(title)"
   ],
   "id": "10db49d6a7864e0b",
   "outputs": [],
   "execution_count": 12
  },
  {
   "metadata": {
    "ExecuteTime": {
     "end_time": "2025-06-17T17:24:15.202329Z",
     "start_time": "2025-06-17T17:24:14.832643Z"
    }
   },
   "cell_type": "code",
   "source": [
    "fig, ax = plt.subplots(1, 3, figsize=(15, 4))\n",
    "ax = ax.reshape((-1))\n",
    "\n",
    "xlabel = 'Driver Position'\n",
    "ylabel = 'Count'\n",
    "\n",
    "plot_reg_dist(ax[0], driver_pos_train_labels, xlabel, ylabel, 'Train Set')\n",
    "plot_reg_dist(ax[1], driver_pos_test_labels, xlabel, ylabel, 'Test Set')\n",
    "plot_reg_dist(ax[2], driver_pos_val_labels, xlabel, ylabel, 'Validation Set')\n",
    "\n",
    "plt.savefig('driver_position_dist.pdf')\n",
    "plt.show()"
   ],
   "id": "352653c7b9160561",
   "outputs": [
    {
     "data": {
      "text/plain": [
       "<Figure size 1500x400 with 3 Axes>"
      ],
      "image/png": "[encoded data removed]"
     },
     "metadata": {},
     "output_type": "display_data"
    }
   ],
   "execution_count": 13
  },
  {
   "metadata": {},
   "cell_type": "markdown",
   "source": "## Percentage of labels > 24",
   "id": "923504722fc0a9b4"
  },
  {
   "metadata": {
    "ExecuteTime": {
     "end_time": "2025-06-17T17:24:15.217297Z",
     "start_time": "2025-06-17T17:24:15.215045Z"
    }
   },
   "cell_type": "code",
   "source": [
    "over_24 =  driver_pos_train_labels[driver_pos_train_labels >= 24]\n",
    "percentage = (len(over_24) / len(driver_pos_train_labels))* 100\n",
    "percentage"
   ],
   "id": "fc1bbf5cb2a10c4c",
   "outputs": [
    {
     "data": {
      "text/plain": [
       "9.445860727223938"
      ]
     },
     "execution_count": 14,
     "metadata": {},
     "output_type": "execute_result"
    }
   ],
   "execution_count": 14
  },
  {
   "metadata": {
    "ExecuteTime": {
     "end_time": "2025-06-17T17:24:15.242678Z",
     "start_time": "2025-06-17T17:24:15.240649Z"
    }
   },
   "cell_type": "code",
   "source": [
    "over_24_mean = over_24.mean()\n",
    "diff = over_24_mean - 24\n",
    "diff"
   ],
   "id": "46fdaf6e3ae75324",
   "outputs": [
    {
     "data": {
      "text/plain": [
       "np.float64(4.071898674242423)"
      ]
     },
     "execution_count": 15,
     "metadata": {},
     "output_type": "execute_result"
    }
   ],
   "execution_count": 15
  },
  {
   "metadata": {
    "ExecuteTime": {
     "end_time": "2025-06-17T17:24:15.271550Z",
     "start_time": "2025-06-17T17:24:15.267980Z"
    }
   },
   "cell_type": "code",
   "source": [
    "%%sql train_df <<\n",
    "from driver_top3_train"
   ],
   "id": "e754902ec00aa00a",
   "outputs": [],
   "execution_count": 16
  },
  {
   "metadata": {
    "ExecuteTime": {
     "end_time": "2025-06-17T17:24:15.300569Z",
     "start_time": "2025-06-17T17:24:15.295206Z"
    }
   },
   "cell_type": "code",
   "source": [
    "%%sql test_df <<\n",
    "from driver_top3_test"
   ],
   "id": "80631dae6fd41502",
   "outputs": [],
   "execution_count": 17
  },
  {
   "metadata": {
    "ExecuteTime": {
     "end_time": "2025-06-17T17:24:15.315800Z",
     "start_time": "2025-06-17T17:24:15.310563Z"
    }
   },
   "cell_type": "code",
   "source": [
    "%%sql val_df <<\n",
    "from driver_top3_val"
   ],
   "id": "4765c981053e787f",
   "outputs": [],
   "execution_count": 18
  },
  {
   "metadata": {
    "ExecuteTime": {
     "end_time": "2025-06-17T17:24:15.333023Z",
     "start_time": "2025-06-17T17:24:15.326948Z"
    }
   },
   "cell_type": "code",
   "source": "train_df.describe()",
   "id": "501146b65a6e065f",
   "outputs": [
    {
     "data": {
      "text/plain": [
       "                                date     driverId   qualifying\n",
       "count                           1353  1353.000000  1353.000000\n",
       "mean   1998-10-03 08:37:15.033259392    49.562454     0.170732\n",
       "min              1994-02-28 00:00:00     1.000000     0.000000\n",
       "25%              1995-05-24 00:00:00    22.000000     0.000000\n",
       "50%              1997-07-12 00:00:00    49.000000     0.000000\n",
       "75%              2003-03-13 00:00:00    70.000000     0.000000\n",
       "max              2004-10-03 00:00:00   115.000000     1.000000\n",
       "std                              NaN    28.320688     0.376413"
      ],
      "text/html": [
       "<div>\n",
       "<style scoped>\n",
       "    .dataframe tbody tr th:only-of-type {\n",
       "        vertical-align: middle;\n",
       "    }\n",
       "\n",
       "    .dataframe tbody tr th {\n",
       "        vertical-align: top;\n",
       "    }\n",
       "\n",
       "    .dataframe thead th {\n",
       "        text-align: right;\n",
       "    }\n",
       "</style>\n",
       "<table border=\"1\" class=\"dataframe\">\n",
       "  <thead>\n",
       "    <tr style=\"text-align: right;\">\n",
       "      <th></th>\n",
       "      <th>date</th>\n",
       "      <th>driverId</th>\n",
       "      <th>qualifying</th>\n",
       "    </tr>\n",
       "  </thead>\n",
       "  <tbody>\n",
       "    <tr>\n",
       "      <th>count</th>\n",
       "      <td>1353</td>\n",
       "      <td>1353.000000</td>\n",
       "      <td>1353.000000</td>\n",
       "    </tr>\n",
       "    <tr>\n",
       "      <th>mean</th>\n",
       "      <td>1998-10-03 08:37:15.033259392</td>\n",
       "      <td>49.562454</td>\n",
       "      <td>0.170732</td>\n",
       "    </tr>\n",
       "    <tr>\n",
       "      <th>min</th>\n",
       "      <td>1994-02-28 00:00:00</td>\n",
       "      <td>1.000000</td>\n",
       "      <td>0.000000</td>\n",
       "    </tr>\n",
       "    <tr>\n",
       "      <th>25%</th>\n",
       "      <td>1995-05-24 00:00:00</td>\n",
       "      <td>22.000000</td>\n",
       "      <td>0.000000</td>\n",
       "    </tr>\n",
       "    <tr>\n",
       "      <th>50%</th>\n",
       "      <td>1997-07-12 00:00:00</td>\n",
       "      <td>49.000000</td>\n",
       "      <td>0.000000</td>\n",
       "    </tr>\n",
       "    <tr>\n",
       "      <th>75%</th>\n",
       "      <td>2003-03-13 00:00:00</td>\n",
       "      <td>70.000000</td>\n",
       "      <td>0.000000</td>\n",
       "    </tr>\n",
       "    <tr>\n",
       "      <th>max</th>\n",
       "      <td>2004-10-03 00:00:00</td>\n",
       "      <td>115.000000</td>\n",
       "      <td>1.000000</td>\n",
       "    </tr>\n",
       "    <tr>\n",
       "      <th>std</th>\n",
       "      <td>NaN</td>\n",
       "      <td>28.320688</td>\n",
       "      <td>0.376413</td>\n",
       "    </tr>\n",
       "  </tbody>\n",
       "</table>\n",
       "</div>"
      ]
     },
     "execution_count": 19,
     "metadata": {},
     "output_type": "execute_result"
    }
   ],
   "execution_count": 19
  },
  {
   "metadata": {
    "ExecuteTime": {
     "end_time": "2025-06-17T17:24:15.385647Z",
     "start_time": "2025-06-17T17:24:15.379428Z"
    }
   },
   "cell_type": "code",
   "source": "test_df.describe()",
   "id": "db5170bda1be5586",
   "outputs": [
    {
     "data": {
      "text/plain": [
       "                                date    driverId  qualifying\n",
       "count                            726  726.000000  726.000000\n",
       "mean   2011-08-04 06:56:31.735537152  252.154270    0.176309\n",
       "min              2010-03-02 00:00:00    0.000000    0.000000\n",
       "25%              2010-09-28 00:00:00   12.000000    0.000000\n",
       "50%              2011-07-25 00:00:00   23.000000    0.000000\n",
       "75%              2012-05-20 00:00:00  808.000000    0.000000\n",
       "max              2013-03-16 00:00:00  823.000000    1.000000\n",
       "std                              NaN  353.641273    0.381345"
      ],
      "text/html": [
       "<div>\n",
       "<style scoped>\n",
       "    .dataframe tbody tr th:only-of-type {\n",
       "        vertical-align: middle;\n",
       "    }\n",
       "\n",
       "    .dataframe tbody tr th {\n",
       "        vertical-align: top;\n",
       "    }\n",
       "\n",
       "    .dataframe thead th {\n",
       "        text-align: right;\n",
       "    }\n",
       "</style>\n",
       "<table border=\"1\" class=\"dataframe\">\n",
       "  <thead>\n",
       "    <tr style=\"text-align: right;\">\n",
       "      <th></th>\n",
       "      <th>date</th>\n",
       "      <th>driverId</th>\n",
       "      <th>qualifying</th>\n",
       "    </tr>\n",
       "  </thead>\n",
       "  <tbody>\n",
       "    <tr>\n",
       "      <th>count</th>\n",
       "      <td>726</td>\n",
       "      <td>726.000000</td>\n",
       "      <td>726.000000</td>\n",
       "    </tr>\n",
       "    <tr>\n",
       "      <th>mean</th>\n",
       "      <td>2011-08-04 06:56:31.735537152</td>\n",
       "      <td>252.154270</td>\n",
       "      <td>0.176309</td>\n",
       "    </tr>\n",
       "    <tr>\n",
       "      <th>min</th>\n",
       "      <td>2010-03-02 00:00:00</td>\n",
       "      <td>0.000000</td>\n",
       "      <td>0.000000</td>\n",
       "    </tr>\n",
       "    <tr>\n",
       "      <th>25%</th>\n",
       "      <td>2010-09-28 00:00:00</td>\n",
       "      <td>12.000000</td>\n",
       "      <td>0.000000</td>\n",
       "    </tr>\n",
       "    <tr>\n",
       "      <th>50%</th>\n",
       "      <td>2011-07-25 00:00:00</td>\n",
       "      <td>23.000000</td>\n",
       "      <td>0.000000</td>\n",
       "    </tr>\n",
       "    <tr>\n",
       "      <th>75%</th>\n",
       "      <td>2012-05-20 00:00:00</td>\n",
       "      <td>808.000000</td>\n",
       "      <td>0.000000</td>\n",
       "    </tr>\n",
       "    <tr>\n",
       "      <th>max</th>\n",
       "      <td>2013-03-16 00:00:00</td>\n",
       "      <td>823.000000</td>\n",
       "      <td>1.000000</td>\n",
       "    </tr>\n",
       "    <tr>\n",
       "      <th>std</th>\n",
       "      <td>NaN</td>\n",
       "      <td>353.641273</td>\n",
       "      <td>0.381345</td>\n",
       "    </tr>\n",
       "  </tbody>\n",
       "</table>\n",
       "</div>"
      ]
     },
     "execution_count": 20,
     "metadata": {},
     "output_type": "execute_result"
    }
   ],
   "execution_count": 20
  },
  {
   "metadata": {
    "ExecuteTime": {
     "end_time": "2025-06-17T17:24:15.479823Z",
     "start_time": "2025-06-17T17:24:15.473797Z"
    }
   },
   "cell_type": "code",
   "source": "val_df.describe()",
   "id": "5983267173b30778",
   "outputs": [
    {
     "data": {
      "text/plain": [
       "                                date    driverId  qualifying\n",
       "count                            588  588.000000  588.000000\n",
       "mean   2006-08-23 00:44:04.897959168   17.204082    0.202381\n",
       "min              2005-03-02 00:00:00    0.000000    0.000000\n",
       "25%              2005-09-28 00:00:00   10.000000    0.000000\n",
       "50%              2006-07-25 00:00:00   17.000000    0.000000\n",
       "75%              2007-06-20 00:00:00   24.000000    0.000000\n",
       "max              2008-03-16 00:00:00   41.000000    1.000000\n",
       "std                              NaN   10.284000    0.402117"
      ],
      "text/html": [
       "<div>\n",
       "<style scoped>\n",
       "    .dataframe tbody tr th:only-of-type {\n",
       "        vertical-align: middle;\n",
       "    }\n",
       "\n",
       "    .dataframe tbody tr th {\n",
       "        vertical-align: top;\n",
       "    }\n",
       "\n",
       "    .dataframe thead th {\n",
       "        text-align: right;\n",
       "    }\n",
       "</style>\n",
       "<table border=\"1\" class=\"dataframe\">\n",
       "  <thead>\n",
       "    <tr style=\"text-align: right;\">\n",
       "      <th></th>\n",
       "      <th>date</th>\n",
       "      <th>driverId</th>\n",
       "      <th>qualifying</th>\n",
       "    </tr>\n",
       "  </thead>\n",
       "  <tbody>\n",
       "    <tr>\n",
       "      <th>count</th>\n",
       "      <td>588</td>\n",
       "      <td>588.000000</td>\n",
       "      <td>588.000000</td>\n",
       "    </tr>\n",
       "    <tr>\n",
       "      <th>mean</th>\n",
       "      <td>2006-08-23 00:44:04.897959168</td>\n",
       "      <td>17.204082</td>\n",
       "      <td>0.202381</td>\n",
       "    </tr>\n",
       "    <tr>\n",
       "      <th>min</th>\n",
       "      <td>2005-03-02 00:00:00</td>\n",
       "      <td>0.000000</td>\n",
       "      <td>0.000000</td>\n",
       "    </tr>\n",
       "    <tr>\n",
       "      <th>25%</th>\n",
       "      <td>2005-09-28 00:00:00</td>\n",
       "      <td>10.000000</td>\n",
       "      <td>0.000000</td>\n",
       "    </tr>\n",
       "    <tr>\n",
       "      <th>50%</th>\n",
       "      <td>2006-07-25 00:00:00</td>\n",
       "      <td>17.000000</td>\n",
       "      <td>0.000000</td>\n",
       "    </tr>\n",
       "    <tr>\n",
       "      <th>75%</th>\n",
       "      <td>2007-06-20 00:00:00</td>\n",
       "      <td>24.000000</td>\n",
       "      <td>0.000000</td>\n",
       "    </tr>\n",
       "    <tr>\n",
       "      <th>max</th>\n",
       "      <td>2008-03-16 00:00:00</td>\n",
       "      <td>41.000000</td>\n",
       "      <td>1.000000</td>\n",
       "    </tr>\n",
       "    <tr>\n",
       "      <th>std</th>\n",
       "      <td>NaN</td>\n",
       "      <td>10.284000</td>\n",
       "      <td>0.402117</td>\n",
       "    </tr>\n",
       "  </tbody>\n",
       "</table>\n",
       "</div>"
      ]
     },
     "execution_count": 21,
     "metadata": {},
     "output_type": "execute_result"
    }
   ],
   "execution_count": 21
  },
  {
   "metadata": {
    "ExecuteTime": {
     "end_time": "2025-06-17T17:24:15.581793Z",
     "start_time": "2025-06-17T17:24:15.579430Z"
    }
   },
   "cell_type": "code",
   "source": [
    "top3_train_labels = train_df.qualifying.to_numpy()\n",
    "top3_test_labels = test_df.qualifying.to_numpy()\n",
    "top3_val_labels = test_df.qualifying.to_numpy()"
   ],
   "id": "b019e01d2a103df7",
   "outputs": [],
   "execution_count": 22
  },
  {
   "metadata": {
    "ExecuteTime": {
     "end_time": "2025-06-17T17:24:15.659382Z",
     "start_time": "2025-06-17T17:24:15.656893Z"
    }
   },
   "cell_type": "code",
   "source": [
    "def plot_binary_dist(ax, data, ylabel, title):\n",
    "    counts = np.bincount(data)           # [num_zero, num_one]\n",
    "    pct = counts / counts.sum()   # fractions\n",
    "    bars = ax.bar([0, 1], counts, tick_label=[\"Negative (0)\", \"Positive (1)\"], color=['#FF6961', '#77DD77'])\n",
    "    for bar, p in zip(bars, pct):\n",
    "        ax.text(\n",
    "            bar.get_x() + bar.get_width()/2,\n",
    "            bar.get_height(),\n",
    "            f\"{p*100:.1f}%\",\n",
    "            ha=\"center\",\n",
    "            va=\"bottom\",\n",
    "            fontweight=\"bold\"\n",
    "        )\n",
    "    ax.set_ylabel(ylabel)\n",
    "    ax.set_title(title)"
   ],
   "id": "c48828500860fb55",
   "outputs": [],
   "execution_count": 23
  },
  {
   "metadata": {
    "ExecuteTime": {
     "end_time": "2025-06-17T17:24:15.859195Z",
     "start_time": "2025-06-17T17:24:15.712974Z"
    }
   },
   "cell_type": "code",
   "source": [
    "fig, ax = plt.subplots(1, 3, figsize=(15, 4))\n",
    "ax = ax.reshape((-1))\n",
    "\n",
    "plot_binary_dist(ax[0], top3_train_labels, 'Count', 'Train Set')\n",
    "plot_binary_dist(ax[1], top3_test_labels, 'Count', 'Test Set')\n",
    "plot_binary_dist(ax[2], top3_val_labels, 'Count', 'Validation Set')\n",
    "\n",
    "plt.savefig('driver_top3_dist.pdf')\n",
    "plt.show()"
   ],
   "id": "3a1b2ef3da031300",
   "outputs": [
    {
     "data": {
      "text/plain": [
       "<Figure size 1500x400 with 3 Axes>"
      ],
      "image/png": "[encoded data removed]"
     },
     "metadata": {},
     "output_type": "display_data"
    }
   ],
   "execution_count": 24
  },
  {
   "metadata": {
    "ExecuteTime": {
     "end_time": "2025-06-17T17:24:15.888559Z",
     "start_time": "2025-06-17T17:24:15.882727Z"
    }
   },
   "cell_type": "code",
   "source": [
    "%%sql train_df <<\n",
    "from driver_dnf_train"
   ],
   "id": "8bc71b5ac3057d94",
   "outputs": [],
   "execution_count": 25
  },
  {
   "metadata": {
    "ExecuteTime": {
     "end_time": "2025-06-17T17:24:15.905865Z",
     "start_time": "2025-06-17T17:24:15.901403Z"
    }
   },
   "cell_type": "code",
   "source": [
    "%%sql test_df <<\n",
    "from driver_dnf_test"
   ],
   "id": "7f079f3cefcf2081",
   "outputs": [],
   "execution_count": 26
  },
  {
   "metadata": {
    "ExecuteTime": {
     "end_time": "2025-06-17T17:24:15.924121Z",
     "start_time": "2025-06-17T17:24:15.919090Z"
    }
   },
   "cell_type": "code",
   "source": [
    "%%sql val_df <<\n",
    "from driver_dnf_val"
   ],
   "id": "e97f3132dc2a8d41",
   "outputs": [],
   "execution_count": 27
  },
  {
   "metadata": {
    "ExecuteTime": {
     "end_time": "2025-06-17T17:24:15.938875Z",
     "start_time": "2025-06-17T17:24:15.936517Z"
    }
   },
   "cell_type": "code",
   "source": [
    "dnf_train_labels = train_df.did_not_finish.to_numpy()\n",
    "dnf_test_labels = test_df.did_not_finish.to_numpy()\n",
    "dnf_val_labels = val_df.did_not_finish.to_numpy()"
   ],
   "id": "44d88a97db9fed56",
   "outputs": [],
   "execution_count": 28
  },
  {
   "metadata": {
    "ExecuteTime": {
     "end_time": "2025-06-17T17:24:16.087493Z",
     "start_time": "2025-06-17T17:24:15.953049Z"
    }
   },
   "cell_type": "code",
   "source": [
    "fig, ax = plt.subplots(1, 3, figsize=(15, 4))\n",
    "ax = ax.reshape((-1))\n",
    "\n",
    "plot_binary_dist(ax[0], dnf_train_labels, 'Count', 'Train Set')\n",
    "plot_binary_dist(ax[1], dnf_test_labels, 'Count', 'Test Set')\n",
    "plot_binary_dist(ax[2], dnf_val_labels, 'Count', 'Validation Set')\n",
    "\n",
    "plt.savefig('driver_dnf_dist.pdf')\n",
    "plt.show()"
   ],
   "id": "ab5dc52f35d31e5c",
   "outputs": [
    {
     "data": {
      "text/plain": [
       "<Figure size 1500x400 with 3 Axes>"
      ],
      "image/png": "[encoded data removed]"
     },
     "metadata": {},
     "output_type": "display_data"
    }
   ],
   "execution_count": 29
  },
  {
   "metadata": {
    "ExecuteTime": {
     "end_time": "2025-06-17T17:24:17.787890Z",
     "start_time": "2025-06-17T17:24:17.662710Z"
    }
   },
   "cell_type": "code",
   "source": [
    "conn.close()\n",
    "gc.collect()"
   ],
   "id": "708f14baa606dc32",
   "outputs": [
    {
     "data": {
      "text/plain": [
       "21978"
      ]
     },
     "execution_count": 30,
     "metadata": {},
     "output_type": "execute_result"
    }
   ],
   "execution_count": 30
  },
  {
   "metadata": {},
   "cell_type": "markdown",
   "source": "# HM\n",
   "id": "37cf5e648d549657"
  },
  {
   "metadata": {
    "ExecuteTime": {
     "end_time": "2025-06-17T17:24:18.754199Z",
     "start_time": "2025-06-17T17:24:18.726436Z"
    }
   },
   "cell_type": "code",
   "source": [
    "conn = duckdb.connect('hm.db')\n",
    "%load_ext sql\n",
    "%sql conn --alias duckdb\n",
    "%config SqlMagic.displaycon=False\n",
    "%config SqlMagic.autopandas=True\n",
    "pio.renderers.default = 'svg'"
   ],
   "id": "60319d65212541db",
   "outputs": [
    {
     "name": "stdout",
     "output_type": "stream",
     "text": [
      "The sql extension is already loaded. To reload it, use:\n",
      "  %reload_ext sql\n"
     ]
    }
   ],
   "execution_count": 31
  },
  {
   "metadata": {
    "ExecuteTime": {
     "end_time": "2025-06-17T17:24:19.909098Z",
     "start_time": "2025-06-17T17:24:19.817099Z"
    }
   },
   "cell_type": "code",
   "source": [
    "%%sql train_df <<\n",
    "from user_churn_train"
   ],
   "id": "cd3da48ddfcc14e9",
   "outputs": [],
   "execution_count": 32
  },
  {
   "metadata": {
    "ExecuteTime": {
     "end_time": "2025-06-17T17:24:20.574408Z",
     "start_time": "2025-06-17T17:24:20.567654Z"
    }
   },
   "cell_type": "code",
   "source": [
    "%%sql test_df <<\n",
    "from user_churn_test"
   ],
   "id": "33e8d524b8098af",
   "outputs": [],
   "execution_count": 33
  },
  {
   "metadata": {
    "ExecuteTime": {
     "end_time": "2025-06-17T17:24:20.904506Z",
     "start_time": "2025-06-17T17:24:20.894927Z"
    }
   },
   "cell_type": "code",
   "source": [
    "%%sql val_df <<\n",
    "from user_churn_val"
   ],
   "id": "b751881bfb6b91a4",
   "outputs": [],
   "execution_count": 34
  },
  {
   "metadata": {
    "ExecuteTime": {
     "end_time": "2025-06-17T17:24:21.588708Z",
     "start_time": "2025-06-17T17:24:21.455794Z"
    }
   },
   "cell_type": "code",
   "source": "train_df.describe()",
   "id": "7048c2295cab7814",
   "outputs": [
    {
     "data": {
      "text/plain": [
       "                           timestamp   customer_id         churn\n",
       "count                        3832692  3.832692e+06  3.832692e+06\n",
       "mean   2020-03-10 00:31:28.644325632  6.857392e+05  8.187324e-01\n",
       "min              2019-09-09 00:00:00  0.000000e+00  0.000000e+00\n",
       "25%              2019-12-02 00:00:00  3.428740e+05  1.000000e+00\n",
       "50%              2020-03-09 00:00:00  6.855210e+05  1.000000e+00\n",
       "75%              2020-06-15 00:00:00  1.028411e+06  1.000000e+00\n",
       "max              2020-08-31 00:00:00  1.371979e+06  1.000000e+00\n",
       "std                              NaN  3.962903e+05  3.852398e-01"
      ],
      "text/html": [
       "<div>\n",
       "<style scoped>\n",
       "    .dataframe tbody tr th:only-of-type {\n",
       "        vertical-align: middle;\n",
       "    }\n",
       "\n",
       "    .dataframe tbody tr th {\n",
       "        vertical-align: top;\n",
       "    }\n",
       "\n",
       "    .dataframe thead th {\n",
       "        text-align: right;\n",
       "    }\n",
       "</style>\n",
       "<table border=\"1\" class=\"dataframe\">\n",
       "  <thead>\n",
       "    <tr style=\"text-align: right;\">\n",
       "      <th></th>\n",
       "      <th>timestamp</th>\n",
       "      <th>customer_id</th>\n",
       "      <th>churn</th>\n",
       "    </tr>\n",
       "  </thead>\n",
       "  <tbody>\n",
       "    <tr>\n",
       "      <th>count</th>\n",
       "      <td>3832692</td>\n",
       "      <td>3.832692e+06</td>\n",
       "      <td>3.832692e+06</td>\n",
       "    </tr>\n",
       "    <tr>\n",
       "      <th>mean</th>\n",
       "      <td>2020-03-10 00:31:28.644325632</td>\n",
       "      <td>6.857392e+05</td>\n",
       "      <td>8.187324e-01</td>\n",
       "    </tr>\n",
       "    <tr>\n",
       "      <th>min</th>\n",
       "      <td>2019-09-09 00:00:00</td>\n",
       "      <td>0.000000e+00</td>\n",
       "      <td>0.000000e+00</td>\n",
       "    </tr>\n",
       "    <tr>\n",
       "      <th>25%</th>\n",
       "      <td>2019-12-02 00:00:00</td>\n",
       "      <td>3.428740e+05</td>\n",
       "      <td>1.000000e+00</td>\n",
       "    </tr>\n",
       "    <tr>\n",
       "      <th>50%</th>\n",
       "      <td>2020-03-09 00:00:00</td>\n",
       "      <td>6.855210e+05</td>\n",
       "      <td>1.000000e+00</td>\n",
       "    </tr>\n",
       "    <tr>\n",
       "      <th>75%</th>\n",
       "      <td>2020-06-15 00:00:00</td>\n",
       "      <td>1.028411e+06</td>\n",
       "      <td>1.000000e+00</td>\n",
       "    </tr>\n",
       "    <tr>\n",
       "      <th>max</th>\n",
       "      <td>2020-08-31 00:00:00</td>\n",
       "      <td>1.371979e+06</td>\n",
       "      <td>1.000000e+00</td>\n",
       "    </tr>\n",
       "    <tr>\n",
       "      <th>std</th>\n",
       "      <td>NaN</td>\n",
       "      <td>3.962903e+05</td>\n",
       "      <td>3.852398e-01</td>\n",
       "    </tr>\n",
       "  </tbody>\n",
       "</table>\n",
       "</div>"
      ]
     },
     "execution_count": 35,
     "metadata": {},
     "output_type": "execute_result"
    }
   ],
   "execution_count": 35
  },
  {
   "metadata": {
    "ExecuteTime": {
     "end_time": "2025-06-17T17:24:21.967827Z",
     "start_time": "2025-06-17T17:24:21.956259Z"
    }
   },
   "cell_type": "code",
   "source": "test_df.describe()",
   "id": "652700a881f49a50",
   "outputs": [
    {
     "data": {
      "text/plain": [
       "                 timestamp   customer_id         churn\n",
       "count                74575  7.457500e+04  74575.000000\n",
       "mean   2020-09-14 00:00:00  6.848040e+05      0.826135\n",
       "min    2020-09-14 00:00:00  6.000000e+00      0.000000\n",
       "25%    2020-09-14 00:00:00  3.417305e+05      1.000000\n",
       "50%    2020-09-14 00:00:00  6.817150e+05      1.000000\n",
       "75%    2020-09-14 00:00:00  1.028838e+06      1.000000\n",
       "max    2020-09-14 00:00:00  1.371977e+06      1.000000\n",
       "std                    NaN  3.962824e+05      0.378996"
      ],
      "text/html": [
       "<div>\n",
       "<style scoped>\n",
       "    .dataframe tbody tr th:only-of-type {\n",
       "        vertical-align: middle;\n",
       "    }\n",
       "\n",
       "    .dataframe tbody tr th {\n",
       "        vertical-align: top;\n",
       "    }\n",
       "\n",
       "    .dataframe thead th {\n",
       "        text-align: right;\n",
       "    }\n",
       "</style>\n",
       "<table border=\"1\" class=\"dataframe\">\n",
       "  <thead>\n",
       "    <tr style=\"text-align: right;\">\n",
       "      <th></th>\n",
       "      <th>timestamp</th>\n",
       "      <th>customer_id</th>\n",
       "      <th>churn</th>\n",
       "    </tr>\n",
       "  </thead>\n",
       "  <tbody>\n",
       "    <tr>\n",
       "      <th>count</th>\n",
       "      <td>74575</td>\n",
       "      <td>7.457500e+04</td>\n",
       "      <td>74575.000000</td>\n",
       "    </tr>\n",
       "    <tr>\n",
       "      <th>mean</th>\n",
       "      <td>2020-09-14 00:00:00</td>\n",
       "      <td>6.848040e+05</td>\n",
       "      <td>0.826135</td>\n",
       "    </tr>\n",
       "    <tr>\n",
       "      <th>min</th>\n",
       "      <td>2020-09-14 00:00:00</td>\n",
       "      <td>6.000000e+00</td>\n",
       "      <td>0.000000</td>\n",
       "    </tr>\n",
       "    <tr>\n",
       "      <th>25%</th>\n",
       "      <td>2020-09-14 00:00:00</td>\n",
       "      <td>3.417305e+05</td>\n",
       "      <td>1.000000</td>\n",
       "    </tr>\n",
       "    <tr>\n",
       "      <th>50%</th>\n",
       "      <td>2020-09-14 00:00:00</td>\n",
       "      <td>6.817150e+05</td>\n",
       "      <td>1.000000</td>\n",
       "    </tr>\n",
       "    <tr>\n",
       "      <th>75%</th>\n",
       "      <td>2020-09-14 00:00:00</td>\n",
       "      <td>1.028838e+06</td>\n",
       "      <td>1.000000</td>\n",
       "    </tr>\n",
       "    <tr>\n",
       "      <th>max</th>\n",
       "      <td>2020-09-14 00:00:00</td>\n",
       "      <td>1.371977e+06</td>\n",
       "      <td>1.000000</td>\n",
       "    </tr>\n",
       "    <tr>\n",
       "      <th>std</th>\n",
       "      <td>NaN</td>\n",
       "      <td>3.962824e+05</td>\n",
       "      <td>0.378996</td>\n",
       "    </tr>\n",
       "  </tbody>\n",
       "</table>\n",
       "</div>"
      ]
     },
     "execution_count": 36,
     "metadata": {},
     "output_type": "execute_result"
    }
   ],
   "execution_count": 36
  },
  {
   "metadata": {
    "ExecuteTime": {
     "end_time": "2025-06-17T17:24:22.571625Z",
     "start_time": "2025-06-17T17:24:22.564098Z"
    }
   },
   "cell_type": "code",
   "source": "val_df.describe()",
   "id": "be8b46b4dcd0f257",
   "outputs": [
    {
     "data": {
      "text/plain": [
       "                 timestamp   customer_id         churn\n",
       "count                76556  7.655600e+04  76556.000000\n",
       "mean   2020-09-07 00:00:00  6.840053e+05      0.812804\n",
       "min    2020-09-07 00:00:00  0.000000e+00      0.000000\n",
       "25%    2020-09-07 00:00:00  3.402850e+05      1.000000\n",
       "50%    2020-09-07 00:00:00  6.849775e+05      1.000000\n",
       "75%    2020-09-07 00:00:00  1.024983e+06      1.000000\n",
       "max    2020-09-07 00:00:00  1.371975e+06      1.000000\n",
       "std                    NaN  3.960435e+05      0.390072"
      ],
      "text/html": [
       "<div>\n",
       "<style scoped>\n",
       "    .dataframe tbody tr th:only-of-type {\n",
       "        vertical-align: middle;\n",
       "    }\n",
       "\n",
       "    .dataframe tbody tr th {\n",
       "        vertical-align: top;\n",
       "    }\n",
       "\n",
       "    .dataframe thead th {\n",
       "        text-align: right;\n",
       "    }\n",
       "</style>\n",
       "<table border=\"1\" class=\"dataframe\">\n",
       "  <thead>\n",
       "    <tr style=\"text-align: right;\">\n",
       "      <th></th>\n",
       "      <th>timestamp</th>\n",
       "      <th>customer_id</th>\n",
       "      <th>churn</th>\n",
       "    </tr>\n",
       "  </thead>\n",
       "  <tbody>\n",
       "    <tr>\n",
       "      <th>count</th>\n",
       "      <td>76556</td>\n",
       "      <td>7.655600e+04</td>\n",
       "      <td>76556.000000</td>\n",
       "    </tr>\n",
       "    <tr>\n",
       "      <th>mean</th>\n",
       "      <td>2020-09-07 00:00:00</td>\n",
       "      <td>6.840053e+05</td>\n",
       "      <td>0.812804</td>\n",
       "    </tr>\n",
       "    <tr>\n",
       "      <th>min</th>\n",
       "      <td>2020-09-07 00:00:00</td>\n",
       "      <td>0.000000e+00</td>\n",
       "      <td>0.000000</td>\n",
       "    </tr>\n",
       "    <tr>\n",
       "      <th>25%</th>\n",
       "      <td>2020-09-07 00:00:00</td>\n",
       "      <td>3.402850e+05</td>\n",
       "      <td>1.000000</td>\n",
       "    </tr>\n",
       "    <tr>\n",
       "      <th>50%</th>\n",
       "      <td>2020-09-07 00:00:00</td>\n",
       "      <td>6.849775e+05</td>\n",
       "      <td>1.000000</td>\n",
       "    </tr>\n",
       "    <tr>\n",
       "      <th>75%</th>\n",
       "      <td>2020-09-07 00:00:00</td>\n",
       "      <td>1.024983e+06</td>\n",
       "      <td>1.000000</td>\n",
       "    </tr>\n",
       "    <tr>\n",
       "      <th>max</th>\n",
       "      <td>2020-09-07 00:00:00</td>\n",
       "      <td>1.371975e+06</td>\n",
       "      <td>1.000000</td>\n",
       "    </tr>\n",
       "    <tr>\n",
       "      <th>std</th>\n",
       "      <td>NaN</td>\n",
       "      <td>3.960435e+05</td>\n",
       "      <td>0.390072</td>\n",
       "    </tr>\n",
       "  </tbody>\n",
       "</table>\n",
       "</div>"
      ]
     },
     "execution_count": 37,
     "metadata": {},
     "output_type": "execute_result"
    }
   ],
   "execution_count": 37
  },
  {
   "metadata": {
    "ExecuteTime": {
     "end_time": "2025-06-17T17:24:23.156868Z",
     "start_time": "2025-06-17T17:24:23.153653Z"
    }
   },
   "cell_type": "code",
   "source": [
    "user_churn_train_labels = train_df.churn.to_numpy()\n",
    "user_churn_test_labels = test_df.churn.to_numpy()\n",
    "user_churn_val_labels = val_df.churn.to_numpy()"
   ],
   "id": "c734cea67e2da292",
   "outputs": [],
   "execution_count": 38
  },
  {
   "metadata": {
    "ExecuteTime": {
     "end_time": "2025-06-17T17:24:24.195539Z",
     "start_time": "2025-06-17T17:24:24.030027Z"
    }
   },
   "cell_type": "code",
   "source": [
    "fig, ax = plt.subplots(1, 3, figsize=(15, 4))\n",
    "ax = ax.reshape((-1))\n",
    "\n",
    "plot_binary_dist(ax[0], user_churn_train_labels, 'Count', 'Train Set')\n",
    "plot_binary_dist(ax[1], user_churn_test_labels, 'Count', 'Test Set')\n",
    "plot_binary_dist(ax[2], user_churn_val_labels, 'Count', 'Validation Set')\n",
    "\n",
    "plt.savefig('user_churn_dist.pdf')\n",
    "plt.show()"
   ],
   "id": "72c173e0f4c1ffd7",
   "outputs": [
    {
     "data": {
      "text/plain": [
       "<Figure size 1500x400 with 3 Axes>"
      ],
      "image/png": "[encoded data removed]"
     },
     "metadata": {},
     "output_type": "display_data"
    }
   ],
   "execution_count": 39
  },
  {
   "metadata": {
    "ExecuteTime": {
     "end_time": "2025-06-17T17:24:24.647833Z",
     "start_time": "2025-06-17T17:24:24.506697Z"
    }
   },
   "cell_type": "code",
   "source": [
    "%%sql train_df <<\n",
    "from item_sales_train"
   ],
   "id": "78b234b44b8391dd",
   "outputs": [],
   "execution_count": 40
  },
  {
   "metadata": {
    "ExecuteTime": {
     "end_time": "2025-06-17T17:24:26.316210Z",
     "start_time": "2025-06-17T17:24:26.308810Z"
    }
   },
   "cell_type": "code",
   "source": [
    "%%sql test_df <<\n",
    "from item_sales_test"
   ],
   "id": "66ba9e0f49f00a61",
   "outputs": [],
   "execution_count": 41
  },
  {
   "metadata": {
    "ExecuteTime": {
     "end_time": "2025-06-17T17:24:27.097874Z",
     "start_time": "2025-06-17T17:24:27.088660Z"
    }
   },
   "cell_type": "code",
   "source": [
    "%%sql val_df <<\n",
    "from item_sales_val"
   ],
   "id": "c51cdac2724cffb1",
   "outputs": [],
   "execution_count": 42
  },
  {
   "metadata": {
    "ExecuteTime": {
     "end_time": "2025-06-17T17:24:32.230577Z",
     "start_time": "2025-06-17T17:24:32.224457Z"
    }
   },
   "cell_type": "code",
   "source": "train_df.head()",
   "id": "3f5b28ed40a65cb4",
   "outputs": [
    {
     "data": {
      "text/plain": [
       "   timestamp  article_id     sales\n",
       "0 2020-06-01       83325  2.728000\n",
       "1 2020-06-01       50838  0.758051\n",
       "2 2020-06-01       86874  1.337610\n",
       "3 2020-06-01       89952  1.306220\n",
       "4 2020-06-01       79129  0.271119"
      ],
      "text/html": [
       "<div>\n",
       "<style scoped>\n",
       "    .dataframe tbody tr th:only-of-type {\n",
       "        vertical-align: middle;\n",
       "    }\n",
       "\n",
       "    .dataframe tbody tr th {\n",
       "        vertical-align: top;\n",
       "    }\n",
       "\n",
       "    .dataframe thead th {\n",
       "        text-align: right;\n",
       "    }\n",
       "</style>\n",
       "<table border=\"1\" class=\"dataframe\">\n",
       "  <thead>\n",
       "    <tr style=\"text-align: right;\">\n",
       "      <th></th>\n",
       "      <th>timestamp</th>\n",
       "      <th>article_id</th>\n",
       "      <th>sales</th>\n",
       "    </tr>\n",
       "  </thead>\n",
       "  <tbody>\n",
       "    <tr>\n",
       "      <th>0</th>\n",
       "      <td>2020-06-01</td>\n",
       "      <td>83325</td>\n",
       "      <td>2.728000</td>\n",
       "    </tr>\n",
       "    <tr>\n",
       "      <th>1</th>\n",
       "      <td>2020-06-01</td>\n",
       "      <td>50838</td>\n",
       "      <td>0.758051</td>\n",
       "    </tr>\n",
       "    <tr>\n",
       "      <th>2</th>\n",
       "      <td>2020-06-01</td>\n",
       "      <td>86874</td>\n",
       "      <td>1.337610</td>\n",
       "    </tr>\n",
       "    <tr>\n",
       "      <th>3</th>\n",
       "      <td>2020-06-01</td>\n",
       "      <td>89952</td>\n",
       "      <td>1.306220</td>\n",
       "    </tr>\n",
       "    <tr>\n",
       "      <th>4</th>\n",
       "      <td>2020-06-01</td>\n",
       "      <td>79129</td>\n",
       "      <td>0.271119</td>\n",
       "    </tr>\n",
       "  </tbody>\n",
       "</table>\n",
       "</div>"
      ]
     },
     "execution_count": 43,
     "metadata": {},
     "output_type": "execute_result"
    }
   ],
   "execution_count": 43
  },
  {
   "metadata": {
    "ExecuteTime": {
     "end_time": "2025-06-17T17:24:33.194402Z",
     "start_time": "2025-06-17T17:24:32.970864Z"
    }
   },
   "cell_type": "code",
   "source": "train_df.describe()",
   "id": "61eacd714ef1fd3d",
   "outputs": [
    {
     "data": {
      "text/plain": [
       "                           timestamp    article_id         sales\n",
       "count                        5488184  5.488184e+06  5.488184e+06\n",
       "mean   2020-03-05 12:00:00.000000512  5.277050e+04  7.596521e-02\n",
       "min              2019-09-09 00:00:00  0.000000e+00  0.000000e+00\n",
       "25%              2019-12-07 06:00:00  2.638500e+04  0.000000e+00\n",
       "50%              2020-03-05 12:00:00  5.277050e+04  0.000000e+00\n",
       "75%              2020-06-02 18:00:00  7.915600e+04  0.000000e+00\n",
       "max              2020-08-31 00:00:00  1.055410e+05  8.716259e+01\n",
       "std                              NaN  3.046735e+04  4.953213e-01"
      ],
      "text/html": [
       "<div>\n",
       "<style scoped>\n",
       "    .dataframe tbody tr th:only-of-type {\n",
       "        vertical-align: middle;\n",
       "    }\n",
       "\n",
       "    .dataframe tbody tr th {\n",
       "        vertical-align: top;\n",
       "    }\n",
       "\n",
       "    .dataframe thead th {\n",
       "        text-align: right;\n",
       "    }\n",
       "</style>\n",
       "<table border=\"1\" class=\"dataframe\">\n",
       "  <thead>\n",
       "    <tr style=\"text-align: right;\">\n",
       "      <th></th>\n",
       "      <th>timestamp</th>\n",
       "      <th>article_id</th>\n",
       "      <th>sales</th>\n",
       "    </tr>\n",
       "  </thead>\n",
       "  <tbody>\n",
       "    <tr>\n",
       "      <th>count</th>\n",
       "      <td>5488184</td>\n",
       "      <td>5.488184e+06</td>\n",
       "      <td>5.488184e+06</td>\n",
       "    </tr>\n",
       "    <tr>\n",
       "      <th>mean</th>\n",
       "      <td>2020-03-05 12:00:00.000000512</td>\n",
       "      <td>5.277050e+04</td>\n",
       "      <td>7.596521e-02</td>\n",
       "    </tr>\n",
       "    <tr>\n",
       "      <th>min</th>\n",
       "      <td>2019-09-09 00:00:00</td>\n",
       "      <td>0.000000e+00</td>\n",
       "      <td>0.000000e+00</td>\n",
       "    </tr>\n",
       "    <tr>\n",
       "      <th>25%</th>\n",
       "      <td>2019-12-07 06:00:00</td>\n",
       "      <td>2.638500e+04</td>\n",
       "      <td>0.000000e+00</td>\n",
       "    </tr>\n",
       "    <tr>\n",
       "      <th>50%</th>\n",
       "      <td>2020-03-05 12:00:00</td>\n",
       "      <td>5.277050e+04</td>\n",
       "      <td>0.000000e+00</td>\n",
       "    </tr>\n",
       "    <tr>\n",
       "      <th>75%</th>\n",
       "      <td>2020-06-02 18:00:00</td>\n",
       "      <td>7.915600e+04</td>\n",
       "      <td>0.000000e+00</td>\n",
       "    </tr>\n",
       "    <tr>\n",
       "      <th>max</th>\n",
       "      <td>2020-08-31 00:00:00</td>\n",
       "      <td>1.055410e+05</td>\n",
       "      <td>8.716259e+01</td>\n",
       "    </tr>\n",
       "    <tr>\n",
       "      <th>std</th>\n",
       "      <td>NaN</td>\n",
       "      <td>3.046735e+04</td>\n",
       "      <td>4.953213e-01</td>\n",
       "    </tr>\n",
       "  </tbody>\n",
       "</table>\n",
       "</div>"
      ]
     },
     "execution_count": 44,
     "metadata": {},
     "output_type": "execute_result"
    }
   ],
   "execution_count": 44
  },
  {
   "metadata": {
    "ExecuteTime": {
     "end_time": "2025-06-17T17:24:33.492222Z",
     "start_time": "2025-06-17T17:24:33.481971Z"
    }
   },
   "cell_type": "code",
   "source": "test_df.describe()",
   "id": "5827319a1fd32f7e",
   "outputs": [
    {
     "data": {
      "text/plain": [
       "                 timestamp     article_id          sales\n",
       "count               105542  105542.000000  105542.000000\n",
       "mean   2020-09-14 00:00:00   52770.500000       0.076087\n",
       "min    2020-09-14 00:00:00       0.000000       0.000000\n",
       "25%    2020-09-14 00:00:00   26385.250000       0.000000\n",
       "50%    2020-09-14 00:00:00   52770.500000       0.000000\n",
       "75%    2020-09-14 00:00:00   79155.750000       0.000000\n",
       "max    2020-09-14 00:00:00  105541.000000      38.314763\n",
       "std                    NaN   30467.495393       0.582710"
      ],
      "text/html": [
       "<div>\n",
       "<style scoped>\n",
       "    .dataframe tbody tr th:only-of-type {\n",
       "        vertical-align: middle;\n",
       "    }\n",
       "\n",
       "    .dataframe tbody tr th {\n",
       "        vertical-align: top;\n",
       "    }\n",
       "\n",
       "    .dataframe thead th {\n",
       "        text-align: right;\n",
       "    }\n",
       "</style>\n",
       "<table border=\"1\" class=\"dataframe\">\n",
       "  <thead>\n",
       "    <tr style=\"text-align: right;\">\n",
       "      <th></th>\n",
       "      <th>timestamp</th>\n",
       "      <th>article_id</th>\n",
       "      <th>sales</th>\n",
       "    </tr>\n",
       "  </thead>\n",
       "  <tbody>\n",
       "    <tr>\n",
       "      <th>count</th>\n",
       "      <td>105542</td>\n",
       "      <td>105542.000000</td>\n",
       "      <td>105542.000000</td>\n",
       "    </tr>\n",
       "    <tr>\n",
       "      <th>mean</th>\n",
       "      <td>2020-09-14 00:00:00</td>\n",
       "      <td>52770.500000</td>\n",
       "      <td>0.076087</td>\n",
       "    </tr>\n",
       "    <tr>\n",
       "      <th>min</th>\n",
       "      <td>2020-09-14 00:00:00</td>\n",
       "      <td>0.000000</td>\n",
       "      <td>0.000000</td>\n",
       "    </tr>\n",
       "    <tr>\n",
       "      <th>25%</th>\n",
       "      <td>2020-09-14 00:00:00</td>\n",
       "      <td>26385.250000</td>\n",
       "      <td>0.000000</td>\n",
       "    </tr>\n",
       "    <tr>\n",
       "      <th>50%</th>\n",
       "      <td>2020-09-14 00:00:00</td>\n",
       "      <td>52770.500000</td>\n",
       "      <td>0.000000</td>\n",
       "    </tr>\n",
       "    <tr>\n",
       "      <th>75%</th>\n",
       "      <td>2020-09-14 00:00:00</td>\n",
       "      <td>79155.750000</td>\n",
       "      <td>0.000000</td>\n",
       "    </tr>\n",
       "    <tr>\n",
       "      <th>max</th>\n",
       "      <td>2020-09-14 00:00:00</td>\n",
       "      <td>105541.000000</td>\n",
       "      <td>38.314763</td>\n",
       "    </tr>\n",
       "    <tr>\n",
       "      <th>std</th>\n",
       "      <td>NaN</td>\n",
       "      <td>30467.495393</td>\n",
       "      <td>0.582710</td>\n",
       "    </tr>\n",
       "  </tbody>\n",
       "</table>\n",
       "</div>"
      ]
     },
     "execution_count": 45,
     "metadata": {},
     "output_type": "execute_result"
    }
   ],
   "execution_count": 45
  },
  {
   "metadata": {
    "ExecuteTime": {
     "end_time": "2025-06-17T17:24:34.035473Z",
     "start_time": "2025-06-17T17:24:34.025285Z"
    }
   },
   "cell_type": "code",
   "source": "val_df.describe()",
   "id": "b92fb8f78645924c",
   "outputs": [
    {
     "data": {
      "text/plain": [
       "                 timestamp     article_id          sales\n",
       "count               105542  105542.000000  105542.000000\n",
       "mean   2020-09-07 00:00:00   52770.500000       0.085690\n",
       "min    2020-09-07 00:00:00       0.000000       0.000000\n",
       "25%    2020-09-07 00:00:00   26385.250000       0.000000\n",
       "50%    2020-09-07 00:00:00   52770.500000       0.000000\n",
       "75%    2020-09-07 00:00:00   79155.750000       0.000000\n",
       "max    2020-09-07 00:00:00  105541.000000      40.364915\n",
       "std                    NaN   30467.495393       0.662294"
      ],
      "text/html": [
       "<div>\n",
       "<style scoped>\n",
       "    .dataframe tbody tr th:only-of-type {\n",
       "        vertical-align: middle;\n",
       "    }\n",
       "\n",
       "    .dataframe tbody tr th {\n",
       "        vertical-align: top;\n",
       "    }\n",
       "\n",
       "    .dataframe thead th {\n",
       "        text-align: right;\n",
       "    }\n",
       "</style>\n",
       "<table border=\"1\" class=\"dataframe\">\n",
       "  <thead>\n",
       "    <tr style=\"text-align: right;\">\n",
       "      <th></th>\n",
       "      <th>timestamp</th>\n",
       "      <th>article_id</th>\n",
       "      <th>sales</th>\n",
       "    </tr>\n",
       "  </thead>\n",
       "  <tbody>\n",
       "    <tr>\n",
       "      <th>count</th>\n",
       "      <td>105542</td>\n",
       "      <td>105542.000000</td>\n",
       "      <td>105542.000000</td>\n",
       "    </tr>\n",
       "    <tr>\n",
       "      <th>mean</th>\n",
       "      <td>2020-09-07 00:00:00</td>\n",
       "      <td>52770.500000</td>\n",
       "      <td>0.085690</td>\n",
       "    </tr>\n",
       "    <tr>\n",
       "      <th>min</th>\n",
       "      <td>2020-09-07 00:00:00</td>\n",
       "      <td>0.000000</td>\n",
       "      <td>0.000000</td>\n",
       "    </tr>\n",
       "    <tr>\n",
       "      <th>25%</th>\n",
       "      <td>2020-09-07 00:00:00</td>\n",
       "      <td>26385.250000</td>\n",
       "      <td>0.000000</td>\n",
       "    </tr>\n",
       "    <tr>\n",
       "      <th>50%</th>\n",
       "      <td>2020-09-07 00:00:00</td>\n",
       "      <td>52770.500000</td>\n",
       "      <td>0.000000</td>\n",
       "    </tr>\n",
       "    <tr>\n",
       "      <th>75%</th>\n",
       "      <td>2020-09-07 00:00:00</td>\n",
       "      <td>79155.750000</td>\n",
       "      <td>0.000000</td>\n",
       "    </tr>\n",
       "    <tr>\n",
       "      <th>max</th>\n",
       "      <td>2020-09-07 00:00:00</td>\n",
       "      <td>105541.000000</td>\n",
       "      <td>40.364915</td>\n",
       "    </tr>\n",
       "    <tr>\n",
       "      <th>std</th>\n",
       "      <td>NaN</td>\n",
       "      <td>30467.495393</td>\n",
       "      <td>0.662294</td>\n",
       "    </tr>\n",
       "  </tbody>\n",
       "</table>\n",
       "</div>"
      ]
     },
     "execution_count": 46,
     "metadata": {},
     "output_type": "execute_result"
    }
   ],
   "execution_count": 46
  },
  {
   "metadata": {
    "ExecuteTime": {
     "end_time": "2025-06-17T17:24:34.681049Z",
     "start_time": "2025-06-17T17:24:34.676960Z"
    }
   },
   "cell_type": "code",
   "source": [
    "item_sales_train_labels = train_df.sales.to_numpy()\n",
    "item_sales_test_labels = test_df.sales.to_numpy()\n",
    "item_sales_val_labels = val_df.sales.to_numpy()"
   ],
   "id": "11554ad995dc6bbe",
   "outputs": [],
   "execution_count": 47
  },
  {
   "metadata": {
    "ExecuteTime": {
     "end_time": "2025-06-17T17:24:37.246215Z",
     "start_time": "2025-06-17T17:24:37.002721Z"
    }
   },
   "cell_type": "code",
   "source": [
    "fig, ax = plt.subplots(1, 3, figsize=(15, 4))\n",
    "ax = ax.reshape((-1))\n",
    "\n",
    "plot_reg_dist(ax[0], item_sales_train_labels, 'Sales', 'Count', 'Train Set')\n",
    "plot_reg_dist(ax[1], item_sales_test_labels, 'Sales', 'Count', 'Test Set')\n",
    "plot_reg_dist(ax[2], item_sales_val_labels, 'Sales', 'Count', 'Validation Set')\n",
    "\n",
    "plt.savefig('item_sales_dist.pdf')\n",
    "plt.show()"
   ],
   "id": "ba14f27ae3fc1ec0",
   "outputs": [
    {
     "data": {
      "text/plain": [
       "<Figure size 1500x400 with 3 Axes>"
      ],
      "image/png": "[encoded data removed]"
     },
     "metadata": {},
     "output_type": "display_data"
    }
   ],
   "execution_count": 48
  },
  {
   "metadata": {
    "ExecuteTime": {
     "end_time": "2025-06-17T17:24:45.564848Z",
     "start_time": "2025-06-17T17:24:39.671475Z"
    }
   },
   "cell_type": "code",
   "source": [
    "sales = np.concatenate([item_sales_train_labels, item_sales_test_labels, item_sales_val_labels])\n",
    "sets = (['Train'] * len(item_sales_train_labels)) + (['Test'] * len(item_sales_test_labels)) + (['Validation'] * len(item_sales_val_labels))\n",
    "\n",
    "df = pd.DataFrame({'Sales': sales, 'Set': sets})\n",
    "\n",
    "fig, ax = plt.subplots()\n",
    "sns.violinplot(x='Set', y='Sales', data=df, ax=ax, palette='Set2')\n",
    "\n",
    "plt.savefig('item_sales_violinplot.pdf')\n",
    "plt.show()"
   ],
   "id": "16cec47a8f200d95",
   "outputs": [
    {
     "name": "stderr",
     "output_type": "stream",
     "text": [
      "/var/folders/0x/klqdyhpj427dvg81kxzyfcvm0000gn/T/ipykernel_93281/3553351894.py:7: FutureWarning:\n",
      "\n",
      "\n",
      "\n",
      "Passing `palette` without assigning `hue` is deprecated and will be removed in v0.14.0. Assign the `x` variable to `hue` and set `legend=False` for the same effect.\n",
      "\n",
      "\n"
     ]
    },
    {
     "data": {
      "text/plain": [
       "<Figure size 640x480 with 1 Axes>"
      ],
      "image/png": "[encoded data removed]"
     },
     "metadata": {},
     "output_type": "display_data"
    }
   ],
   "execution_count": 49
  },
  {
   "metadata": {
    "ExecuteTime": {
     "end_time": "2025-06-17T17:24:45.793223Z",
     "start_time": "2025-06-17T17:24:45.612270Z"
    }
   },
   "cell_type": "code",
   "source": [
    "conn.close()\n",
    "gc.collect()"
   ],
   "id": "60164946c27ca498",
   "outputs": [
    {
     "data": {
      "text/plain": [
       "29308"
      ]
     },
     "execution_count": 50,
     "metadata": {},
     "output_type": "execute_result"
    }
   ],
   "execution_count": 50
  },
  {
   "metadata": {},
   "cell_type": "markdown",
   "source": "# Avito",
   "id": "d9380e148b65cadd"
  },
  {
   "metadata": {
    "ExecuteTime": {
     "end_time": "2025-06-17T17:24:47.471467Z",
     "start_time": "2025-06-17T17:24:47.449617Z"
    }
   },
   "cell_type": "code",
   "source": [
    "conn = duckdb.connect('avito.db')\n",
    "%load_ext sql\n",
    "%sql conn --alias duckdb\n",
    "%config SqlMagic.displaycon=False\n",
    "%config SqlMagic.autopandas=True\n",
    "pio.renderers.default = 'svg'"
   ],
   "id": "8dc4ae372e8e361d",
   "outputs": [
    {
     "name": "stdout",
     "output_type": "stream",
     "text": [
      "The sql extension is already loaded. To reload it, use:\n",
      "  %reload_ext sql\n"
     ]
    }
   ],
   "execution_count": 51
  },
  {
   "metadata": {
    "ExecuteTime": {
     "end_time": "2025-06-17T17:24:47.929630Z",
     "start_time": "2025-06-17T17:24:47.918272Z"
    }
   },
   "cell_type": "code",
   "source": [
    "%%sql train_df <<\n",
    "from user_visits_train"
   ],
   "id": "2ac3628eacf63cf2",
   "outputs": [],
   "execution_count": 52
  },
  {
   "metadata": {
    "ExecuteTime": {
     "end_time": "2025-06-17T17:24:48.380865Z",
     "start_time": "2025-06-17T17:24:48.372741Z"
    }
   },
   "cell_type": "code",
   "source": [
    "%%sql test_df <<\n",
    "from user_visits_test"
   ],
   "id": "d7b4b4df8bec30f6",
   "outputs": [],
   "execution_count": 53
  },
  {
   "metadata": {
    "ExecuteTime": {
     "end_time": "2025-06-17T17:24:48.790425Z",
     "start_time": "2025-06-17T17:24:48.785295Z"
    }
   },
   "cell_type": "code",
   "source": [
    "%%sql val_df <<\n",
    "from user_visits_val"
   ],
   "id": "c464311970884ab2",
   "outputs": [],
   "execution_count": 54
  },
  {
   "metadata": {
    "ExecuteTime": {
     "end_time": "2025-06-17T17:24:49.194918Z",
     "start_time": "2025-06-17T17:24:49.189878Z"
    }
   },
   "cell_type": "code",
   "source": "train_df.head()",
   "id": "a8b9bbe8c7239b62",
   "outputs": [
    {
     "data": {
      "text/plain": [
       "   UserID  timestamp  num_click\n",
       "0   38950 2015-04-26       True\n",
       "1   35404 2015-04-26       True\n",
       "2   85455 2015-04-26       True\n",
       "3    2871 2015-04-26       True\n",
       "4   34600 2015-04-26       True"
      ],
      "text/html": [
       "<div>\n",
       "<style scoped>\n",
       "    .dataframe tbody tr th:only-of-type {\n",
       "        vertical-align: middle;\n",
       "    }\n",
       "\n",
       "    .dataframe tbody tr th {\n",
       "        vertical-align: top;\n",
       "    }\n",
       "\n",
       "    .dataframe thead th {\n",
       "        text-align: right;\n",
       "    }\n",
       "</style>\n",
       "<table border=\"1\" class=\"dataframe\">\n",
       "  <thead>\n",
       "    <tr style=\"text-align: right;\">\n",
       "      <th></th>\n",
       "      <th>UserID</th>\n",
       "      <th>timestamp</th>\n",
       "      <th>num_click</th>\n",
       "    </tr>\n",
       "  </thead>\n",
       "  <tbody>\n",
       "    <tr>\n",
       "      <th>0</th>\n",
       "      <td>38950</td>\n",
       "      <td>2015-04-26</td>\n",
       "      <td>True</td>\n",
       "    </tr>\n",
       "    <tr>\n",
       "      <th>1</th>\n",
       "      <td>35404</td>\n",
       "      <td>2015-04-26</td>\n",
       "      <td>True</td>\n",
       "    </tr>\n",
       "    <tr>\n",
       "      <th>2</th>\n",
       "      <td>85455</td>\n",
       "      <td>2015-04-26</td>\n",
       "      <td>True</td>\n",
       "    </tr>\n",
       "    <tr>\n",
       "      <th>3</th>\n",
       "      <td>2871</td>\n",
       "      <td>2015-04-26</td>\n",
       "      <td>True</td>\n",
       "    </tr>\n",
       "    <tr>\n",
       "      <th>4</th>\n",
       "      <td>34600</td>\n",
       "      <td>2015-04-26</td>\n",
       "      <td>True</td>\n",
       "    </tr>\n",
       "  </tbody>\n",
       "</table>\n",
       "</div>"
      ]
     },
     "execution_count": 55,
     "metadata": {},
     "output_type": "execute_result"
    }
   ],
   "execution_count": 55
  },
  {
   "metadata": {
    "ExecuteTime": {
     "end_time": "2025-06-17T17:24:49.675918Z",
     "start_time": "2025-06-17T17:24:49.671201Z"
    }
   },
   "cell_type": "code",
   "source": [
    "train_df['num_click'] = train_df['num_click'].astype(int)\n",
    "test_df['num_click'] = test_df['num_click'].astype(int)\n",
    "val_df['num_click']= val_df['num_click'].astype(int)\n",
    "\n",
    "train_df.head()"
   ],
   "id": "64e7b5f0874fbb41",
   "outputs": [
    {
     "data": {
      "text/plain": [
       "   UserID  timestamp  num_click\n",
       "0   38950 2015-04-26          1\n",
       "1   35404 2015-04-26          1\n",
       "2   85455 2015-04-26          1\n",
       "3    2871 2015-04-26          1\n",
       "4   34600 2015-04-26          1"
      ],
      "text/html": [
       "<div>\n",
       "<style scoped>\n",
       "    .dataframe tbody tr th:only-of-type {\n",
       "        vertical-align: middle;\n",
       "    }\n",
       "\n",
       "    .dataframe tbody tr th {\n",
       "        vertical-align: top;\n",
       "    }\n",
       "\n",
       "    .dataframe thead th {\n",
       "        text-align: right;\n",
       "    }\n",
       "</style>\n",
       "<table border=\"1\" class=\"dataframe\">\n",
       "  <thead>\n",
       "    <tr style=\"text-align: right;\">\n",
       "      <th></th>\n",
       "      <th>UserID</th>\n",
       "      <th>timestamp</th>\n",
       "      <th>num_click</th>\n",
       "    </tr>\n",
       "  </thead>\n",
       "  <tbody>\n",
       "    <tr>\n",
       "      <th>0</th>\n",
       "      <td>38950</td>\n",
       "      <td>2015-04-26</td>\n",
       "      <td>1</td>\n",
       "    </tr>\n",
       "    <tr>\n",
       "      <th>1</th>\n",
       "      <td>35404</td>\n",
       "      <td>2015-04-26</td>\n",
       "      <td>1</td>\n",
       "    </tr>\n",
       "    <tr>\n",
       "      <th>2</th>\n",
       "      <td>85455</td>\n",
       "      <td>2015-04-26</td>\n",
       "      <td>1</td>\n",
       "    </tr>\n",
       "    <tr>\n",
       "      <th>3</th>\n",
       "      <td>2871</td>\n",
       "      <td>2015-04-26</td>\n",
       "      <td>1</td>\n",
       "    </tr>\n",
       "    <tr>\n",
       "      <th>4</th>\n",
       "      <td>34600</td>\n",
       "      <td>2015-04-26</td>\n",
       "      <td>1</td>\n",
       "    </tr>\n",
       "  </tbody>\n",
       "</table>\n",
       "</div>"
      ]
     },
     "execution_count": 56,
     "metadata": {},
     "output_type": "execute_result"
    }
   ],
   "execution_count": 56
  },
  {
   "metadata": {
    "ExecuteTime": {
     "end_time": "2025-06-17T17:24:50.201595Z",
     "start_time": "2025-06-17T17:24:50.188436Z"
    }
   },
   "cell_type": "code",
   "source": "train_df.describe()",
   "id": "1a0779591704d132",
   "outputs": [
    {
     "data": {
      "text/plain": [
       "             UserID                      timestamp     num_click\n",
       "count  86619.000000                          86619  86619.000000\n",
       "mean   49188.634145  2015-04-30 03:32:15.718491392      0.905887\n",
       "min        0.000000            2015-04-26 00:00:00      0.000000\n",
       "25%    24546.000000            2015-04-26 00:00:00      1.000000\n",
       "50%    49155.000000            2015-04-30 00:00:00      1.000000\n",
       "75%    73782.000000            2015-05-04 00:00:00      1.000000\n",
       "max    98217.000000            2015-05-04 00:00:00      1.000000\n",
       "std    28340.510626                            NaN      0.291988"
      ],
      "text/html": [
       "<div>\n",
       "<style scoped>\n",
       "    .dataframe tbody tr th:only-of-type {\n",
       "        vertical-align: middle;\n",
       "    }\n",
       "\n",
       "    .dataframe tbody tr th {\n",
       "        vertical-align: top;\n",
       "    }\n",
       "\n",
       "    .dataframe thead th {\n",
       "        text-align: right;\n",
       "    }\n",
       "</style>\n",
       "<table border=\"1\" class=\"dataframe\">\n",
       "  <thead>\n",
       "    <tr style=\"text-align: right;\">\n",
       "      <th></th>\n",
       "      <th>UserID</th>\n",
       "      <th>timestamp</th>\n",
       "      <th>num_click</th>\n",
       "    </tr>\n",
       "  </thead>\n",
       "  <tbody>\n",
       "    <tr>\n",
       "      <th>count</th>\n",
       "      <td>86619.000000</td>\n",
       "      <td>86619</td>\n",
       "      <td>86619.000000</td>\n",
       "    </tr>\n",
       "    <tr>\n",
       "      <th>mean</th>\n",
       "      <td>49188.634145</td>\n",
       "      <td>2015-04-30 03:32:15.718491392</td>\n",
       "      <td>0.905887</td>\n",
       "    </tr>\n",
       "    <tr>\n",
       "      <th>min</th>\n",
       "      <td>0.000000</td>\n",
       "      <td>2015-04-26 00:00:00</td>\n",
       "      <td>0.000000</td>\n",
       "    </tr>\n",
       "    <tr>\n",
       "      <th>25%</th>\n",
       "      <td>24546.000000</td>\n",
       "      <td>2015-04-26 00:00:00</td>\n",
       "      <td>1.000000</td>\n",
       "    </tr>\n",
       "    <tr>\n",
       "      <th>50%</th>\n",
       "      <td>49155.000000</td>\n",
       "      <td>2015-04-30 00:00:00</td>\n",
       "      <td>1.000000</td>\n",
       "    </tr>\n",
       "    <tr>\n",
       "      <th>75%</th>\n",
       "      <td>73782.000000</td>\n",
       "      <td>2015-05-04 00:00:00</td>\n",
       "      <td>1.000000</td>\n",
       "    </tr>\n",
       "    <tr>\n",
       "      <th>max</th>\n",
       "      <td>98217.000000</td>\n",
       "      <td>2015-05-04 00:00:00</td>\n",
       "      <td>1.000000</td>\n",
       "    </tr>\n",
       "    <tr>\n",
       "      <th>std</th>\n",
       "      <td>28340.510626</td>\n",
       "      <td>NaN</td>\n",
       "      <td>0.291988</td>\n",
       "    </tr>\n",
       "  </tbody>\n",
       "</table>\n",
       "</div>"
      ]
     },
     "execution_count": 57,
     "metadata": {},
     "output_type": "execute_result"
    }
   ],
   "execution_count": 57
  },
  {
   "metadata": {
    "ExecuteTime": {
     "end_time": "2025-06-17T17:24:50.695200Z",
     "start_time": "2025-06-17T17:24:50.685758Z"
    }
   },
   "cell_type": "code",
   "source": "test_df.describe()",
   "id": "1be786cd970018dc",
   "outputs": [
    {
     "data": {
      "text/plain": [
       "             UserID            timestamp     num_click\n",
       "count  36129.000000                36129  36129.000000\n",
       "mean   49140.150267  2015-05-14 00:00:00      0.850591\n",
       "min        3.000000  2015-05-14 00:00:00      0.000000\n",
       "25%    24634.000000  2015-05-14 00:00:00      1.000000\n",
       "50%    49071.000000  2015-05-14 00:00:00      1.000000\n",
       "75%    73700.000000  2015-05-14 00:00:00      1.000000\n",
       "max    98139.000000  2015-05-14 00:00:00      1.000000\n",
       "std    28335.916937                  NaN      0.356496"
      ],
      "text/html": [
       "<div>\n",
       "<style scoped>\n",
       "    .dataframe tbody tr th:only-of-type {\n",
       "        vertical-align: middle;\n",
       "    }\n",
       "\n",
       "    .dataframe tbody tr th {\n",
       "        vertical-align: top;\n",
       "    }\n",
       "\n",
       "    .dataframe thead th {\n",
       "        text-align: right;\n",
       "    }\n",
       "</style>\n",
       "<table border=\"1\" class=\"dataframe\">\n",
       "  <thead>\n",
       "    <tr style=\"text-align: right;\">\n",
       "      <th></th>\n",
       "      <th>UserID</th>\n",
       "      <th>timestamp</th>\n",
       "      <th>num_click</th>\n",
       "    </tr>\n",
       "  </thead>\n",
       "  <tbody>\n",
       "    <tr>\n",
       "      <th>count</th>\n",
       "      <td>36129.000000</td>\n",
       "      <td>36129</td>\n",
       "      <td>36129.000000</td>\n",
       "    </tr>\n",
       "    <tr>\n",
       "      <th>mean</th>\n",
       "      <td>49140.150267</td>\n",
       "      <td>2015-05-14 00:00:00</td>\n",
       "      <td>0.850591</td>\n",
       "    </tr>\n",
       "    <tr>\n",
       "      <th>min</th>\n",
       "      <td>3.000000</td>\n",
       "      <td>2015-05-14 00:00:00</td>\n",
       "      <td>0.000000</td>\n",
       "    </tr>\n",
       "    <tr>\n",
       "      <th>25%</th>\n",
       "      <td>24634.000000</td>\n",
       "      <td>2015-05-14 00:00:00</td>\n",
       "      <td>1.000000</td>\n",
       "    </tr>\n",
       "    <tr>\n",
       "      <th>50%</th>\n",
       "      <td>49071.000000</td>\n",
       "      <td>2015-05-14 00:00:00</td>\n",
       "      <td>1.000000</td>\n",
       "    </tr>\n",
       "    <tr>\n",
       "      <th>75%</th>\n",
       "      <td>73700.000000</td>\n",
       "      <td>2015-05-14 00:00:00</td>\n",
       "      <td>1.000000</td>\n",
       "    </tr>\n",
       "    <tr>\n",
       "      <th>max</th>\n",
       "      <td>98139.000000</td>\n",
       "      <td>2015-05-14 00:00:00</td>\n",
       "      <td>1.000000</td>\n",
       "    </tr>\n",
       "    <tr>\n",
       "      <th>std</th>\n",
       "      <td>28335.916937</td>\n",
       "      <td>NaN</td>\n",
       "      <td>0.356496</td>\n",
       "    </tr>\n",
       "  </tbody>\n",
       "</table>\n",
       "</div>"
      ]
     },
     "execution_count": 58,
     "metadata": {},
     "output_type": "execute_result"
    }
   ],
   "execution_count": 58
  },
  {
   "metadata": {
    "ExecuteTime": {
     "end_time": "2025-06-17T17:24:51.165059Z",
     "start_time": "2025-06-17T17:24:51.157174Z"
    }
   },
   "cell_type": "code",
   "source": "val_df.describe()",
   "id": "6abe97779569f091",
   "outputs": [
    {
     "data": {
      "text/plain": [
       "             UserID            timestamp     num_click\n",
       "count  29979.000000                29979  29979.000000\n",
       "mean   48963.380366  2015-05-08 00:00:00      0.903499\n",
       "min        3.000000  2015-05-08 00:00:00      0.000000\n",
       "25%    24184.500000  2015-05-08 00:00:00      1.000000\n",
       "50%    48899.000000  2015-05-08 00:00:00      1.000000\n",
       "75%    73513.000000  2015-05-08 00:00:00      1.000000\n",
       "max    98136.000000  2015-05-08 00:00:00      1.000000\n",
       "std    28338.941071                  NaN      0.295282"
      ],
      "text/html": [
       "<div>\n",
       "<style scoped>\n",
       "    .dataframe tbody tr th:only-of-type {\n",
       "        vertical-align: middle;\n",
       "    }\n",
       "\n",
       "    .dataframe tbody tr th {\n",
       "        vertical-align: top;\n",
       "    }\n",
       "\n",
       "    .dataframe thead th {\n",
       "        text-align: right;\n",
       "    }\n",
       "</style>\n",
       "<table border=\"1\" class=\"dataframe\">\n",
       "  <thead>\n",
       "    <tr style=\"text-align: right;\">\n",
       "      <th></th>\n",
       "      <th>UserID</th>\n",
       "      <th>timestamp</th>\n",
       "      <th>num_click</th>\n",
       "    </tr>\n",
       "  </thead>\n",
       "  <tbody>\n",
       "    <tr>\n",
       "      <th>count</th>\n",
       "      <td>29979.000000</td>\n",
       "      <td>29979</td>\n",
       "      <td>29979.000000</td>\n",
       "    </tr>\n",
       "    <tr>\n",
       "      <th>mean</th>\n",
       "      <td>48963.380366</td>\n",
       "      <td>2015-05-08 00:00:00</td>\n",
       "      <td>0.903499</td>\n",
       "    </tr>\n",
       "    <tr>\n",
       "      <th>min</th>\n",
       "      <td>3.000000</td>\n",
       "      <td>2015-05-08 00:00:00</td>\n",
       "      <td>0.000000</td>\n",
       "    </tr>\n",
       "    <tr>\n",
       "      <th>25%</th>\n",
       "      <td>24184.500000</td>\n",
       "      <td>2015-05-08 00:00:00</td>\n",
       "      <td>1.000000</td>\n",
       "    </tr>\n",
       "    <tr>\n",
       "      <th>50%</th>\n",
       "      <td>48899.000000</td>\n",
       "      <td>2015-05-08 00:00:00</td>\n",
       "      <td>1.000000</td>\n",
       "    </tr>\n",
       "    <tr>\n",
       "      <th>75%</th>\n",
       "      <td>73513.000000</td>\n",
       "      <td>2015-05-08 00:00:00</td>\n",
       "      <td>1.000000</td>\n",
       "    </tr>\n",
       "    <tr>\n",
       "      <th>max</th>\n",
       "      <td>98136.000000</td>\n",
       "      <td>2015-05-08 00:00:00</td>\n",
       "      <td>1.000000</td>\n",
       "    </tr>\n",
       "    <tr>\n",
       "      <th>std</th>\n",
       "      <td>28338.941071</td>\n",
       "      <td>NaN</td>\n",
       "      <td>0.295282</td>\n",
       "    </tr>\n",
       "  </tbody>\n",
       "</table>\n",
       "</div>"
      ]
     },
     "execution_count": 59,
     "metadata": {},
     "output_type": "execute_result"
    }
   ],
   "execution_count": 59
  },
  {
   "metadata": {
    "ExecuteTime": {
     "end_time": "2025-06-17T17:24:51.628738Z",
     "start_time": "2025-06-17T17:24:51.626671Z"
    }
   },
   "cell_type": "code",
   "source": [
    "user_visits_train_labels = train_df.num_click.to_numpy()\n",
    "user_visits_test_labels = test_df.num_click.to_numpy()\n",
    "user_visits_val_labels = val_df.num_click.to_numpy()"
   ],
   "id": "83f11bd78e491e8a",
   "outputs": [],
   "execution_count": 60
  },
  {
   "metadata": {
    "ExecuteTime": {
     "end_time": "2025-06-17T17:24:52.233850Z",
     "start_time": "2025-06-17T17:24:52.080307Z"
    }
   },
   "cell_type": "code",
   "source": [
    "fig, ax = plt.subplots(1, 3, figsize=(15, 4))\n",
    "ax = ax.reshape((-1))\n",
    "\n",
    "plot_binary_dist(ax[0], user_visits_train_labels, 'Count', 'Train Set')\n",
    "plot_binary_dist(ax[1], user_visits_test_labels, 'Count', 'Test Set')\n",
    "plot_binary_dist(ax[2], user_visits_val_labels, 'Count', 'Validation Set')\n",
    "\n",
    "plt.savefig('user_visits_dist.pdf')\n",
    "plt.show()"
   ],
   "id": "b350aab506b3707e",
   "outputs": [
    {
     "data": {
      "text/plain": [
       "<Figure size 1500x400 with 3 Axes>"
      ],
      "image/png": "[encoded data removed]"
     },
     "metadata": {},
     "output_type": "display_data"
    }
   ],
   "execution_count": 61
  },
  {
   "metadata": {
    "ExecuteTime": {
     "end_time": "2025-06-17T17:24:55.855409Z",
     "start_time": "2025-06-17T17:24:52.657433Z"
    }
   },
   "cell_type": "code",
   "source": [
    "%%sql all_joined <<\n",
    "SELECT\n",
    "-- from SearchInfo / SearchStream\n",
    "SI.SearchID,\n",
    "SI.UserID,\n",
    "SI.IPID       AS SearchIPID,\n",
    "SI.SearchDate,\n",
    "SI.IsUserLoggedOn,\n",
    "SI.SearchQuery,\n",
    "SI.LocationID AS SearchLocationID,\n",
    "SI.CategoryID AS SearchCategoryID,\n",
    "\n",
    "SS.AdID,\n",
    "SS.Position,\n",
    "SS.ObjectType,\n",
    "SS.HistCTR,\n",
    "SS.IsClick,\n",
    "\n",
    "-- from AdsInfo\n",
    "A.Price,\n",
    "A.Title,\n",
    "A.IsContext,\n",
    "A.LocationID AS AdLocationID,\n",
    "A.CategoryID AS AdCategoryID,\n",
    "\n",
    "-- from Category (via AdCategoryID)\n",
    "C.Level         AS AdCategoryLevel,\n",
    "C.ParentCategoryID,\n",
    "C.SubcategoryID,\n",
    "\n",
    "-- from Location (via AdLocationID)\n",
    "L.Level         AS AdLocationLevel,\n",
    "L.RegionID      AS AdRegionID,\n",
    "L.CityID        AS AdCityID,\n",
    "\n",
    "-- from UserInfo\n",
    "U.UserAgentID,\n",
    "U.UserAgentOSID,\n",
    "U.UserAgentFamilyID,\n",
    "U.UserDeviceID,\n",
    "\n",
    "-- from VisitStream (may be NULL)\n",
    "VS.ViewDate     AS VisitDate,\n",
    "\n",
    "-- from PhoneRequestsStream (may be NULL)\n",
    "PRS.PhoneRequestDate\n",
    "\n",
    "FROM SearchStream SS\n",
    "JOIN SearchInfo       SI  USING (SearchID)\n",
    "JOIN AdsInfo          A   USING (AdID)\n",
    "JOIN Category         C   ON A.CategoryID = C.CategoryID\n",
    "JOIN Location         L   ON A.LocationID = L.LocationID\n",
    "JOIN UserInfo         U   USING (UserID)\n",
    "LEFT JOIN VisitStream VS  ON VS.UserID = U.UserID\n",
    "AND VS.AdID   = A.AdID\n",
    "LEFT JOIN PhoneRequestsStream PRS\n",
    "ON PRS.UserID = U.UserID\n",
    "AND PRS.AdID   = A.AdID\n",
    ";"
   ],
   "id": "2fb9fbca94805ce3",
   "outputs": [],
   "execution_count": 62
  },
  {
   "metadata": {
    "ExecuteTime": {
     "end_time": "2025-06-17T17:24:55.891714Z",
     "start_time": "2025-06-17T17:24:55.882315Z"
    }
   },
   "cell_type": "code",
   "source": "all_joined.head()",
   "id": "99c1cac85238fa25",
   "outputs": [
    {
     "data": {
      "text/plain": [
       "   SearchID  UserID  SearchIPID          SearchDate  IsUserLoggedOn  \\\n",
       "0   1593598   38731    754962.0 2015-05-11 07:48:27             1.0   \n",
       "1    770902   38893    376158.0 2015-05-03 15:50:57             0.0   \n",
       "2   1694708   21528   1882135.0 2015-05-11 22:25:05             0.0   \n",
       "3    931459   10729    271955.0 2015-05-04 23:44:02             0.0   \n",
       "4   1084277   66701   2097689.0 2015-05-06 11:35:42             0.0   \n",
       "\n",
       "  SearchQuery  SearchLocationID  SearchCategoryID    AdID  Position  ...  \\\n",
       "0        None               418                57  491536       7.0  ...   \n",
       "1        None                21                34  491550       8.0  ...   \n",
       "2        None               401                34  491552       2.0  ...   \n",
       "3        None               259                 4  491554       2.0  ...   \n",
       "4        None               341                38  491595       2.0  ...   \n",
       "\n",
       "   SubcategoryID  AdLocationLevel  AdRegionID  AdCityID UserAgentID  \\\n",
       "0             37              3.0        54.0     454.0     33726.0   \n",
       "1              7              3.0        33.0    2391.0     12505.0   \n",
       "2              7              3.0        67.0     618.0     29432.0   \n",
       "3             39              3.0         4.0    2142.0     23919.0   \n",
       "4             44              3.0        19.0    1850.0     44052.0   \n",
       "\n",
       "   UserAgentOSID  UserAgentFamilyID  UserDeviceID           VisitDate  \\\n",
       "0           20.0               62.0        2014.0 2015-05-08 17:24:56   \n",
       "1           20.0               85.0        2014.0 2015-05-03 14:17:38   \n",
       "2           20.0               15.0        2014.0 2015-05-11 22:24:46   \n",
       "3            7.0                7.0        2014.0 2015-05-04 23:43:50   \n",
       "4           20.0               25.0        2014.0 2015-05-06 11:35:53   \n",
       "\n",
       "   PhoneRequestDate  \n",
       "0               NaT  \n",
       "1               NaT  \n",
       "2               NaT  \n",
       "3               NaT  \n",
       "4               NaT  \n",
       "\n",
       "[5 rows x 30 columns]"
      ],
      "text/html": [
       "<div>\n",
       "<style scoped>\n",
       "    .dataframe tbody tr th:only-of-type {\n",
       "        vertical-align: middle;\n",
       "    }\n",
       "\n",
       "    .dataframe tbody tr th {\n",
       "        vertical-align: top;\n",
       "    }\n",
       "\n",
       "    .dataframe thead th {\n",
       "        text-align: right;\n",
       "    }\n",
       "</style>\n",
       "<table border=\"1\" class=\"dataframe\">\n",
       "  <thead>\n",
       "    <tr style=\"text-align: right;\">\n",
       "      <th></th>\n",
       "      <th>SearchID</th>\n",
       "      <th>UserID</th>\n",
       "      <th>SearchIPID</th>\n",
       "      <th>SearchDate</th>\n",
       "      <th>IsUserLoggedOn</th>\n",
       "      <th>SearchQuery</th>\n",
       "      <th>SearchLocationID</th>\n",
       "      <th>SearchCategoryID</th>\n",
       "      <th>AdID</th>\n",
       "      <th>Position</th>\n",
       "      <th>...</th>\n",
       "      <th>SubcategoryID</th>\n",
       "      <th>AdLocationLevel</th>\n",
       "      <th>AdRegionID</th>\n",
       "      <th>AdCityID</th>\n",
       "      <th>UserAgentID</th>\n",
       "      <th>UserAgentOSID</th>\n",
       "      <th>UserAgentFamilyID</th>\n",
       "      <th>UserDeviceID</th>\n",
       "      <th>VisitDate</th>\n",
       "      <th>PhoneRequestDate</th>\n",
       "    </tr>\n",
       "  </thead>\n",
       "  <tbody>\n",
       "    <tr>\n",
       "      <th>0</th>\n",
       "      <td>1593598</td>\n",
       "      <td>38731</td>\n",
       "      <td>754962.0</td>\n",
       "      <td>2015-05-11 07:48:27</td>\n",
       "      <td>1.0</td>\n",
       "      <td>None</td>\n",
       "      <td>418</td>\n",
       "      <td>57</td>\n",
       "      <td>491536</td>\n",
       "      <td>7.0</td>\n",
       "      <td>...</td>\n",
       "      <td>37</td>\n",
       "      <td>3.0</td>\n",
       "      <td>54.0</td>\n",
       "      <td>454.0</td>\n",
       "      <td>33726.0</td>\n",
       "      <td>20.0</td>\n",
       "      <td>62.0</td>\n",
       "      <td>2014.0</td>\n",
       "      <td>2015-05-08 17:24:56</td>\n",
       "      <td>NaT</td>\n",
       "    </tr>\n",
       "    <tr>\n",
       "      <th>1</th>\n",
       "      <td>770902</td>\n",
       "      <td>38893</td>\n",
       "      <td>376158.0</td>\n",
       "      <td>2015-05-03 15:50:57</td>\n",
       "      <td>0.0</td>\n",
       "      <td>None</td>\n",
       "      <td>21</td>\n",
       "      <td>34</td>\n",
       "      <td>491550</td>\n",
       "      <td>8.0</td>\n",
       "      <td>...</td>\n",
       "      <td>7</td>\n",
       "      <td>3.0</td>\n",
       "      <td>33.0</td>\n",
       "      <td>2391.0</td>\n",
       "      <td>12505.0</td>\n",
       "      <td>20.0</td>\n",
       "      <td>85.0</td>\n",
       "      <td>2014.0</td>\n",
       "      <td>2015-05-03 14:17:38</td>\n",
       "      <td>NaT</td>\n",
       "    </tr>\n",
       "    <tr>\n",
       "      <th>2</th>\n",
       "      <td>1694708</td>\n",
       "      <td>21528</td>\n",
       "      <td>1882135.0</td>\n",
       "      <td>2015-05-11 22:25:05</td>\n",
       "      <td>0.0</td>\n",
       "      <td>None</td>\n",
       "      <td>401</td>\n",
       "      <td>34</td>\n",
       "      <td>491552</td>\n",
       "      <td>2.0</td>\n",
       "      <td>...</td>\n",
       "      <td>7</td>\n",
       "      <td>3.0</td>\n",
       "      <td>67.0</td>\n",
       "      <td>618.0</td>\n",
       "      <td>29432.0</td>\n",
       "      <td>20.0</td>\n",
       "      <td>15.0</td>\n",
       "      <td>2014.0</td>\n",
       "      <td>2015-05-11 22:24:46</td>\n",
       "      <td>NaT</td>\n",
       "    </tr>\n",
       "    <tr>\n",
       "      <th>3</th>\n",
       "      <td>931459</td>\n",
       "      <td>10729</td>\n",
       "      <td>271955.0</td>\n",
       "      <td>2015-05-04 23:44:02</td>\n",
       "      <td>0.0</td>\n",
       "      <td>None</td>\n",
       "      <td>259</td>\n",
       "      <td>4</td>\n",
       "      <td>491554</td>\n",
       "      <td>2.0</td>\n",
       "      <td>...</td>\n",
       "      <td>39</td>\n",
       "      <td>3.0</td>\n",
       "      <td>4.0</td>\n",
       "      <td>2142.0</td>\n",
       "      <td>23919.0</td>\n",
       "      <td>7.0</td>\n",
       "      <td>7.0</td>\n",
       "      <td>2014.0</td>\n",
       "      <td>2015-05-04 23:43:50</td>\n",
       "      <td>NaT</td>\n",
       "    </tr>\n",
       "    <tr>\n",
       "      <th>4</th>\n",
       "      <td>1084277</td>\n",
       "      <td>66701</td>\n",
       "      <td>2097689.0</td>\n",
       "      <td>2015-05-06 11:35:42</td>\n",
       "      <td>0.0</td>\n",
       "      <td>None</td>\n",
       "      <td>341</td>\n",
       "      <td>38</td>\n",
       "      <td>491595</td>\n",
       "      <td>2.0</td>\n",
       "      <td>...</td>\n",
       "      <td>44</td>\n",
       "      <td>3.0</td>\n",
       "      <td>19.0</td>\n",
       "      <td>1850.0</td>\n",
       "      <td>44052.0</td>\n",
       "      <td>20.0</td>\n",
       "      <td>25.0</td>\n",
       "      <td>2014.0</td>\n",
       "      <td>2015-05-06 11:35:53</td>\n",
       "      <td>NaT</td>\n",
       "    </tr>\n",
       "  </tbody>\n",
       "</table>\n",
       "<p>5 rows × 30 columns</p>\n",
       "</div>"
      ]
     },
     "execution_count": 63,
     "metadata": {},
     "output_type": "execute_result"
    }
   ],
   "execution_count": 63
  },
  {
   "metadata": {
    "ExecuteTime": {
     "end_time": "2025-06-17T17:24:58.654875Z",
     "start_time": "2025-06-17T17:24:55.938044Z"
    }
   },
   "cell_type": "code",
   "source": [
    "plt.subplots(figsize=(15,15))\n",
    "sns.heatmap(all_joined.corr(numeric_only=True), cmap = 'vlag_r', vmin = -1, vmax = 1)\n",
    "\n",
    "plt.savefig('avito_user_visits.pdf')\n",
    "plt.show()"
   ],
   "id": "56ab6464d7e049fb",
   "outputs": [
    {
     "data": {
      "text/plain": [
       "<Figure size 1500x1500 with 2 Axes>"
      ],
      "image/png": "[encoded data removed]"
     },
     "metadata": {},
     "output_type": "display_data"
    }
   ],
   "execution_count": 64
  },
  {
   "metadata": {
    "ExecuteTime": {
     "end_time": "2025-06-17T17:24:58.705374Z",
     "start_time": "2025-06-17T17:24:58.699525Z"
    }
   },
   "cell_type": "code",
   "source": [
    "%%sql train_df <<\n",
    "from ad_ctr_train"
   ],
   "id": "5ebee7c5f06f29cc",
   "outputs": [],
   "execution_count": 65
  },
  {
   "metadata": {
    "ExecuteTime": {
     "end_time": "2025-06-17T17:24:58.752301Z",
     "start_time": "2025-06-17T17:24:58.748811Z"
    }
   },
   "cell_type": "code",
   "source": [
    "%%sql test_df <<\n",
    "from ad_ctr_test"
   ],
   "id": "862ae0210698918c",
   "outputs": [],
   "execution_count": 66
  },
  {
   "metadata": {
    "ExecuteTime": {
     "end_time": "2025-06-17T17:24:58.798360Z",
     "start_time": "2025-06-17T17:24:58.795003Z"
    }
   },
   "cell_type": "code",
   "source": [
    "%%sql val_df <<\n",
    "from ad_ctr_val"
   ],
   "id": "e1a2bef91adf458b",
   "outputs": [],
   "execution_count": 67
  },
  {
   "metadata": {
    "ExecuteTime": {
     "end_time": "2025-06-17T17:24:58.825519Z",
     "start_time": "2025-06-17T17:24:58.818718Z"
    }
   },
   "cell_type": "code",
   "source": "train_df.describe()",
   "id": "5cf60dbab89dbdd7",
   "outputs": [
    {
     "data": {
      "text/plain": [
       "               AdID                      timestamp    num_click\n",
       "count  5.100000e+03                           5100  5100.000000\n",
       "mean   3.015543e+06  2015-04-30 09:24:42.352941312     0.044565\n",
       "min    2.410000e+02            2015-04-26 00:00:00     0.000517\n",
       "25%    1.560212e+06            2015-04-26 00:00:00     0.008197\n",
       "50%    3.022963e+06            2015-04-30 00:00:00     0.017857\n",
       "75%    4.506267e+06            2015-05-04 00:00:00     0.041667\n",
       "max    5.928415e+06            2015-05-04 00:00:00     1.000000\n",
       "std    1.695615e+06                            NaN     0.095675"
      ],
      "text/html": [
       "<div>\n",
       "<style scoped>\n",
       "    .dataframe tbody tr th:only-of-type {\n",
       "        vertical-align: middle;\n",
       "    }\n",
       "\n",
       "    .dataframe tbody tr th {\n",
       "        vertical-align: top;\n",
       "    }\n",
       "\n",
       "    .dataframe thead th {\n",
       "        text-align: right;\n",
       "    }\n",
       "</style>\n",
       "<table border=\"1\" class=\"dataframe\">\n",
       "  <thead>\n",
       "    <tr style=\"text-align: right;\">\n",
       "      <th></th>\n",
       "      <th>AdID</th>\n",
       "      <th>timestamp</th>\n",
       "      <th>num_click</th>\n",
       "    </tr>\n",
       "  </thead>\n",
       "  <tbody>\n",
       "    <tr>\n",
       "      <th>count</th>\n",
       "      <td>5.100000e+03</td>\n",
       "      <td>5100</td>\n",
       "      <td>5100.000000</td>\n",
       "    </tr>\n",
       "    <tr>\n",
       "      <th>mean</th>\n",
       "      <td>3.015543e+06</td>\n",
       "      <td>2015-04-30 09:24:42.352941312</td>\n",
       "      <td>0.044565</td>\n",
       "    </tr>\n",
       "    <tr>\n",
       "      <th>min</th>\n",
       "      <td>2.410000e+02</td>\n",
       "      <td>2015-04-26 00:00:00</td>\n",
       "      <td>0.000517</td>\n",
       "    </tr>\n",
       "    <tr>\n",
       "      <th>25%</th>\n",
       "      <td>1.560212e+06</td>\n",
       "      <td>2015-04-26 00:00:00</td>\n",
       "      <td>0.008197</td>\n",
       "    </tr>\n",
       "    <tr>\n",
       "      <th>50%</th>\n",
       "      <td>3.022963e+06</td>\n",
       "      <td>2015-04-30 00:00:00</td>\n",
       "      <td>0.017857</td>\n",
       "    </tr>\n",
       "    <tr>\n",
       "      <th>75%</th>\n",
       "      <td>4.506267e+06</td>\n",
       "      <td>2015-05-04 00:00:00</td>\n",
       "      <td>0.041667</td>\n",
       "    </tr>\n",
       "    <tr>\n",
       "      <th>max</th>\n",
       "      <td>5.928415e+06</td>\n",
       "      <td>2015-05-04 00:00:00</td>\n",
       "      <td>1.000000</td>\n",
       "    </tr>\n",
       "    <tr>\n",
       "      <th>std</th>\n",
       "      <td>1.695615e+06</td>\n",
       "      <td>NaN</td>\n",
       "      <td>0.095675</td>\n",
       "    </tr>\n",
       "  </tbody>\n",
       "</table>\n",
       "</div>"
      ]
     },
     "execution_count": 68,
     "metadata": {},
     "output_type": "execute_result"
    }
   ],
   "execution_count": 68
  },
  {
   "metadata": {
    "ExecuteTime": {
     "end_time": "2025-06-17T17:24:58.880965Z",
     "start_time": "2025-06-17T17:24:58.874046Z"
    }
   },
   "cell_type": "code",
   "source": "test_df.describe()",
   "id": "d90905af30b0d9fa",
   "outputs": [
    {
     "data": {
      "text/plain": [
       "               AdID            timestamp    num_click\n",
       "count  1.816000e+03                 1816  1816.000000\n",
       "mean   2.953207e+06  2015-05-14 00:00:00     0.052210\n",
       "min    4.659000e+03  2015-05-14 00:00:00     0.000847\n",
       "25%    1.483985e+06  2015-05-14 00:00:00     0.008736\n",
       "50%    2.926594e+06  2015-05-14 00:00:00     0.018913\n",
       "75%    4.436748e+06  2015-05-14 00:00:00     0.046032\n",
       "max    5.919483e+06  2015-05-14 00:00:00     1.000000\n",
       "std    1.703636e+06                  NaN     0.109783"
      ],
      "text/html": [
       "<div>\n",
       "<style scoped>\n",
       "    .dataframe tbody tr th:only-of-type {\n",
       "        vertical-align: middle;\n",
       "    }\n",
       "\n",
       "    .dataframe tbody tr th {\n",
       "        vertical-align: top;\n",
       "    }\n",
       "\n",
       "    .dataframe thead th {\n",
       "        text-align: right;\n",
       "    }\n",
       "</style>\n",
       "<table border=\"1\" class=\"dataframe\">\n",
       "  <thead>\n",
       "    <tr style=\"text-align: right;\">\n",
       "      <th></th>\n",
       "      <th>AdID</th>\n",
       "      <th>timestamp</th>\n",
       "      <th>num_click</th>\n",
       "    </tr>\n",
       "  </thead>\n",
       "  <tbody>\n",
       "    <tr>\n",
       "      <th>count</th>\n",
       "      <td>1.816000e+03</td>\n",
       "      <td>1816</td>\n",
       "      <td>1816.000000</td>\n",
       "    </tr>\n",
       "    <tr>\n",
       "      <th>mean</th>\n",
       "      <td>2.953207e+06</td>\n",
       "      <td>2015-05-14 00:00:00</td>\n",
       "      <td>0.052210</td>\n",
       "    </tr>\n",
       "    <tr>\n",
       "      <th>min</th>\n",
       "      <td>4.659000e+03</td>\n",
       "      <td>2015-05-14 00:00:00</td>\n",
       "      <td>0.000847</td>\n",
       "    </tr>\n",
       "    <tr>\n",
       "      <th>25%</th>\n",
       "      <td>1.483985e+06</td>\n",
       "      <td>2015-05-14 00:00:00</td>\n",
       "      <td>0.008736</td>\n",
       "    </tr>\n",
       "    <tr>\n",
       "      <th>50%</th>\n",
       "      <td>2.926594e+06</td>\n",
       "      <td>2015-05-14 00:00:00</td>\n",
       "      <td>0.018913</td>\n",
       "    </tr>\n",
       "    <tr>\n",
       "      <th>75%</th>\n",
       "      <td>4.436748e+06</td>\n",
       "      <td>2015-05-14 00:00:00</td>\n",
       "      <td>0.046032</td>\n",
       "    </tr>\n",
       "    <tr>\n",
       "      <th>max</th>\n",
       "      <td>5.919483e+06</td>\n",
       "      <td>2015-05-14 00:00:00</td>\n",
       "      <td>1.000000</td>\n",
       "    </tr>\n",
       "    <tr>\n",
       "      <th>std</th>\n",
       "      <td>1.703636e+06</td>\n",
       "      <td>NaN</td>\n",
       "      <td>0.109783</td>\n",
       "    </tr>\n",
       "  </tbody>\n",
       "</table>\n",
       "</div>"
      ]
     },
     "execution_count": 69,
     "metadata": {},
     "output_type": "execute_result"
    }
   ],
   "execution_count": 69
  },
  {
   "metadata": {
    "ExecuteTime": {
     "end_time": "2025-06-17T17:24:58.990001Z",
     "start_time": "2025-06-17T17:24:58.982348Z"
    }
   },
   "cell_type": "code",
   "source": "val_df.describe()",
   "id": "7ff96b0940ab938a",
   "outputs": [
    {
     "data": {
      "text/plain": [
       "               AdID            timestamp    num_click\n",
       "count  1.766000e+03                 1766  1766.000000\n",
       "mean   3.011808e+06  2015-05-08 00:00:00     0.048414\n",
       "min    7.344000e+03  2015-05-08 00:00:00     0.000913\n",
       "25%    1.529616e+06  2015-05-08 00:00:00     0.007897\n",
       "50%    2.978298e+06  2015-05-08 00:00:00     0.017911\n",
       "75%    4.485061e+06  2015-05-08 00:00:00     0.045455\n",
       "max    5.928415e+06  2015-05-08 00:00:00     1.000000\n",
       "std    1.717176e+06                  NaN     0.099229"
      ],
      "text/html": [
       "<div>\n",
       "<style scoped>\n",
       "    .dataframe tbody tr th:only-of-type {\n",
       "        vertical-align: middle;\n",
       "    }\n",
       "\n",
       "    .dataframe tbody tr th {\n",
       "        vertical-align: top;\n",
       "    }\n",
       "\n",
       "    .dataframe thead th {\n",
       "        text-align: right;\n",
       "    }\n",
       "</style>\n",
       "<table border=\"1\" class=\"dataframe\">\n",
       "  <thead>\n",
       "    <tr style=\"text-align: right;\">\n",
       "      <th></th>\n",
       "      <th>AdID</th>\n",
       "      <th>timestamp</th>\n",
       "      <th>num_click</th>\n",
       "    </tr>\n",
       "  </thead>\n",
       "  <tbody>\n",
       "    <tr>\n",
       "      <th>count</th>\n",
       "      <td>1.766000e+03</td>\n",
       "      <td>1766</td>\n",
       "      <td>1766.000000</td>\n",
       "    </tr>\n",
       "    <tr>\n",
       "      <th>mean</th>\n",
       "      <td>3.011808e+06</td>\n",
       "      <td>2015-05-08 00:00:00</td>\n",
       "      <td>0.048414</td>\n",
       "    </tr>\n",
       "    <tr>\n",
       "      <th>min</th>\n",
       "      <td>7.344000e+03</td>\n",
       "      <td>2015-05-08 00:00:00</td>\n",
       "      <td>0.000913</td>\n",
       "    </tr>\n",
       "    <tr>\n",
       "      <th>25%</th>\n",
       "      <td>1.529616e+06</td>\n",
       "      <td>2015-05-08 00:00:00</td>\n",
       "      <td>0.007897</td>\n",
       "    </tr>\n",
       "    <tr>\n",
       "      <th>50%</th>\n",
       "      <td>2.978298e+06</td>\n",
       "      <td>2015-05-08 00:00:00</td>\n",
       "      <td>0.017911</td>\n",
       "    </tr>\n",
       "    <tr>\n",
       "      <th>75%</th>\n",
       "      <td>4.485061e+06</td>\n",
       "      <td>2015-05-08 00:00:00</td>\n",
       "      <td>0.045455</td>\n",
       "    </tr>\n",
       "    <tr>\n",
       "      <th>max</th>\n",
       "      <td>5.928415e+06</td>\n",
       "      <td>2015-05-08 00:00:00</td>\n",
       "      <td>1.000000</td>\n",
       "    </tr>\n",
       "    <tr>\n",
       "      <th>std</th>\n",
       "      <td>1.717176e+06</td>\n",
       "      <td>NaN</td>\n",
       "      <td>0.099229</td>\n",
       "    </tr>\n",
       "  </tbody>\n",
       "</table>\n",
       "</div>"
      ]
     },
     "execution_count": 70,
     "metadata": {},
     "output_type": "execute_result"
    }
   ],
   "execution_count": 70
  },
  {
   "metadata": {
    "ExecuteTime": {
     "end_time": "2025-06-17T17:24:59.096216Z",
     "start_time": "2025-06-17T17:24:59.093450Z"
    }
   },
   "cell_type": "code",
   "source": [
    "ad_ctr_train_labels = train_df.num_click.to_numpy()\n",
    "ad_ctr_test_labels = test_df.num_click.to_numpy()\n",
    "ad_ctr_val_labels = val_df.num_click.to_numpy()"
   ],
   "id": "4ecb866cf80352e8",
   "outputs": [],
   "execution_count": 71
  },
  {
   "metadata": {
    "ExecuteTime": {
     "end_time": "2025-06-17T17:24:59.732780Z",
     "start_time": "2025-06-17T17:24:59.142941Z"
    }
   },
   "cell_type": "code",
   "source": [
    "fig, ax = plt.subplots(1, 3, figsize=(15, 5))\n",
    "ax = ax.reshape((-1))\n",
    "\n",
    "plot_reg_dist(ax[0], ad_ctr_train_labels, 'Clicks', 'Count', 'Train Set')\n",
    "plot_reg_dist(ax[1], ad_ctr_test_labels, 'Clicks', 'Count', 'Test Set')\n",
    "plot_reg_dist(ax[2], ad_ctr_val_labels, 'Clicks', 'Count', 'Validation Set')\n",
    "\n",
    "plt.savefig('ad_ctr_dist.pdf')\n",
    "plt.show()"
   ],
   "id": "79153f16ec1ec71c",
   "outputs": [
    {
     "data": {
      "text/plain": [
       "<Figure size 1500x500 with 3 Axes>"
      ],
      "image/png": "[encoded data removed]"
     },
     "metadata": {},
     "output_type": "display_data"
    }
   ],
   "execution_count": 72
  },
  {
   "metadata": {
    "ExecuteTime": {
     "end_time": "2025-06-17T17:24:59.910166Z",
     "start_time": "2025-06-17T17:24:59.771335Z"
    }
   },
   "cell_type": "code",
   "source": [
    "clicks = np.concatenate([ad_ctr_test_labels, ad_ctr_test_labels, ad_ctr_test_labels])\n",
    "sets = (['Train'] * len(ad_ctr_test_labels)) + (['Test'] * len(ad_ctr_test_labels)) + (['Validation'] * len(ad_ctr_test_labels))\n",
    "\n",
    "df = pd.DataFrame({'Clicks': clicks, 'Set': sets})\n",
    "\n",
    "fig, ax = plt.subplots()\n",
    "sns.violinplot(x='Set', y='Clicks', data=df, ax=ax, palette='Set2')\n",
    "\n",
    "plt.savefig('ad_ctr_violinplot.pdf')\n",
    "plt.show()"
   ],
   "id": "65eac42fd3ae21c6",
   "outputs": [
    {
     "name": "stderr",
     "output_type": "stream",
     "text": [
      "/var/folders/0x/klqdyhpj427dvg81kxzyfcvm0000gn/T/ipykernel_93281/3687178721.py:7: FutureWarning:\n",
      "\n",
      "\n",
      "\n",
      "Passing `palette` without assigning `hue` is deprecated and will be removed in v0.14.0. Assign the `x` variable to `hue` and set `legend=False` for the same effect.\n",
      "\n",
      "\n"
     ]
    },
    {
     "data": {
      "text/plain": [
       "<Figure size 640x480 with 1 Axes>"
      ],
      "image/png": "[encoded data removed]"
     },
     "metadata": {},
     "output_type": "display_data"
    }
   ],
   "execution_count": 73
  },
  {
   "metadata": {
    "ExecuteTime": {
     "end_time": "2025-06-17T17:25:00.103812Z",
     "start_time": "2025-06-17T17:24:59.974185Z"
    }
   },
   "cell_type": "code",
   "source": [
    "conn.close()\n",
    "gc.collect()"
   ],
   "id": "c3bcd4cdb7881143",
   "outputs": [
    {
     "data": {
      "text/plain": [
       "44629"
      ]
     },
     "execution_count": 74,
     "metadata": {},
     "output_type": "execute_result"
    }
   ],
   "execution_count": 74
  },
  {
   "metadata": {},
   "cell_type": "markdown",
   "source": "# Trial\n",
   "id": "344f68e2ca65f93c"
  },
  {
   "metadata": {
    "ExecuteTime": {
     "end_time": "2025-06-17T17:25:00.203439Z",
     "start_time": "2025-06-17T17:25:00.182639Z"
    }
   },
   "cell_type": "code",
   "source": [
    "conn = duckdb.connect('trial.db')\n",
    "%load_ext sql\n",
    "%sql conn --alias duckdb\n",
    "%config SqlMagic.displaycon=False\n",
    "%config SqlMagic.autopandas=True\n",
    "pio.renderers.default = 'svg'"
   ],
   "id": "fa3726dfe0162c6b",
   "outputs": [
    {
     "name": "stdout",
     "output_type": "stream",
     "text": [
      "The sql extension is already loaded. To reload it, use:\n",
      "  %reload_ext sql\n"
     ]
    }
   ],
   "execution_count": 75
  },
  {
   "metadata": {
    "ExecuteTime": {
     "end_time": "2025-06-17T17:25:00.292874Z",
     "start_time": "2025-06-17T17:25:00.288762Z"
    }
   },
   "cell_type": "code",
   "source": [
    "%%sql train_df <<\n",
    "from study_outcome_train"
   ],
   "id": "d7b72ab88867b9ef",
   "outputs": [],
   "execution_count": 76
  },
  {
   "metadata": {
    "ExecuteTime": {
     "end_time": "2025-06-17T17:25:00.624571Z",
     "start_time": "2025-06-17T17:25:00.618117Z"
    }
   },
   "cell_type": "code",
   "source": [
    "%%sql test_df <<\n",
    "from study_outcome_test"
   ],
   "id": "b65220e5bfb094e8",
   "outputs": [],
   "execution_count": 77
  },
  {
   "metadata": {
    "ExecuteTime": {
     "end_time": "2025-06-17T17:25:01.047976Z",
     "start_time": "2025-06-17T17:25:01.039985Z"
    }
   },
   "cell_type": "code",
   "source": [
    "%%sql val_df <<\n",
    "from study_outcome_val"
   ],
   "id": "cefb3271118e8868",
   "outputs": [],
   "execution_count": 78
  },
  {
   "metadata": {
    "ExecuteTime": {
     "end_time": "2025-06-17T17:25:01.458380Z",
     "start_time": "2025-06-17T17:25:01.445293Z"
    }
   },
   "cell_type": "code",
   "source": "train_df.describe()",
   "id": "c85c099465950807",
   "outputs": [
    {
     "data": {
      "text/plain": [
       "                           timestamp         nct_id       outcome\n",
       "count                          11994   11994.000000  11994.000000\n",
       "mean   2013-09-16 11:37:11.315657984   92576.491662      0.637569\n",
       "min              2001-01-05 00:00:00      49.000000      0.000000\n",
       "25%              2011-01-03 00:00:00   46118.000000      0.000000\n",
       "50%              2014-01-02 00:00:00   86324.500000      1.000000\n",
       "75%              2017-01-01 00:00:00  135772.750000      1.000000\n",
       "max              2019-01-01 00:00:00  217762.000000      1.000000\n",
       "std                              NaN   54858.809190      0.480722"
      ],
      "text/html": [
       "<div>\n",
       "<style scoped>\n",
       "    .dataframe tbody tr th:only-of-type {\n",
       "        vertical-align: middle;\n",
       "    }\n",
       "\n",
       "    .dataframe tbody tr th {\n",
       "        vertical-align: top;\n",
       "    }\n",
       "\n",
       "    .dataframe thead th {\n",
       "        text-align: right;\n",
       "    }\n",
       "</style>\n",
       "<table border=\"1\" class=\"dataframe\">\n",
       "  <thead>\n",
       "    <tr style=\"text-align: right;\">\n",
       "      <th></th>\n",
       "      <th>timestamp</th>\n",
       "      <th>nct_id</th>\n",
       "      <th>outcome</th>\n",
       "    </tr>\n",
       "  </thead>\n",
       "  <tbody>\n",
       "    <tr>\n",
       "      <th>count</th>\n",
       "      <td>11994</td>\n",
       "      <td>11994.000000</td>\n",
       "      <td>11994.000000</td>\n",
       "    </tr>\n",
       "    <tr>\n",
       "      <th>mean</th>\n",
       "      <td>2013-09-16 11:37:11.315657984</td>\n",
       "      <td>92576.491662</td>\n",
       "      <td>0.637569</td>\n",
       "    </tr>\n",
       "    <tr>\n",
       "      <th>min</th>\n",
       "      <td>2001-01-05 00:00:00</td>\n",
       "      <td>49.000000</td>\n",
       "      <td>0.000000</td>\n",
       "    </tr>\n",
       "    <tr>\n",
       "      <th>25%</th>\n",
       "      <td>2011-01-03 00:00:00</td>\n",
       "      <td>46118.000000</td>\n",
       "      <td>0.000000</td>\n",
       "    </tr>\n",
       "    <tr>\n",
       "      <th>50%</th>\n",
       "      <td>2014-01-02 00:00:00</td>\n",
       "      <td>86324.500000</td>\n",
       "      <td>1.000000</td>\n",
       "    </tr>\n",
       "    <tr>\n",
       "      <th>75%</th>\n",
       "      <td>2017-01-01 00:00:00</td>\n",
       "      <td>135772.750000</td>\n",
       "      <td>1.000000</td>\n",
       "    </tr>\n",
       "    <tr>\n",
       "      <th>max</th>\n",
       "      <td>2019-01-01 00:00:00</td>\n",
       "      <td>217762.000000</td>\n",
       "      <td>1.000000</td>\n",
       "    </tr>\n",
       "    <tr>\n",
       "      <th>std</th>\n",
       "      <td>NaN</td>\n",
       "      <td>54858.809190</td>\n",
       "      <td>0.480722</td>\n",
       "    </tr>\n",
       "  </tbody>\n",
       "</table>\n",
       "</div>"
      ]
     },
     "execution_count": 79,
     "metadata": {},
     "output_type": "execute_result"
    }
   ],
   "execution_count": 79
  },
  {
   "metadata": {
    "ExecuteTime": {
     "end_time": "2025-06-17T17:25:01.887769Z",
     "start_time": "2025-06-17T17:25:01.880903Z"
    }
   },
   "cell_type": "code",
   "source": "test_df.describe()",
   "id": "18c428c1bc294622",
   "outputs": [
    {
     "data": {
      "text/plain": [
       "                 timestamp         nct_id     outcome\n",
       "count                  825     825.000000  825.000000\n",
       "mean   2021-01-01 00:00:00  199249.295758    0.585455\n",
       "min    2021-01-01 00:00:00   14479.000000    0.000000\n",
       "25%    2021-01-01 00:00:00  177202.000000    0.000000\n",
       "50%    2021-01-01 00:00:00  211407.000000    1.000000\n",
       "75%    2021-01-01 00:00:00  231650.000000    1.000000\n",
       "max    2021-01-01 00:00:00  249609.000000    1.000000\n",
       "std                    NaN   43653.289978    0.492942"
      ],
      "text/html": [
       "<div>\n",
       "<style scoped>\n",
       "    .dataframe tbody tr th:only-of-type {\n",
       "        vertical-align: middle;\n",
       "    }\n",
       "\n",
       "    .dataframe tbody tr th {\n",
       "        vertical-align: top;\n",
       "    }\n",
       "\n",
       "    .dataframe thead th {\n",
       "        text-align: right;\n",
       "    }\n",
       "</style>\n",
       "<table border=\"1\" class=\"dataframe\">\n",
       "  <thead>\n",
       "    <tr style=\"text-align: right;\">\n",
       "      <th></th>\n",
       "      <th>timestamp</th>\n",
       "      <th>nct_id</th>\n",
       "      <th>outcome</th>\n",
       "    </tr>\n",
       "  </thead>\n",
       "  <tbody>\n",
       "    <tr>\n",
       "      <th>count</th>\n",
       "      <td>825</td>\n",
       "      <td>825.000000</td>\n",
       "      <td>825.000000</td>\n",
       "    </tr>\n",
       "    <tr>\n",
       "      <th>mean</th>\n",
       "      <td>2021-01-01 00:00:00</td>\n",
       "      <td>199249.295758</td>\n",
       "      <td>0.585455</td>\n",
       "    </tr>\n",
       "    <tr>\n",
       "      <th>min</th>\n",
       "      <td>2021-01-01 00:00:00</td>\n",
       "      <td>14479.000000</td>\n",
       "      <td>0.000000</td>\n",
       "    </tr>\n",
       "    <tr>\n",
       "      <th>25%</th>\n",
       "      <td>2021-01-01 00:00:00</td>\n",
       "      <td>177202.000000</td>\n",
       "      <td>0.000000</td>\n",
       "    </tr>\n",
       "    <tr>\n",
       "      <th>50%</th>\n",
       "      <td>2021-01-01 00:00:00</td>\n",
       "      <td>211407.000000</td>\n",
       "      <td>1.000000</td>\n",
       "    </tr>\n",
       "    <tr>\n",
       "      <th>75%</th>\n",
       "      <td>2021-01-01 00:00:00</td>\n",
       "      <td>231650.000000</td>\n",
       "      <td>1.000000</td>\n",
       "    </tr>\n",
       "    <tr>\n",
       "      <th>max</th>\n",
       "      <td>2021-01-01 00:00:00</td>\n",
       "      <td>249609.000000</td>\n",
       "      <td>1.000000</td>\n",
       "    </tr>\n",
       "    <tr>\n",
       "      <th>std</th>\n",
       "      <td>NaN</td>\n",
       "      <td>43653.289978</td>\n",
       "      <td>0.492942</td>\n",
       "    </tr>\n",
       "  </tbody>\n",
       "</table>\n",
       "</div>"
      ]
     },
     "execution_count": 80,
     "metadata": {},
     "output_type": "execute_result"
    }
   ],
   "execution_count": 80
  },
  {
   "metadata": {
    "ExecuteTime": {
     "end_time": "2025-06-17T17:25:02.357025Z",
     "start_time": "2025-06-17T17:25:02.350231Z"
    }
   },
   "cell_type": "code",
   "source": "val_df.describe()",
   "id": "40d18c6c42dacffc",
   "outputs": [
    {
     "data": {
      "text/plain": [
       "                 timestamp         nct_id     outcome\n",
       "count                  960     960.000000  960.000000\n",
       "mean   2020-01-01 00:00:00  185996.045833    0.584375\n",
       "min    2020-01-01 00:00:00    2301.000000    0.000000\n",
       "25%    2020-01-01 00:00:00  164325.000000    0.000000\n",
       "50%    2020-01-01 00:00:00  197395.000000    1.000000\n",
       "75%    2020-01-01 00:00:00  215933.750000    1.000000\n",
       "max    2020-01-01 00:00:00  234361.000000    1.000000\n",
       "std                    NaN   40056.595518    0.493086"
      ],
      "text/html": [
       "<div>\n",
       "<style scoped>\n",
       "    .dataframe tbody tr th:only-of-type {\n",
       "        vertical-align: middle;\n",
       "    }\n",
       "\n",
       "    .dataframe tbody tr th {\n",
       "        vertical-align: top;\n",
       "    }\n",
       "\n",
       "    .dataframe thead th {\n",
       "        text-align: right;\n",
       "    }\n",
       "</style>\n",
       "<table border=\"1\" class=\"dataframe\">\n",
       "  <thead>\n",
       "    <tr style=\"text-align: right;\">\n",
       "      <th></th>\n",
       "      <th>timestamp</th>\n",
       "      <th>nct_id</th>\n",
       "      <th>outcome</th>\n",
       "    </tr>\n",
       "  </thead>\n",
       "  <tbody>\n",
       "    <tr>\n",
       "      <th>count</th>\n",
       "      <td>960</td>\n",
       "      <td>960.000000</td>\n",
       "      <td>960.000000</td>\n",
       "    </tr>\n",
       "    <tr>\n",
       "      <th>mean</th>\n",
       "      <td>2020-01-01 00:00:00</td>\n",
       "      <td>185996.045833</td>\n",
       "      <td>0.584375</td>\n",
       "    </tr>\n",
       "    <tr>\n",
       "      <th>min</th>\n",
       "      <td>2020-01-01 00:00:00</td>\n",
       "      <td>2301.000000</td>\n",
       "      <td>0.000000</td>\n",
       "    </tr>\n",
       "    <tr>\n",
       "      <th>25%</th>\n",
       "      <td>2020-01-01 00:00:00</td>\n",
       "      <td>164325.000000</td>\n",
       "      <td>0.000000</td>\n",
       "    </tr>\n",
       "    <tr>\n",
       "      <th>50%</th>\n",
       "      <td>2020-01-01 00:00:00</td>\n",
       "      <td>197395.000000</td>\n",
       "      <td>1.000000</td>\n",
       "    </tr>\n",
       "    <tr>\n",
       "      <th>75%</th>\n",
       "      <td>2020-01-01 00:00:00</td>\n",
       "      <td>215933.750000</td>\n",
       "      <td>1.000000</td>\n",
       "    </tr>\n",
       "    <tr>\n",
       "      <th>max</th>\n",
       "      <td>2020-01-01 00:00:00</td>\n",
       "      <td>234361.000000</td>\n",
       "      <td>1.000000</td>\n",
       "    </tr>\n",
       "    <tr>\n",
       "      <th>std</th>\n",
       "      <td>NaN</td>\n",
       "      <td>40056.595518</td>\n",
       "      <td>0.493086</td>\n",
       "    </tr>\n",
       "  </tbody>\n",
       "</table>\n",
       "</div>"
      ]
     },
     "execution_count": 81,
     "metadata": {},
     "output_type": "execute_result"
    }
   ],
   "execution_count": 81
  },
  {
   "metadata": {
    "ExecuteTime": {
     "end_time": "2025-06-17T17:25:02.786989Z",
     "start_time": "2025-06-17T17:25:02.783829Z"
    }
   },
   "cell_type": "code",
   "source": [
    "study_outcome_train_labels = train_df.outcome.to_numpy()\n",
    "study_outcome_test_labels = test_df.outcome.to_numpy()\n",
    "study_outcome_val_labels = val_df.outcome.to_numpy()"
   ],
   "id": "3df1f21cce36087",
   "outputs": [],
   "execution_count": 82
  },
  {
   "metadata": {
    "ExecuteTime": {
     "end_time": "2025-06-17T17:25:03.410828Z",
     "start_time": "2025-06-17T17:25:03.263645Z"
    }
   },
   "cell_type": "code",
   "source": [
    "fig, ax = plt.subplots(1, 3, figsize=(15, 4))\n",
    "ax = ax.reshape((-1))\n",
    "\n",
    "plot_binary_dist(ax[0], study_outcome_train_labels, 'Count', 'Train Set')\n",
    "plot_binary_dist(ax[1], study_outcome_test_labels, 'Count', 'Test Set')\n",
    "plot_binary_dist(ax[2], study_outcome_val_labels, 'Count', 'Validation Set')\n",
    "\n",
    "plt.savefig('study_outcome_dist.pdf')\n",
    "plt.show()"
   ],
   "id": "8465bfcd039fab74",
   "outputs": [
    {
     "data": {
      "text/plain": [
       "<Figure size 1500x400 with 3 Axes>"
      ],
      "image/png": "[encoded data removed]"
     },
     "metadata": {},
     "output_type": "display_data"
    }
   ],
   "execution_count": 83
  },
  {
   "metadata": {
    "ExecuteTime": {
     "end_time": "2025-06-17T17:25:03.801553Z",
     "start_time": "2025-06-17T17:25:03.792311Z"
    }
   },
   "cell_type": "code",
   "source": [
    "%%sql train_df <<\n",
    "from site_success_train"
   ],
   "id": "8c3b88741c856d43",
   "outputs": [],
   "execution_count": 84
  },
  {
   "metadata": {
    "ExecuteTime": {
     "end_time": "2025-06-17T17:25:04.260833Z",
     "start_time": "2025-06-17T17:25:04.253248Z"
    }
   },
   "cell_type": "code",
   "source": [
    "%%sql test_df <<\n",
    "from site_success_test"
   ],
   "id": "276795e09e289ac1",
   "outputs": [],
   "execution_count": 85
  },
  {
   "metadata": {
    "ExecuteTime": {
     "end_time": "2025-06-17T17:25:04.674113Z",
     "start_time": "2025-06-17T17:25:04.667323Z"
    }
   },
   "cell_type": "code",
   "source": [
    "%%sql val_df <<\n",
    "from site_success_val"
   ],
   "id": "b1e5b6ae30232415",
   "outputs": [],
   "execution_count": 86
  },
  {
   "metadata": {
    "ExecuteTime": {
     "end_time": "2025-06-17T17:25:05.153651Z",
     "start_time": "2025-06-17T17:25:05.134960Z"
    }
   },
   "cell_type": "code",
   "source": "train_df.describe()",
   "id": "5b0e14480e25fd9b",
   "outputs": [
    {
     "data": {
      "text/plain": [
       "                           timestamp    facility_id   success_rate\n",
       "count                         151407  151407.000000  151407.000000\n",
       "mean   2014-12-05 14:37:31.346371072  148505.767996       0.442396\n",
       "min              2001-01-05 00:00:00       1.000000       0.000000\n",
       "25%              2013-01-02 00:00:00   35745.500000       0.000000\n",
       "50%              2015-01-02 00:00:00  110521.000000       0.000000\n",
       "75%              2018-01-01 00:00:00  254082.500000       1.000000\n",
       "max              2019-01-01 00:00:00  453211.000000       1.000000\n",
       "std                              NaN  131004.067856       0.475863"
      ],
      "text/html": [
       "<div>\n",
       "<style scoped>\n",
       "    .dataframe tbody tr th:only-of-type {\n",
       "        vertical-align: middle;\n",
       "    }\n",
       "\n",
       "    .dataframe tbody tr th {\n",
       "        vertical-align: top;\n",
       "    }\n",
       "\n",
       "    .dataframe thead th {\n",
       "        text-align: right;\n",
       "    }\n",
       "</style>\n",
       "<table border=\"1\" class=\"dataframe\">\n",
       "  <thead>\n",
       "    <tr style=\"text-align: right;\">\n",
       "      <th></th>\n",
       "      <th>timestamp</th>\n",
       "      <th>facility_id</th>\n",
       "      <th>success_rate</th>\n",
       "    </tr>\n",
       "  </thead>\n",
       "  <tbody>\n",
       "    <tr>\n",
       "      <th>count</th>\n",
       "      <td>151407</td>\n",
       "      <td>151407.000000</td>\n",
       "      <td>151407.000000</td>\n",
       "    </tr>\n",
       "    <tr>\n",
       "      <th>mean</th>\n",
       "      <td>2014-12-05 14:37:31.346371072</td>\n",
       "      <td>148505.767996</td>\n",
       "      <td>0.442396</td>\n",
       "    </tr>\n",
       "    <tr>\n",
       "      <th>min</th>\n",
       "      <td>2001-01-05 00:00:00</td>\n",
       "      <td>1.000000</td>\n",
       "      <td>0.000000</td>\n",
       "    </tr>\n",
       "    <tr>\n",
       "      <th>25%</th>\n",
       "      <td>2013-01-02 00:00:00</td>\n",
       "      <td>35745.500000</td>\n",
       "      <td>0.000000</td>\n",
       "    </tr>\n",
       "    <tr>\n",
       "      <th>50%</th>\n",
       "      <td>2015-01-02 00:00:00</td>\n",
       "      <td>110521.000000</td>\n",
       "      <td>0.000000</td>\n",
       "    </tr>\n",
       "    <tr>\n",
       "      <th>75%</th>\n",
       "      <td>2018-01-01 00:00:00</td>\n",
       "      <td>254082.500000</td>\n",
       "      <td>1.000000</td>\n",
       "    </tr>\n",
       "    <tr>\n",
       "      <th>max</th>\n",
       "      <td>2019-01-01 00:00:00</td>\n",
       "      <td>453211.000000</td>\n",
       "      <td>1.000000</td>\n",
       "    </tr>\n",
       "    <tr>\n",
       "      <th>std</th>\n",
       "      <td>NaN</td>\n",
       "      <td>131004.067856</td>\n",
       "      <td>0.475863</td>\n",
       "    </tr>\n",
       "  </tbody>\n",
       "</table>\n",
       "</div>"
      ]
     },
     "execution_count": 87,
     "metadata": {},
     "output_type": "execute_result"
    }
   ],
   "execution_count": 87
  },
  {
   "metadata": {
    "ExecuteTime": {
     "end_time": "2025-06-17T17:25:05.616029Z",
     "start_time": "2025-06-17T17:25:05.608260Z"
    }
   },
   "cell_type": "code",
   "source": "test_df.describe()",
   "id": "109b402946393bb2",
   "outputs": [
    {
     "data": {
      "text/plain": [
       "                 timestamp    facility_id  success_rate\n",
       "count                22617   22617.000000  22617.000000\n",
       "mean   2021-01-01 00:00:00  155604.373613      0.462222\n",
       "min    2021-01-01 00:00:00       1.000000      0.000000\n",
       "25%    2021-01-01 00:00:00   34393.000000      0.000000\n",
       "50%    2021-01-01 00:00:00  118894.000000      0.166667\n",
       "75%    2021-01-01 00:00:00  259463.000000      1.000000\n",
       "max    2021-01-01 00:00:00  453227.000000      1.000000\n",
       "std                    NaN  137467.358421      0.481231"
      ],
      "text/html": [
       "<div>\n",
       "<style scoped>\n",
       "    .dataframe tbody tr th:only-of-type {\n",
       "        vertical-align: middle;\n",
       "    }\n",
       "\n",
       "    .dataframe tbody tr th {\n",
       "        vertical-align: top;\n",
       "    }\n",
       "\n",
       "    .dataframe thead th {\n",
       "        text-align: right;\n",
       "    }\n",
       "</style>\n",
       "<table border=\"1\" class=\"dataframe\">\n",
       "  <thead>\n",
       "    <tr style=\"text-align: right;\">\n",
       "      <th></th>\n",
       "      <th>timestamp</th>\n",
       "      <th>facility_id</th>\n",
       "      <th>success_rate</th>\n",
       "    </tr>\n",
       "  </thead>\n",
       "  <tbody>\n",
       "    <tr>\n",
       "      <th>count</th>\n",
       "      <td>22617</td>\n",
       "      <td>22617.000000</td>\n",
       "      <td>22617.000000</td>\n",
       "    </tr>\n",
       "    <tr>\n",
       "      <th>mean</th>\n",
       "      <td>2021-01-01 00:00:00</td>\n",
       "      <td>155604.373613</td>\n",
       "      <td>0.462222</td>\n",
       "    </tr>\n",
       "    <tr>\n",
       "      <th>min</th>\n",
       "      <td>2021-01-01 00:00:00</td>\n",
       "      <td>1.000000</td>\n",
       "      <td>0.000000</td>\n",
       "    </tr>\n",
       "    <tr>\n",
       "      <th>25%</th>\n",
       "      <td>2021-01-01 00:00:00</td>\n",
       "      <td>34393.000000</td>\n",
       "      <td>0.000000</td>\n",
       "    </tr>\n",
       "    <tr>\n",
       "      <th>50%</th>\n",
       "      <td>2021-01-01 00:00:00</td>\n",
       "      <td>118894.000000</td>\n",
       "      <td>0.166667</td>\n",
       "    </tr>\n",
       "    <tr>\n",
       "      <th>75%</th>\n",
       "      <td>2021-01-01 00:00:00</td>\n",
       "      <td>259463.000000</td>\n",
       "      <td>1.000000</td>\n",
       "    </tr>\n",
       "    <tr>\n",
       "      <th>max</th>\n",
       "      <td>2021-01-01 00:00:00</td>\n",
       "      <td>453227.000000</td>\n",
       "      <td>1.000000</td>\n",
       "    </tr>\n",
       "    <tr>\n",
       "      <th>std</th>\n",
       "      <td>NaN</td>\n",
       "      <td>137467.358421</td>\n",
       "      <td>0.481231</td>\n",
       "    </tr>\n",
       "  </tbody>\n",
       "</table>\n",
       "</div>"
      ]
     },
     "execution_count": 88,
     "metadata": {},
     "output_type": "execute_result"
    }
   ],
   "execution_count": 88
  },
  {
   "metadata": {
    "ExecuteTime": {
     "end_time": "2025-06-17T17:25:06.034546Z",
     "start_time": "2025-06-17T17:25:06.025314Z"
    }
   },
   "cell_type": "code",
   "source": "val_df.describe()",
   "id": "8776c6f3b226a83",
   "outputs": [
    {
     "data": {
      "text/plain": [
       "                 timestamp    facility_id  success_rate\n",
       "count                19740   19740.000000  19740.000000\n",
       "mean   2020-01-01 00:00:00  158304.955218      0.474937\n",
       "min    2020-01-01 00:00:00       1.000000      0.000000\n",
       "25%    2020-01-01 00:00:00   36905.750000      0.000000\n",
       "50%    2020-01-01 00:00:00  128224.500000      0.400000\n",
       "75%    2020-01-01 00:00:00  269598.500000      1.000000\n",
       "max    2020-01-01 00:00:00  452806.000000      1.000000\n",
       "std                    NaN  130859.318094      0.477706"
      ],
      "text/html": [
       "<div>\n",
       "<style scoped>\n",
       "    .dataframe tbody tr th:only-of-type {\n",
       "        vertical-align: middle;\n",
       "    }\n",
       "\n",
       "    .dataframe tbody tr th {\n",
       "        vertical-align: top;\n",
       "    }\n",
       "\n",
       "    .dataframe thead th {\n",
       "        text-align: right;\n",
       "    }\n",
       "</style>\n",
       "<table border=\"1\" class=\"dataframe\">\n",
       "  <thead>\n",
       "    <tr style=\"text-align: right;\">\n",
       "      <th></th>\n",
       "      <th>timestamp</th>\n",
       "      <th>facility_id</th>\n",
       "      <th>success_rate</th>\n",
       "    </tr>\n",
       "  </thead>\n",
       "  <tbody>\n",
       "    <tr>\n",
       "      <th>count</th>\n",
       "      <td>19740</td>\n",
       "      <td>19740.000000</td>\n",
       "      <td>19740.000000</td>\n",
       "    </tr>\n",
       "    <tr>\n",
       "      <th>mean</th>\n",
       "      <td>2020-01-01 00:00:00</td>\n",
       "      <td>158304.955218</td>\n",
       "      <td>0.474937</td>\n",
       "    </tr>\n",
       "    <tr>\n",
       "      <th>min</th>\n",
       "      <td>2020-01-01 00:00:00</td>\n",
       "      <td>1.000000</td>\n",
       "      <td>0.000000</td>\n",
       "    </tr>\n",
       "    <tr>\n",
       "      <th>25%</th>\n",
       "      <td>2020-01-01 00:00:00</td>\n",
       "      <td>36905.750000</td>\n",
       "      <td>0.000000</td>\n",
       "    </tr>\n",
       "    <tr>\n",
       "      <th>50%</th>\n",
       "      <td>2020-01-01 00:00:00</td>\n",
       "      <td>128224.500000</td>\n",
       "      <td>0.400000</td>\n",
       "    </tr>\n",
       "    <tr>\n",
       "      <th>75%</th>\n",
       "      <td>2020-01-01 00:00:00</td>\n",
       "      <td>269598.500000</td>\n",
       "      <td>1.000000</td>\n",
       "    </tr>\n",
       "    <tr>\n",
       "      <th>max</th>\n",
       "      <td>2020-01-01 00:00:00</td>\n",
       "      <td>452806.000000</td>\n",
       "      <td>1.000000</td>\n",
       "    </tr>\n",
       "    <tr>\n",
       "      <th>std</th>\n",
       "      <td>NaN</td>\n",
       "      <td>130859.318094</td>\n",
       "      <td>0.477706</td>\n",
       "    </tr>\n",
       "  </tbody>\n",
       "</table>\n",
       "</div>"
      ]
     },
     "execution_count": 89,
     "metadata": {},
     "output_type": "execute_result"
    }
   ],
   "execution_count": 89
  },
  {
   "metadata": {
    "ExecuteTime": {
     "end_time": "2025-06-17T17:25:06.441946Z",
     "start_time": "2025-06-17T17:25:06.439458Z"
    }
   },
   "cell_type": "code",
   "source": [
    "site_success_train_labels = train_df.success_rate.to_numpy()\n",
    "site_success_test_labels = test_df.success_rate.to_numpy()\n",
    "site_success_val_labels = val_df.success_rate.to_numpy()"
   ],
   "id": "15e7d64b8846ee2b",
   "outputs": [],
   "execution_count": 90
  },
  {
   "metadata": {
    "ExecuteTime": {
     "end_time": "2025-06-17T17:25:07.077358Z",
     "start_time": "2025-06-17T17:25:06.885178Z"
    }
   },
   "cell_type": "code",
   "source": [
    "fig, ax = plt.subplots(1, 3, figsize=(15, 4))\n",
    "ax = ax.reshape((-1))\n",
    "\n",
    "plot_reg_dist(ax[0], site_success_train_labels, 'Success Rate', 'Count', 'Train Set')\n",
    "plot_reg_dist(ax[1], site_success_test_labels, 'Success Rate', 'Count', 'Test Set')\n",
    "plot_reg_dist(ax[2], site_success_val_labels, 'Success Rate', 'Count', 'Validation Set')\n",
    "\n",
    "plt.savefig('site_success_dist.pdf')\n",
    "plt.show()"
   ],
   "id": "4e8e47df9e94b4f6",
   "outputs": [
    {
     "data": {
      "text/plain": [
       "<Figure size 1500x400 with 3 Axes>"
      ],
      "image/png": "[encoded data removed]"
     },
     "metadata": {},
     "output_type": "display_data"
    }
   ],
   "execution_count": 91
  },
  {
   "metadata": {
    "ExecuteTime": {
     "end_time": "2025-06-17T17:25:07.603315Z",
     "start_time": "2025-06-17T17:25:07.259541Z"
    }
   },
   "cell_type": "code",
   "source": [
    "success_rate = np.concatenate([site_success_train_labels, site_success_test_labels, site_success_val_labels])\n",
    "sets = (['Train'] * len(site_success_train_labels)) + (['Test'] * len(site_success_test_labels)) + (['Validation'] * len(site_success_val_labels))\n",
    "\n",
    "df = pd.DataFrame({'Success Rate': success_rate, 'Set': sets})\n",
    "\n",
    "fig, ax = plt.subplots()\n",
    "sns.violinplot(x='Set', y='Success Rate', data=df, ax=ax, palette='Set2')\n",
    "\n",
    "plt.savefig('site_success_violinplot.pdf')\n",
    "plt.show()"
   ],
   "id": "4283c02068b5f295",
   "outputs": [
    {
     "name": "stderr",
     "output_type": "stream",
     "text": [
      "/var/folders/0x/klqdyhpj427dvg81kxzyfcvm0000gn/T/ipykernel_93281/2293053390.py:7: FutureWarning:\n",
      "\n",
      "\n",
      "\n",
      "Passing `palette` without assigning `hue` is deprecated and will be removed in v0.14.0. Assign the `x` variable to `hue` and set `legend=False` for the same effect.\n",
      "\n",
      "\n"
     ]
    },
    {
     "data": {
      "text/plain": [
       "<Figure size 640x480 with 1 Axes>"
      ],
      "image/png": "[encoded data removed]"
     },
     "metadata": {},
     "output_type": "display_data"
    }
   ],
   "execution_count": 92
  },
  {
   "metadata": {
    "ExecuteTime": {
     "end_time": "2025-06-17T17:25:07.742422Z",
     "start_time": "2025-06-17T17:25:07.733135Z"
    }
   },
   "cell_type": "code",
   "source": [
    "%%sql train_df <<\n",
    "from study_adverse_train"
   ],
   "id": "517a2d6ab1d699b1",
   "outputs": [],
   "execution_count": 93
  },
  {
   "metadata": {
    "ExecuteTime": {
     "end_time": "2025-06-17T17:25:08.115381Z",
     "start_time": "2025-06-17T17:25:08.109584Z"
    }
   },
   "cell_type": "code",
   "source": [
    "%%sql test_df <<\n",
    "from study_adverse_test"
   ],
   "id": "e8d645006ff19c06",
   "outputs": [],
   "execution_count": 94
  },
  {
   "metadata": {
    "ExecuteTime": {
     "end_time": "2025-06-17T17:25:08.498790Z",
     "start_time": "2025-06-17T17:25:08.491495Z"
    }
   },
   "cell_type": "code",
   "source": [
    "%%sql val_df <<\n",
    "from study_adverse_val"
   ],
   "id": "80cc2fe9157e06c7",
   "outputs": [],
   "execution_count": 95
  },
  {
   "metadata": {
    "ExecuteTime": {
     "end_time": "2025-06-17T17:25:08.824889Z",
     "start_time": "2025-06-17T17:25:08.815273Z"
    }
   },
   "cell_type": "code",
   "source": "train_df.describe()",
   "id": "99a10f904ea8906e",
   "outputs": [
    {
     "data": {
      "text/plain": [
       "                           timestamp         nct_id  num_of_adverse_events\n",
       "count                          43335   43335.000000           43335.000000\n",
       "mean   2013-10-16 16:54:19.813083904   92183.386270              39.843268\n",
       "min              2001-01-05 00:00:00      37.000000               0.000000\n",
       "25%              2011-01-03 00:00:00   45384.000000               0.000000\n",
       "50%              2014-01-02 00:00:00   86129.000000               2.000000\n",
       "75%              2017-01-01 00:00:00  134732.500000              15.000000\n",
       "max              2019-01-01 00:00:00  218391.000000           28085.000000\n",
       "std                              NaN   55048.973537             339.110533"
      ],
      "text/html": [
       "<div>\n",
       "<style scoped>\n",
       "    .dataframe tbody tr th:only-of-type {\n",
       "        vertical-align: middle;\n",
       "    }\n",
       "\n",
       "    .dataframe tbody tr th {\n",
       "        vertical-align: top;\n",
       "    }\n",
       "\n",
       "    .dataframe thead th {\n",
       "        text-align: right;\n",
       "    }\n",
       "</style>\n",
       "<table border=\"1\" class=\"dataframe\">\n",
       "  <thead>\n",
       "    <tr style=\"text-align: right;\">\n",
       "      <th></th>\n",
       "      <th>timestamp</th>\n",
       "      <th>nct_id</th>\n",
       "      <th>num_of_adverse_events</th>\n",
       "    </tr>\n",
       "  </thead>\n",
       "  <tbody>\n",
       "    <tr>\n",
       "      <th>count</th>\n",
       "      <td>43335</td>\n",
       "      <td>43335.000000</td>\n",
       "      <td>43335.000000</td>\n",
       "    </tr>\n",
       "    <tr>\n",
       "      <th>mean</th>\n",
       "      <td>2013-10-16 16:54:19.813083904</td>\n",
       "      <td>92183.386270</td>\n",
       "      <td>39.843268</td>\n",
       "    </tr>\n",
       "    <tr>\n",
       "      <th>min</th>\n",
       "      <td>2001-01-05 00:00:00</td>\n",
       "      <td>37.000000</td>\n",
       "      <td>0.000000</td>\n",
       "    </tr>\n",
       "    <tr>\n",
       "      <th>25%</th>\n",
       "      <td>2011-01-03 00:00:00</td>\n",
       "      <td>45384.000000</td>\n",
       "      <td>0.000000</td>\n",
       "    </tr>\n",
       "    <tr>\n",
       "      <th>50%</th>\n",
       "      <td>2014-01-02 00:00:00</td>\n",
       "      <td>86129.000000</td>\n",
       "      <td>2.000000</td>\n",
       "    </tr>\n",
       "    <tr>\n",
       "      <th>75%</th>\n",
       "      <td>2017-01-01 00:00:00</td>\n",
       "      <td>134732.500000</td>\n",
       "      <td>15.000000</td>\n",
       "    </tr>\n",
       "    <tr>\n",
       "      <th>max</th>\n",
       "      <td>2019-01-01 00:00:00</td>\n",
       "      <td>218391.000000</td>\n",
       "      <td>28085.000000</td>\n",
       "    </tr>\n",
       "    <tr>\n",
       "      <th>std</th>\n",
       "      <td>NaN</td>\n",
       "      <td>55048.973537</td>\n",
       "      <td>339.110533</td>\n",
       "    </tr>\n",
       "  </tbody>\n",
       "</table>\n",
       "</div>"
      ]
     },
     "execution_count": 96,
     "metadata": {},
     "output_type": "execute_result"
    }
   ],
   "execution_count": 96
  },
  {
   "metadata": {
    "ExecuteTime": {
     "end_time": "2025-06-17T17:25:09.153245Z",
     "start_time": "2025-06-17T17:25:09.146076Z"
    }
   },
   "cell_type": "code",
   "source": "test_df.describe()",
   "id": "1f1bcd878730110d",
   "outputs": [
    {
     "data": {
      "text/plain": [
       "                           timestamp         nct_id  num_of_adverse_events\n",
       "count                           3098    3098.000000            3098.000000\n",
       "mean   2021-01-01 00:00:00.000000256  198118.268238              57.930278\n",
       "min              2021-01-01 00:00:00     315.000000               0.000000\n",
       "25%              2021-01-01 00:00:00  174176.500000               0.000000\n",
       "50%              2021-01-01 00:00:00  213002.500000               3.000000\n",
       "75%              2021-01-01 00:00:00  233620.750000              24.000000\n",
       "max              2021-01-01 00:00:00  249609.000000            5978.000000\n",
       "std                              NaN   47412.398715             249.726540"
      ],
      "text/html": [
       "<div>\n",
       "<style scoped>\n",
       "    .dataframe tbody tr th:only-of-type {\n",
       "        vertical-align: middle;\n",
       "    }\n",
       "\n",
       "    .dataframe tbody tr th {\n",
       "        vertical-align: top;\n",
       "    }\n",
       "\n",
       "    .dataframe thead th {\n",
       "        text-align: right;\n",
       "    }\n",
       "</style>\n",
       "<table border=\"1\" class=\"dataframe\">\n",
       "  <thead>\n",
       "    <tr style=\"text-align: right;\">\n",
       "      <th></th>\n",
       "      <th>timestamp</th>\n",
       "      <th>nct_id</th>\n",
       "      <th>num_of_adverse_events</th>\n",
       "    </tr>\n",
       "  </thead>\n",
       "  <tbody>\n",
       "    <tr>\n",
       "      <th>count</th>\n",
       "      <td>3098</td>\n",
       "      <td>3098.000000</td>\n",
       "      <td>3098.000000</td>\n",
       "    </tr>\n",
       "    <tr>\n",
       "      <th>mean</th>\n",
       "      <td>2021-01-01 00:00:00.000000256</td>\n",
       "      <td>198118.268238</td>\n",
       "      <td>57.930278</td>\n",
       "    </tr>\n",
       "    <tr>\n",
       "      <th>min</th>\n",
       "      <td>2021-01-01 00:00:00</td>\n",
       "      <td>315.000000</td>\n",
       "      <td>0.000000</td>\n",
       "    </tr>\n",
       "    <tr>\n",
       "      <th>25%</th>\n",
       "      <td>2021-01-01 00:00:00</td>\n",
       "      <td>174176.500000</td>\n",
       "      <td>0.000000</td>\n",
       "    </tr>\n",
       "    <tr>\n",
       "      <th>50%</th>\n",
       "      <td>2021-01-01 00:00:00</td>\n",
       "      <td>213002.500000</td>\n",
       "      <td>3.000000</td>\n",
       "    </tr>\n",
       "    <tr>\n",
       "      <th>75%</th>\n",
       "      <td>2021-01-01 00:00:00</td>\n",
       "      <td>233620.750000</td>\n",
       "      <td>24.000000</td>\n",
       "    </tr>\n",
       "    <tr>\n",
       "      <th>max</th>\n",
       "      <td>2021-01-01 00:00:00</td>\n",
       "      <td>249609.000000</td>\n",
       "      <td>5978.000000</td>\n",
       "    </tr>\n",
       "    <tr>\n",
       "      <th>std</th>\n",
       "      <td>NaN</td>\n",
       "      <td>47412.398715</td>\n",
       "      <td>249.726540</td>\n",
       "    </tr>\n",
       "  </tbody>\n",
       "</table>\n",
       "</div>"
      ]
     },
     "execution_count": 97,
     "metadata": {},
     "output_type": "execute_result"
    }
   ],
   "execution_count": 97
  },
  {
   "metadata": {
    "ExecuteTime": {
     "end_time": "2025-06-17T17:25:09.441093Z",
     "start_time": "2025-06-17T17:25:09.434013Z"
    }
   },
   "cell_type": "code",
   "source": "val_df.describe()",
   "id": "22cc60dd2b3fe76",
   "outputs": [
    {
     "data": {
      "text/plain": [
       "                           timestamp         nct_id  num_of_adverse_events\n",
       "count                           3596    3596.000000            3596.000000\n",
       "mean   2020-01-01 00:00:00.000000256  185187.685206              57.082870\n",
       "min              2020-01-01 00:00:00     225.000000               0.000000\n",
       "25%              2020-01-01 00:00:00  164685.250000               0.000000\n",
       "50%              2020-01-01 00:00:00  197525.000000               2.000000\n",
       "75%              2020-01-01 00:00:00  217057.500000              18.000000\n",
       "max              2020-01-01 00:00:00  234821.000000           17245.000000\n",
       "std                              NaN   43167.668795             391.170094"
      ],
      "text/html": [
       "<div>\n",
       "<style scoped>\n",
       "    .dataframe tbody tr th:only-of-type {\n",
       "        vertical-align: middle;\n",
       "    }\n",
       "\n",
       "    .dataframe tbody tr th {\n",
       "        vertical-align: top;\n",
       "    }\n",
       "\n",
       "    .dataframe thead th {\n",
       "        text-align: right;\n",
       "    }\n",
       "</style>\n",
       "<table border=\"1\" class=\"dataframe\">\n",
       "  <thead>\n",
       "    <tr style=\"text-align: right;\">\n",
       "      <th></th>\n",
       "      <th>timestamp</th>\n",
       "      <th>nct_id</th>\n",
       "      <th>num_of_adverse_events</th>\n",
       "    </tr>\n",
       "  </thead>\n",
       "  <tbody>\n",
       "    <tr>\n",
       "      <th>count</th>\n",
       "      <td>3596</td>\n",
       "      <td>3596.000000</td>\n",
       "      <td>3596.000000</td>\n",
       "    </tr>\n",
       "    <tr>\n",
       "      <th>mean</th>\n",
       "      <td>2020-01-01 00:00:00.000000256</td>\n",
       "      <td>185187.685206</td>\n",
       "      <td>57.082870</td>\n",
       "    </tr>\n",
       "    <tr>\n",
       "      <th>min</th>\n",
       "      <td>2020-01-01 00:00:00</td>\n",
       "      <td>225.000000</td>\n",
       "      <td>0.000000</td>\n",
       "    </tr>\n",
       "    <tr>\n",
       "      <th>25%</th>\n",
       "      <td>2020-01-01 00:00:00</td>\n",
       "      <td>164685.250000</td>\n",
       "      <td>0.000000</td>\n",
       "    </tr>\n",
       "    <tr>\n",
       "      <th>50%</th>\n",
       "      <td>2020-01-01 00:00:00</td>\n",
       "      <td>197525.000000</td>\n",
       "      <td>2.000000</td>\n",
       "    </tr>\n",
       "    <tr>\n",
       "      <th>75%</th>\n",
       "      <td>2020-01-01 00:00:00</td>\n",
       "      <td>217057.500000</td>\n",
       "      <td>18.000000</td>\n",
       "    </tr>\n",
       "    <tr>\n",
       "      <th>max</th>\n",
       "      <td>2020-01-01 00:00:00</td>\n",
       "      <td>234821.000000</td>\n",
       "      <td>17245.000000</td>\n",
       "    </tr>\n",
       "    <tr>\n",
       "      <th>std</th>\n",
       "      <td>NaN</td>\n",
       "      <td>43167.668795</td>\n",
       "      <td>391.170094</td>\n",
       "    </tr>\n",
       "  </tbody>\n",
       "</table>\n",
       "</div>"
      ]
     },
     "execution_count": 98,
     "metadata": {},
     "output_type": "execute_result"
    }
   ],
   "execution_count": 98
  },
  {
   "metadata": {
    "ExecuteTime": {
     "end_time": "2025-06-17T17:25:09.806182Z",
     "start_time": "2025-06-17T17:25:09.802970Z"
    }
   },
   "cell_type": "code",
   "source": [
    "study_adverse_train_labels = train_df.num_of_adverse_events.to_numpy()\n",
    "study_adverse_test_labels = test_df.num_of_adverse_events.to_numpy()\n",
    "study_adverse_val_labels = val_df.num_of_adverse_events.to_numpy()"
   ],
   "id": "dba612725970c0f2",
   "outputs": [],
   "execution_count": 99
  },
  {
   "metadata": {
    "ExecuteTime": {
     "end_time": "2025-06-17T17:25:29.235589Z",
     "start_time": "2025-06-17T17:25:10.204369Z"
    }
   },
   "cell_type": "code",
   "source": [
    "fig, ax = plt.subplots(1, 3, figsize=(15, 4))\n",
    "ax = ax.reshape((-1))\n",
    "\n",
    "plot_reg_dist(ax[0], study_adverse_train_labels, 'Number of adverse events', 'Count', 'Train Set')\n",
    "plot_reg_dist(ax[1], study_adverse_test_labels, 'Number of adverse events', 'Count', 'Test Set')\n",
    "plot_reg_dist(ax[2], study_adverse_val_labels, 'Number of adverse events', 'Count', 'Validation Set')\n",
    "\n",
    "plt.savefig('study_adverse_dist.pdf')\n",
    "plt.show()"
   ],
   "id": "11e45158ee12d28d",
   "outputs": [
    {
     "data": {
      "text/plain": [
       "<Figure size 1500x400 with 3 Axes>"
      ],
      "image/png": "[encoded data removed]"
     },
     "metadata": {},
     "output_type": "display_data"
    }
   ],
   "execution_count": 100
  },
  {
   "metadata": {
    "ExecuteTime": {
     "end_time": "2025-06-17T17:25:29.417654Z",
     "start_time": "2025-06-17T17:25:29.264152Z"
    }
   },
   "cell_type": "code",
   "source": [
    "adverse = np.concatenate([study_adverse_train_labels, study_adverse_test_labels, study_adverse_val_labels])\n",
    "sets = (['Train'] * len(study_adverse_train_labels)) + (['Test'] * len(study_adverse_test_labels)) + (['Validation'] * len(study_adverse_val_labels))\n",
    "\n",
    "df = pd.DataFrame({'Number of Adverse Events': adverse, 'Set': sets})\n",
    "\n",
    "fig, ax = plt.subplots()\n",
    "sns.violinplot(x='Set', y='Number of Adverse Events', data=df, ax=ax, palette='Set2')\n",
    "\n",
    "plt.savefig('study_adverse_violinplot.pdf')\n",
    "plt.show()"
   ],
   "id": "4ed843d1de9ebcab",
   "outputs": [
    {
     "name": "stderr",
     "output_type": "stream",
     "text": [
      "/var/folders/0x/klqdyhpj427dvg81kxzyfcvm0000gn/T/ipykernel_93281/2622169434.py:7: FutureWarning:\n",
      "\n",
      "\n",
      "\n",
      "Passing `palette` without assigning `hue` is deprecated and will be removed in v0.14.0. Assign the `x` variable to `hue` and set `legend=False` for the same effect.\n",
      "\n",
      "\n"
     ]
    },
    {
     "data": {
      "text/plain": [
       "<Figure size 640x480 with 1 Axes>"
      ],
      "image/png": "[encoded data removed]"
     },
     "metadata": {},
     "output_type": "display_data"
    }
   ],
   "execution_count": 101
  },
  {
   "metadata": {
    "ExecuteTime": {
     "end_time": "2025-06-17T17:25:30.101311Z",
     "start_time": "2025-06-17T17:25:29.488054Z"
    }
   },
   "cell_type": "code",
   "source": [
    "conn.close()\n",
    "gc.collect()"
   ],
   "id": "115ed56bd831410f",
   "outputs": [
    {
     "data": {
      "text/plain": [
       "2489771"
      ]
     },
     "execution_count": 102,
     "metadata": {},
     "output_type": "execute_result"
    }
   ],
   "execution_count": 102
  },
  {
   "metadata": {},
   "cell_type": "markdown",
   "source": "# Stack\n",
   "id": "cdcf2c99edde511f"
  },
  {
   "metadata": {
    "ExecuteTime": {
     "end_time": "2025-06-17T17:25:30.140737Z",
     "start_time": "2025-06-17T17:25:30.128004Z"
    }
   },
   "cell_type": "code",
   "source": [
    "conn = duckdb.connect('stack.db')\n",
    "%load_ext sql\n",
    "%sql conn --alias duckdb\n",
    "%config SqlMagic.displaycon=False\n",
    "%config SqlMagic.autopandas=True\n",
    "pio.renderers.default = 'svg'"
   ],
   "id": "bac4fa166982c406",
   "outputs": [
    {
     "name": "stdout",
     "output_type": "stream",
     "text": [
      "The sql extension is already loaded. To reload it, use:\n",
      "  %reload_ext sql\n"
     ]
    }
   ],
   "execution_count": 103
  },
  {
   "metadata": {
    "ExecuteTime": {
     "end_time": "2025-06-17T17:25:30.205898Z",
     "start_time": "2025-06-17T17:25:30.172063Z"
    }
   },
   "cell_type": "code",
   "source": [
    "%%sql train_df <<\n",
    "from user_engagement_train"
   ],
   "id": "98e3135f97c01a22",
   "outputs": [],
   "execution_count": 104
  },
  {
   "metadata": {
    "ExecuteTime": {
     "end_time": "2025-06-17T17:25:30.235072Z",
     "start_time": "2025-06-17T17:25:30.230107Z"
    }
   },
   "cell_type": "code",
   "source": [
    "%%sql test_df <<\n",
    "from user_engagement_test"
   ],
   "id": "916ae003eeadf66d",
   "outputs": [],
   "execution_count": 105
  },
  {
   "metadata": {
    "ExecuteTime": {
     "end_time": "2025-06-17T17:25:30.265367Z",
     "start_time": "2025-06-17T17:25:30.260352Z"
    }
   },
   "cell_type": "code",
   "source": [
    "%%sql val_df <<\n",
    "from user_engagement_val"
   ],
   "id": "6b28f49f594f7353",
   "outputs": [],
   "execution_count": 106
  },
  {
   "metadata": {
    "ExecuteTime": {
     "end_time": "2025-06-17T17:25:30.336864Z",
     "start_time": "2025-06-17T17:25:30.290944Z"
    }
   },
   "cell_type": "code",
   "source": "train_df.describe()",
   "id": "416fe88552c33f00",
   "outputs": [
    {
     "data": {
      "text/plain": [
       "                           timestamp   OwnerUserId  contribution\n",
       "count                        1360850  1.360850e+06  1.360850e+06\n",
       "mean   2017-11-13 17:06:43.704743680  5.871405e+04  4.998347e-02\n",
       "min              2009-04-16 00:00:00  0.000000e+00  0.000000e+00\n",
       "25%              2016-07-07 00:00:00  1.687100e+04  0.000000e+00\n",
       "50%              2018-04-05 00:00:00  4.198400e+04  0.000000e+00\n",
       "75%              2019-07-04 00:00:00  8.599100e+04  0.000000e+00\n",
       "max              2020-07-02 00:00:00  2.525400e+05  1.000000e+00\n",
       "std                              NaN  5.317730e+04  2.179109e-01"
      ],
      "text/html": [
       "<div>\n",
       "<style scoped>\n",
       "    .dataframe tbody tr th:only-of-type {\n",
       "        vertical-align: middle;\n",
       "    }\n",
       "\n",
       "    .dataframe tbody tr th {\n",
       "        vertical-align: top;\n",
       "    }\n",
       "\n",
       "    .dataframe thead th {\n",
       "        text-align: right;\n",
       "    }\n",
       "</style>\n",
       "<table border=\"1\" class=\"dataframe\">\n",
       "  <thead>\n",
       "    <tr style=\"text-align: right;\">\n",
       "      <th></th>\n",
       "      <th>timestamp</th>\n",
       "      <th>OwnerUserId</th>\n",
       "      <th>contribution</th>\n",
       "    </tr>\n",
       "  </thead>\n",
       "  <tbody>\n",
       "    <tr>\n",
       "      <th>count</th>\n",
       "      <td>1360850</td>\n",
       "      <td>1.360850e+06</td>\n",
       "      <td>1.360850e+06</td>\n",
       "    </tr>\n",
       "    <tr>\n",
       "      <th>mean</th>\n",
       "      <td>2017-11-13 17:06:43.704743680</td>\n",
       "      <td>5.871405e+04</td>\n",
       "      <td>4.998347e-02</td>\n",
       "    </tr>\n",
       "    <tr>\n",
       "      <th>min</th>\n",
       "      <td>2009-04-16 00:00:00</td>\n",
       "      <td>0.000000e+00</td>\n",
       "      <td>0.000000e+00</td>\n",
       "    </tr>\n",
       "    <tr>\n",
       "      <th>25%</th>\n",
       "      <td>2016-07-07 00:00:00</td>\n",
       "      <td>1.687100e+04</td>\n",
       "      <td>0.000000e+00</td>\n",
       "    </tr>\n",
       "    <tr>\n",
       "      <th>50%</th>\n",
       "      <td>2018-04-05 00:00:00</td>\n",
       "      <td>4.198400e+04</td>\n",
       "      <td>0.000000e+00</td>\n",
       "    </tr>\n",
       "    <tr>\n",
       "      <th>75%</th>\n",
       "      <td>2019-07-04 00:00:00</td>\n",
       "      <td>8.599100e+04</td>\n",
       "      <td>0.000000e+00</td>\n",
       "    </tr>\n",
       "    <tr>\n",
       "      <th>max</th>\n",
       "      <td>2020-07-02 00:00:00</td>\n",
       "      <td>2.525400e+05</td>\n",
       "      <td>1.000000e+00</td>\n",
       "    </tr>\n",
       "    <tr>\n",
       "      <th>std</th>\n",
       "      <td>NaN</td>\n",
       "      <td>5.317730e+04</td>\n",
       "      <td>2.179109e-01</td>\n",
       "    </tr>\n",
       "  </tbody>\n",
       "</table>\n",
       "</div>"
      ]
     },
     "execution_count": 107,
     "metadata": {},
     "output_type": "execute_result"
    }
   ],
   "execution_count": 107
  },
  {
   "metadata": {
    "ExecuteTime": {
     "end_time": "2025-06-17T17:25:30.393660Z",
     "start_time": "2025-06-17T17:25:30.385287Z"
    }
   },
   "cell_type": "code",
   "source": "test_df.describe()",
   "id": "809935b2c9acc56f",
   "outputs": [
    {
     "data": {
      "text/plain": [
       "                 timestamp    OwnerUserId  contribution\n",
       "count                88137   88137.000000  88137.000000\n",
       "mean   2021-01-01 00:00:00  104481.995121      0.027355\n",
       "min    2021-01-01 00:00:00       0.000000      0.000000\n",
       "25%    2021-01-01 00:00:00   37569.000000      0.000000\n",
       "50%    2021-01-01 00:00:00   88666.000000      0.000000\n",
       "75%    2021-01-01 00:00:00  169146.000000      0.000000\n",
       "max    2021-01-01 00:00:00  255358.000000      1.000000\n",
       "std                    NaN   75397.114417      0.163117"
      ],
      "text/html": [
       "<div>\n",
       "<style scoped>\n",
       "    .dataframe tbody tr th:only-of-type {\n",
       "        vertical-align: middle;\n",
       "    }\n",
       "\n",
       "    .dataframe tbody tr th {\n",
       "        vertical-align: top;\n",
       "    }\n",
       "\n",
       "    .dataframe thead th {\n",
       "        text-align: right;\n",
       "    }\n",
       "</style>\n",
       "<table border=\"1\" class=\"dataframe\">\n",
       "  <thead>\n",
       "    <tr style=\"text-align: right;\">\n",
       "      <th></th>\n",
       "      <th>timestamp</th>\n",
       "      <th>OwnerUserId</th>\n",
       "      <th>contribution</th>\n",
       "    </tr>\n",
       "  </thead>\n",
       "  <tbody>\n",
       "    <tr>\n",
       "      <th>count</th>\n",
       "      <td>88137</td>\n",
       "      <td>88137.000000</td>\n",
       "      <td>88137.000000</td>\n",
       "    </tr>\n",
       "    <tr>\n",
       "      <th>mean</th>\n",
       "      <td>2021-01-01 00:00:00</td>\n",
       "      <td>104481.995121</td>\n",
       "      <td>0.027355</td>\n",
       "    </tr>\n",
       "    <tr>\n",
       "      <th>min</th>\n",
       "      <td>2021-01-01 00:00:00</td>\n",
       "      <td>0.000000</td>\n",
       "      <td>0.000000</td>\n",
       "    </tr>\n",
       "    <tr>\n",
       "      <th>25%</th>\n",
       "      <td>2021-01-01 00:00:00</td>\n",
       "      <td>37569.000000</td>\n",
       "      <td>0.000000</td>\n",
       "    </tr>\n",
       "    <tr>\n",
       "      <th>50%</th>\n",
       "      <td>2021-01-01 00:00:00</td>\n",
       "      <td>88666.000000</td>\n",
       "      <td>0.000000</td>\n",
       "    </tr>\n",
       "    <tr>\n",
       "      <th>75%</th>\n",
       "      <td>2021-01-01 00:00:00</td>\n",
       "      <td>169146.000000</td>\n",
       "      <td>0.000000</td>\n",
       "    </tr>\n",
       "    <tr>\n",
       "      <th>max</th>\n",
       "      <td>2021-01-01 00:00:00</td>\n",
       "      <td>255358.000000</td>\n",
       "      <td>1.000000</td>\n",
       "    </tr>\n",
       "    <tr>\n",
       "      <th>std</th>\n",
       "      <td>NaN</td>\n",
       "      <td>75397.114417</td>\n",
       "      <td>0.163117</td>\n",
       "    </tr>\n",
       "  </tbody>\n",
       "</table>\n",
       "</div>"
      ]
     },
     "execution_count": 108,
     "metadata": {},
     "output_type": "execute_result"
    }
   ],
   "execution_count": 108
  },
  {
   "metadata": {
    "ExecuteTime": {
     "end_time": "2025-06-17T17:25:30.475745Z",
     "start_time": "2025-06-17T17:25:30.467871Z"
    }
   },
   "cell_type": "code",
   "source": "val_df.describe()",
   "id": "74c68c70dadedefd",
   "outputs": [
    {
     "data": {
      "text/plain": [
       "                 timestamp    OwnerUserId  contribution\n",
       "count                85838   85838.000000  85838.000000\n",
       "mean   2020-10-01 00:00:00  100932.342016      0.028088\n",
       "min    2020-10-01 00:00:00       0.000000      0.000000\n",
       "25%    2020-10-01 00:00:00   36492.500000      0.000000\n",
       "50%    2020-10-01 00:00:00   85743.500000      0.000000\n",
       "75%    2020-10-01 00:00:00  163466.250000      0.000000\n",
       "max    2020-10-01 00:00:00  252669.000000      1.000000\n",
       "std                    NaN   72878.547556      0.165225"
      ],
      "text/html": [
       "<div>\n",
       "<style scoped>\n",
       "    .dataframe tbody tr th:only-of-type {\n",
       "        vertical-align: middle;\n",
       "    }\n",
       "\n",
       "    .dataframe tbody tr th {\n",
       "        vertical-align: top;\n",
       "    }\n",
       "\n",
       "    .dataframe thead th {\n",
       "        text-align: right;\n",
       "    }\n",
       "</style>\n",
       "<table border=\"1\" class=\"dataframe\">\n",
       "  <thead>\n",
       "    <tr style=\"text-align: right;\">\n",
       "      <th></th>\n",
       "      <th>timestamp</th>\n",
       "      <th>OwnerUserId</th>\n",
       "      <th>contribution</th>\n",
       "    </tr>\n",
       "  </thead>\n",
       "  <tbody>\n",
       "    <tr>\n",
       "      <th>count</th>\n",
       "      <td>85838</td>\n",
       "      <td>85838.000000</td>\n",
       "      <td>85838.000000</td>\n",
       "    </tr>\n",
       "    <tr>\n",
       "      <th>mean</th>\n",
       "      <td>2020-10-01 00:00:00</td>\n",
       "      <td>100932.342016</td>\n",
       "      <td>0.028088</td>\n",
       "    </tr>\n",
       "    <tr>\n",
       "      <th>min</th>\n",
       "      <td>2020-10-01 00:00:00</td>\n",
       "      <td>0.000000</td>\n",
       "      <td>0.000000</td>\n",
       "    </tr>\n",
       "    <tr>\n",
       "      <th>25%</th>\n",
       "      <td>2020-10-01 00:00:00</td>\n",
       "      <td>36492.500000</td>\n",
       "      <td>0.000000</td>\n",
       "    </tr>\n",
       "    <tr>\n",
       "      <th>50%</th>\n",
       "      <td>2020-10-01 00:00:00</td>\n",
       "      <td>85743.500000</td>\n",
       "      <td>0.000000</td>\n",
       "    </tr>\n",
       "    <tr>\n",
       "      <th>75%</th>\n",
       "      <td>2020-10-01 00:00:00</td>\n",
       "      <td>163466.250000</td>\n",
       "      <td>0.000000</td>\n",
       "    </tr>\n",
       "    <tr>\n",
       "      <th>max</th>\n",
       "      <td>2020-10-01 00:00:00</td>\n",
       "      <td>252669.000000</td>\n",
       "      <td>1.000000</td>\n",
       "    </tr>\n",
       "    <tr>\n",
       "      <th>std</th>\n",
       "      <td>NaN</td>\n",
       "      <td>72878.547556</td>\n",
       "      <td>0.165225</td>\n",
       "    </tr>\n",
       "  </tbody>\n",
       "</table>\n",
       "</div>"
      ]
     },
     "execution_count": 109,
     "metadata": {},
     "output_type": "execute_result"
    }
   ],
   "execution_count": 109
  },
  {
   "metadata": {
    "ExecuteTime": {
     "end_time": "2025-06-17T17:25:30.578855Z",
     "start_time": "2025-06-17T17:25:30.576128Z"
    }
   },
   "cell_type": "code",
   "source": [
    "user_engagement_train_labels = train_df.contribution.to_numpy()\n",
    "user_engagement_test_labels = test_df.contribution.to_numpy()\n",
    "user_engagement_val_labels = val_df.contribution.to_numpy()"
   ],
   "id": "a92b587a14f2ae07",
   "outputs": [],
   "execution_count": 110
  },
  {
   "metadata": {
    "ExecuteTime": {
     "end_time": "2025-06-17T17:25:30.808862Z",
     "start_time": "2025-06-17T17:25:30.662719Z"
    }
   },
   "cell_type": "code",
   "source": [
    "fig, ax = plt.subplots(1, 3, figsize=(15, 4))\n",
    "ax = ax.reshape((-1))\n",
    "\n",
    "plot_binary_dist(ax[0], user_engagement_train_labels, 'Count', 'Train Set')\n",
    "plot_binary_dist(ax[1], user_engagement_test_labels, 'Count', 'Test Set')\n",
    "plot_binary_dist(ax[2], user_engagement_val_labels, 'Count', 'Validation Set')\n",
    "\n",
    "plt.savefig('user_engagement_dist.pdf')\n",
    "plt.show()"
   ],
   "id": "6ee7193f4e1b47fd",
   "outputs": [
    {
     "data": {
      "text/plain": [
       "<Figure size 1500x400 with 3 Axes>"
      ],
      "image/png": "[encoded data removed]"
     },
     "metadata": {},
     "output_type": "display_data"
    }
   ],
   "execution_count": 111
  },
  {
   "metadata": {
    "ExecuteTime": {
     "end_time": "2025-06-17T17:25:36.454370Z",
     "start_time": "2025-06-17T17:25:36.384065Z"
    }
   },
   "cell_type": "code",
   "source": [
    "conn.close()\n",
    "gc.collect()"
   ],
   "id": "2b4eea05b056f802",
   "outputs": [
    {
     "data": {
      "text/plain": [
       "3882"
      ]
     },
     "execution_count": 112,
     "metadata": {},
     "output_type": "execute_result"
    }
   ],
   "execution_count": 112
  },
  {
   "metadata": {},
   "cell_type": "code",
   "outputs": [],
   "execution_count": null,
   "source": "",
   "id": "672189f70394664f"
  }
 ],
 "metadata": {
  "kernelspec": {
   "display_name": "Python 3",
   "language": "python",
   "name": "python3"
  },
  "language_info": {
   "codemirror_mode": {
    "name": "ipython",
    "version": 2
   },
   "file_extension": ".py",
   "mimetype": "text/x-python",
   "name": "python",
   "nbconvert_exporter": "python",
   "pygments_lexer": "ipython2",
   "version": "2.7.6"
  }
 },
 "nbformat": 4,
 "nbformat_minor": 5
}
