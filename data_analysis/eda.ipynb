{
 "cells": [
  {
   "cell_type": "code",
   "id": "initial_id",
   "metadata": {
    "collapsed": true,
    "ExecuteTime": {
     "end_time": "2025-06-17T14:51:46.693047Z",
     "start_time": "2025-06-17T14:51:46.684863Z"
    }
   },
   "source": [
    "import gc\n",
    "import utils\n",
    "import duckdb\n",
    "import plotly.express as px\n",
    "import plotly.io as pio\n",
    "import matplotlib.pyplot as plt\n",
    "import numpy as np\n",
    "# jupysql is a requirement too"
   ],
   "outputs": [],
   "execution_count": 33
  },
  {
   "metadata": {
    "ExecuteTime": {
     "end_time": "2025-06-17T14:51:46.723340Z",
     "start_time": "2025-06-17T14:51:46.719837Z"
    }
   },
   "cell_type": "code",
   "source": [
    "# Matplotlib config\n",
    "plt.rcParams.update({\n",
    "    \"font.family\":       \"serif\",\n",
    "    \"font.serif\":        [\"Times New Roman\", \"Palatino\", \"STIX\"],\n",
    "    \"mathtext.fontset\":  \"stix\",         # use STIX fonts for math\n",
    "    \"text.usetex\":       False,          # or True if you have LaTeX installed\n",
    "\n",
    "    # 2) Axis titles and tick labels\n",
    "    \"axes.labelsize\":    14,\n",
    "    \"axes.titlesize\":    16,\n",
    "    \"xtick.labelsize\":   12,\n",
    "    \"ytick.labelsize\":   12,\n",
    "    \"xtick.direction\":   \"out\",\n",
    "    \"ytick.direction\":   \"out\",\n",
    "\n",
    "    # 3) Grid style\n",
    "    \"axes.grid\":         False,\n",
    "    \"grid.color\":        \"0.8\",          # light grey\n",
    "    \"grid.linestyle\":    \"--\",\n",
    "    \"grid.linewidth\":    0.5,\n",
    "\n",
    "    # 4) Legend styling\n",
    "    \"legend.frameon\":    True,\n",
    "    \"legend.framealpha\": 0.9,\n",
    "    \"legend.edgecolor\":  \"0.8\",\n",
    "    \"legend.fontsize\":   12,\n",
    "\n",
    "    \"axes.formatter.useoffset\": False,\n",
    "    \"axes.formatter.limits\": (-4, 4),\n",
    "})"
   ],
   "id": "7a98557a935d6a0c",
   "outputs": [],
   "execution_count": 34
  },
  {
   "metadata": {
    "ExecuteTime": {
     "end_time": "2025-06-17T14:51:46.837951Z",
     "start_time": "2025-06-17T14:51:46.748991Z"
    }
   },
   "cell_type": "code",
   "source": [
    "utils.db_setup('rel-f1', 'f1.db')\n",
    "utils.db_setup('rel-avito', 'avito.db')\n",
    "utils.db_setup('rel-hm', 'hm.db')\n",
    "utils.db_setup('rel-stack', 'stack.db')\n",
    "utils.db_setup('rel-trial', 'trial.db')"
   ],
   "id": "e467e93256ae5d13",
   "outputs": [
    {
     "name": "stdout",
     "output_type": "stream",
     "text": [
      "Catalog Error: Table with name \"races\" already exists!\n",
      "Catalog Error: Table with name \"AdsInfo\" already exists!\n",
      "Catalog Error: Table with name \"article\" already exists!\n",
      "Catalog Error: Table with name \"users\" already exists!\n",
      "Catalog Error: Table with name \"studies\" already exists!\n"
     ]
    }
   ],
   "execution_count": 35
  },
  {
   "metadata": {},
   "cell_type": "markdown",
   "source": "# F1",
   "id": "7cae56406e772592"
  },
  {
   "metadata": {
    "ExecuteTime": {
     "end_time": "2025-06-17T14:51:46.973901Z",
     "start_time": "2025-06-17T14:51:46.959982Z"
    }
   },
   "cell_type": "code",
   "source": [
    "conn = duckdb.connect('f1.db')\n",
    "%load_ext sql\n",
    "%sql conn --alias duckdb\n",
    "%config SqlMagic.displaycon=False\n",
    "%config SqlMagic.autopandas=True\n",
    "pio.renderers.default = 'svg'"
   ],
   "id": "67ef4711af13eb55",
   "outputs": [
    {
     "name": "stdout",
     "output_type": "stream",
     "text": [
      "The sql extension is already loaded. To reload it, use:\n",
      "  %reload_ext sql\n"
     ]
    }
   ],
   "execution_count": 36
  },
  {
   "metadata": {
    "ExecuteTime": {
     "end_time": "2025-06-17T14:51:46.997517Z",
     "start_time": "2025-06-17T14:51:46.991609Z"
    }
   },
   "cell_type": "code",
   "source": [
    "%%sql train_df <<\n",
    "from driver_position_train"
   ],
   "id": "3f6be6c464b668c2",
   "outputs": [],
   "execution_count": 37
  },
  {
   "metadata": {
    "ExecuteTime": {
     "end_time": "2025-06-17T14:51:47.012648Z",
     "start_time": "2025-06-17T14:51:47.008771Z"
    }
   },
   "cell_type": "code",
   "source": [
    "%%sql test_df <<\n",
    "from driver_position_test"
   ],
   "id": "eb0852836bb68bb1",
   "outputs": [],
   "execution_count": 38
  },
  {
   "metadata": {
    "ExecuteTime": {
     "end_time": "2025-06-17T14:51:47.031866Z",
     "start_time": "2025-06-17T14:51:47.025844Z"
    }
   },
   "cell_type": "code",
   "source": [
    "%%sql val_df <<\n",
    "from driver_position_val"
   ],
   "id": "8ff8039198c1facf",
   "outputs": [],
   "execution_count": 39
  },
  {
   "metadata": {
    "ExecuteTime": {
     "end_time": "2025-06-17T14:51:47.053496Z",
     "start_time": "2025-06-17T14:51:47.043707Z"
    }
   },
   "cell_type": "code",
   "source": "train_df.describe()",
   "id": "f6c47697b778de47",
   "outputs": [
    {
     "data": {
      "text/plain": [
       "                                date     driverId     position\n",
       "count                           7453  7453.000000  7453.000000\n",
       "mean   1977-07-01 23:41:38.698510656   262.155105    13.901438\n",
       "min              1950-06-19 00:00:00     1.000000     1.000000\n",
       "25%              1964-04-06 00:00:00   108.000000     9.000000\n",
       "50%              1977-11-24 00:00:00   208.000000    13.333333\n",
       "75%              1990-05-20 00:00:00   374.000000    18.000000\n",
       "max              2004-09-03 00:00:00   806.000000    39.000000\n",
       "std                              NaN   192.276916     7.025734"
      ],
      "text/html": [
       "<div>\n",
       "<style scoped>\n",
       "    .dataframe tbody tr th:only-of-type {\n",
       "        vertical-align: middle;\n",
       "    }\n",
       "\n",
       "    .dataframe tbody tr th {\n",
       "        vertical-align: top;\n",
       "    }\n",
       "\n",
       "    .dataframe thead th {\n",
       "        text-align: right;\n",
       "    }\n",
       "</style>\n",
       "<table border=\"1\" class=\"dataframe\">\n",
       "  <thead>\n",
       "    <tr style=\"text-align: right;\">\n",
       "      <th></th>\n",
       "      <th>date</th>\n",
       "      <th>driverId</th>\n",
       "      <th>position</th>\n",
       "    </tr>\n",
       "  </thead>\n",
       "  <tbody>\n",
       "    <tr>\n",
       "      <th>count</th>\n",
       "      <td>7453</td>\n",
       "      <td>7453.000000</td>\n",
       "      <td>7453.000000</td>\n",
       "    </tr>\n",
       "    <tr>\n",
       "      <th>mean</th>\n",
       "      <td>1977-07-01 23:41:38.698510656</td>\n",
       "      <td>262.155105</td>\n",
       "      <td>13.901438</td>\n",
       "    </tr>\n",
       "    <tr>\n",
       "      <th>min</th>\n",
       "      <td>1950-06-19 00:00:00</td>\n",
       "      <td>1.000000</td>\n",
       "      <td>1.000000</td>\n",
       "    </tr>\n",
       "    <tr>\n",
       "      <th>25%</th>\n",
       "      <td>1964-04-06 00:00:00</td>\n",
       "      <td>108.000000</td>\n",
       "      <td>9.000000</td>\n",
       "    </tr>\n",
       "    <tr>\n",
       "      <th>50%</th>\n",
       "      <td>1977-11-24 00:00:00</td>\n",
       "      <td>208.000000</td>\n",
       "      <td>13.333333</td>\n",
       "    </tr>\n",
       "    <tr>\n",
       "      <th>75%</th>\n",
       "      <td>1990-05-20 00:00:00</td>\n",
       "      <td>374.000000</td>\n",
       "      <td>18.000000</td>\n",
       "    </tr>\n",
       "    <tr>\n",
       "      <th>max</th>\n",
       "      <td>2004-09-03 00:00:00</td>\n",
       "      <td>806.000000</td>\n",
       "      <td>39.000000</td>\n",
       "    </tr>\n",
       "    <tr>\n",
       "      <th>std</th>\n",
       "      <td>NaN</td>\n",
       "      <td>192.276916</td>\n",
       "      <td>7.025734</td>\n",
       "    </tr>\n",
       "  </tbody>\n",
       "</table>\n",
       "</div>"
      ]
     },
     "execution_count": 40,
     "metadata": {},
     "output_type": "execute_result"
    }
   ],
   "execution_count": 40
  },
  {
   "metadata": {
    "ExecuteTime": {
     "end_time": "2025-06-17T14:51:47.114921Z",
     "start_time": "2025-06-17T14:51:47.105870Z"
    }
   },
   "cell_type": "code",
   "source": "test_df.describe()",
   "id": "fcd3489ebda72f18",
   "outputs": [
    {
     "data": {
      "text/plain": [
       "                                date    driverId    position\n",
       "count                            760  760.000000  760.000000\n",
       "mean   2013-02-25 03:09:28.421052672  369.565789   11.926206\n",
       "min              2010-03-02 00:00:00    0.000000    1.000000\n",
       "25%              2011-06-25 00:00:00   12.000000    8.000000\n",
       "50%              2013-02-14 00:00:00  109.000000   12.183333\n",
       "75%              2014-10-07 00:00:00  815.000000   16.000000\n",
       "max              2016-05-29 00:00:00  837.000000   24.000000\n",
       "std                              NaN  391.605783    5.213817"
      ],
      "text/html": [
       "<div>\n",
       "<style scoped>\n",
       "    .dataframe tbody tr th:only-of-type {\n",
       "        vertical-align: middle;\n",
       "    }\n",
       "\n",
       "    .dataframe tbody tr th {\n",
       "        vertical-align: top;\n",
       "    }\n",
       "\n",
       "    .dataframe thead th {\n",
       "        text-align: right;\n",
       "    }\n",
       "</style>\n",
       "<table border=\"1\" class=\"dataframe\">\n",
       "  <thead>\n",
       "    <tr style=\"text-align: right;\">\n",
       "      <th></th>\n",
       "      <th>date</th>\n",
       "      <th>driverId</th>\n",
       "      <th>position</th>\n",
       "    </tr>\n",
       "  </thead>\n",
       "  <tbody>\n",
       "    <tr>\n",
       "      <th>count</th>\n",
       "      <td>760</td>\n",
       "      <td>760.000000</td>\n",
       "      <td>760.000000</td>\n",
       "    </tr>\n",
       "    <tr>\n",
       "      <th>mean</th>\n",
       "      <td>2013-02-25 03:09:28.421052672</td>\n",
       "      <td>369.565789</td>\n",
       "      <td>11.926206</td>\n",
       "    </tr>\n",
       "    <tr>\n",
       "      <th>min</th>\n",
       "      <td>2010-03-02 00:00:00</td>\n",
       "      <td>0.000000</td>\n",
       "      <td>1.000000</td>\n",
       "    </tr>\n",
       "    <tr>\n",
       "      <th>25%</th>\n",
       "      <td>2011-06-25 00:00:00</td>\n",
       "      <td>12.000000</td>\n",
       "      <td>8.000000</td>\n",
       "    </tr>\n",
       "    <tr>\n",
       "      <th>50%</th>\n",
       "      <td>2013-02-14 00:00:00</td>\n",
       "      <td>109.000000</td>\n",
       "      <td>12.183333</td>\n",
       "    </tr>\n",
       "    <tr>\n",
       "      <th>75%</th>\n",
       "      <td>2014-10-07 00:00:00</td>\n",
       "      <td>815.000000</td>\n",
       "      <td>16.000000</td>\n",
       "    </tr>\n",
       "    <tr>\n",
       "      <th>max</th>\n",
       "      <td>2016-05-29 00:00:00</td>\n",
       "      <td>837.000000</td>\n",
       "      <td>24.000000</td>\n",
       "    </tr>\n",
       "    <tr>\n",
       "      <th>std</th>\n",
       "      <td>NaN</td>\n",
       "      <td>391.605783</td>\n",
       "      <td>5.213817</td>\n",
       "    </tr>\n",
       "  </tbody>\n",
       "</table>\n",
       "</div>"
      ]
     },
     "execution_count": 41,
     "metadata": {},
     "output_type": "execute_result"
    }
   ],
   "execution_count": 41
  },
  {
   "metadata": {
    "ExecuteTime": {
     "end_time": "2025-06-17T14:51:47.203725Z",
     "start_time": "2025-06-17T14:51:47.197497Z"
    }
   },
   "cell_type": "code",
   "source": "val_df.describe()",
   "id": "e66bbce75f81b582",
   "outputs": [
    {
     "data": {
      "text/plain": [
       "                                date    driverId    position\n",
       "count                            499  499.000000  499.000000\n",
       "mean   2007-07-08 09:31:22.965931776   17.146293   11.083200\n",
       "min              2005-03-02 00:00:00    0.000000    1.000000\n",
       "25%              2006-04-26 00:00:00    7.000000    7.550000\n",
       "50%              2007-08-19 00:00:00   15.000000   11.400000\n",
       "75%              2008-08-13 00:00:00   21.000000   14.666667\n",
       "max              2009-10-07 00:00:00  154.000000   22.000000\n",
       "std                              NaN   18.703044    4.640726"
      ],
      "text/html": [
       "<div>\n",
       "<style scoped>\n",
       "    .dataframe tbody tr th:only-of-type {\n",
       "        vertical-align: middle;\n",
       "    }\n",
       "\n",
       "    .dataframe tbody tr th {\n",
       "        vertical-align: top;\n",
       "    }\n",
       "\n",
       "    .dataframe thead th {\n",
       "        text-align: right;\n",
       "    }\n",
       "</style>\n",
       "<table border=\"1\" class=\"dataframe\">\n",
       "  <thead>\n",
       "    <tr style=\"text-align: right;\">\n",
       "      <th></th>\n",
       "      <th>date</th>\n",
       "      <th>driverId</th>\n",
       "      <th>position</th>\n",
       "    </tr>\n",
       "  </thead>\n",
       "  <tbody>\n",
       "    <tr>\n",
       "      <th>count</th>\n",
       "      <td>499</td>\n",
       "      <td>499.000000</td>\n",
       "      <td>499.000000</td>\n",
       "    </tr>\n",
       "    <tr>\n",
       "      <th>mean</th>\n",
       "      <td>2007-07-08 09:31:22.965931776</td>\n",
       "      <td>17.146293</td>\n",
       "      <td>11.083200</td>\n",
       "    </tr>\n",
       "    <tr>\n",
       "      <th>min</th>\n",
       "      <td>2005-03-02 00:00:00</td>\n",
       "      <td>0.000000</td>\n",
       "      <td>1.000000</td>\n",
       "    </tr>\n",
       "    <tr>\n",
       "      <th>25%</th>\n",
       "      <td>2006-04-26 00:00:00</td>\n",
       "      <td>7.000000</td>\n",
       "      <td>7.550000</td>\n",
       "    </tr>\n",
       "    <tr>\n",
       "      <th>50%</th>\n",
       "      <td>2007-08-19 00:00:00</td>\n",
       "      <td>15.000000</td>\n",
       "      <td>11.400000</td>\n",
       "    </tr>\n",
       "    <tr>\n",
       "      <th>75%</th>\n",
       "      <td>2008-08-13 00:00:00</td>\n",
       "      <td>21.000000</td>\n",
       "      <td>14.666667</td>\n",
       "    </tr>\n",
       "    <tr>\n",
       "      <th>max</th>\n",
       "      <td>2009-10-07 00:00:00</td>\n",
       "      <td>154.000000</td>\n",
       "      <td>22.000000</td>\n",
       "    </tr>\n",
       "    <tr>\n",
       "      <th>std</th>\n",
       "      <td>NaN</td>\n",
       "      <td>18.703044</td>\n",
       "      <td>4.640726</td>\n",
       "    </tr>\n",
       "  </tbody>\n",
       "</table>\n",
       "</div>"
      ]
     },
     "execution_count": 42,
     "metadata": {},
     "output_type": "execute_result"
    }
   ],
   "execution_count": 42
  },
  {
   "metadata": {
    "ExecuteTime": {
     "end_time": "2025-06-17T14:51:47.301505Z",
     "start_time": "2025-06-17T14:51:47.299185Z"
    }
   },
   "cell_type": "code",
   "source": [
    "driver_pos_train_labels = train_df['position'].to_numpy()\n",
    "driver_pos_test_labels = test_df['position'].to_numpy()\n",
    "driver_pos_val_labels = val_df['position'].to_numpy()"
   ],
   "id": "a08b4a20cec09908",
   "outputs": [],
   "execution_count": 43
  },
  {
   "metadata": {
    "ExecuteTime": {
     "end_time": "2025-06-17T14:51:47.387939Z",
     "start_time": "2025-06-17T14:51:47.385413Z"
    }
   },
   "cell_type": "code",
   "source": [
    "def plot_reg_dist(ax, data, xlabel, ylabel, title):\n",
    "    mean = np.mean(data)\n",
    "    ax.hist(data, bins='auto')\n",
    "    ax.axvline(mean, label='Mean', color='r')\n",
    "    ax.set_xlabel(xlabel)\n",
    "    ax.set_ylabel(ylabel)\n",
    "    ax.set_title(title)"
   ],
   "id": "10db49d6a7864e0b",
   "outputs": [],
   "execution_count": 44
  },
  {
   "metadata": {
    "ExecuteTime": {
     "end_time": "2025-06-17T14:51:47.639085Z",
     "start_time": "2025-06-17T14:51:47.437687Z"
    }
   },
   "cell_type": "code",
   "source": [
    "fig, ax = plt.subplots(1, 3, figsize=(15, 4))\n",
    "ax = ax.reshape((-1))\n",
    "\n",
    "xlabel = 'Driver Position'\n",
    "ylabel = 'Count'\n",
    "\n",
    "plot_reg_dist(ax[0], driver_pos_train_labels, xlabel, ylabel, 'Train Set')\n",
    "plot_reg_dist(ax[1], driver_pos_test_labels, xlabel, ylabel, 'Test Set')\n",
    "plot_reg_dist(ax[2], driver_pos_val_labels, xlabel, ylabel, 'Validation Set')\n",
    "\n",
    "plt.savefig('driver_position_dist.pdf')\n",
    "plt.show()"
   ],
   "id": "352653c7b9160561",
   "outputs": [
    {
     "data": {
      "text/plain": [
       "<Figure size 1500x400 with 3 Axes>"
      ],
      "image/png": "[encoded data removed]"
     },
     "metadata": {},
     "output_type": "display_data"
    }
   ],
   "execution_count": 45
  },
  {
   "metadata": {
    "ExecuteTime": {
     "end_time": "2025-06-17T14:51:47.663024Z",
     "start_time": "2025-06-17T14:51:47.656379Z"
    }
   },
   "cell_type": "code",
   "source": [
    "%%sql train_df <<\n",
    "from driver_top3_train"
   ],
   "id": "e754902ec00aa00a",
   "outputs": [],
   "execution_count": 46
  },
  {
   "metadata": {
    "ExecuteTime": {
     "end_time": "2025-06-17T14:51:47.678773Z",
     "start_time": "2025-06-17T14:51:47.674793Z"
    }
   },
   "cell_type": "code",
   "source": [
    "%%sql test_df <<\n",
    "from driver_top3_test"
   ],
   "id": "80631dae6fd41502",
   "outputs": [],
   "execution_count": 47
  },
  {
   "metadata": {
    "ExecuteTime": {
     "end_time": "2025-06-17T14:51:47.693316Z",
     "start_time": "2025-06-17T14:51:47.689290Z"
    }
   },
   "cell_type": "code",
   "source": [
    "%%sql val_df <<\n",
    "from driver_top3_val"
   ],
   "id": "4765c981053e787f",
   "outputs": [],
   "execution_count": 48
  },
  {
   "metadata": {
    "ExecuteTime": {
     "end_time": "2025-06-17T14:51:47.712685Z",
     "start_time": "2025-06-17T14:51:47.704803Z"
    }
   },
   "cell_type": "code",
   "source": "train_df.describe()",
   "id": "501146b65a6e065f",
   "outputs": [
    {
     "data": {
      "text/plain": [
       "                                date     driverId   qualifying\n",
       "count                           1353  1353.000000  1353.000000\n",
       "mean   1998-10-03 08:37:15.033259392    49.562454     0.170732\n",
       "min              1994-02-28 00:00:00     1.000000     0.000000\n",
       "25%              1995-05-24 00:00:00    22.000000     0.000000\n",
       "50%              1997-07-12 00:00:00    49.000000     0.000000\n",
       "75%              2003-03-13 00:00:00    70.000000     0.000000\n",
       "max              2004-10-03 00:00:00   115.000000     1.000000\n",
       "std                              NaN    28.320688     0.376413"
      ],
      "text/html": [
       "<div>\n",
       "<style scoped>\n",
       "    .dataframe tbody tr th:only-of-type {\n",
       "        vertical-align: middle;\n",
       "    }\n",
       "\n",
       "    .dataframe tbody tr th {\n",
       "        vertical-align: top;\n",
       "    }\n",
       "\n",
       "    .dataframe thead th {\n",
       "        text-align: right;\n",
       "    }\n",
       "</style>\n",
       "<table border=\"1\" class=\"dataframe\">\n",
       "  <thead>\n",
       "    <tr style=\"text-align: right;\">\n",
       "      <th></th>\n",
       "      <th>date</th>\n",
       "      <th>driverId</th>\n",
       "      <th>qualifying</th>\n",
       "    </tr>\n",
       "  </thead>\n",
       "  <tbody>\n",
       "    <tr>\n",
       "      <th>count</th>\n",
       "      <td>1353</td>\n",
       "      <td>1353.000000</td>\n",
       "      <td>1353.000000</td>\n",
       "    </tr>\n",
       "    <tr>\n",
       "      <th>mean</th>\n",
       "      <td>1998-10-03 08:37:15.033259392</td>\n",
       "      <td>49.562454</td>\n",
       "      <td>0.170732</td>\n",
       "    </tr>\n",
       "    <tr>\n",
       "      <th>min</th>\n",
       "      <td>1994-02-28 00:00:00</td>\n",
       "      <td>1.000000</td>\n",
       "      <td>0.000000</td>\n",
       "    </tr>\n",
       "    <tr>\n",
       "      <th>25%</th>\n",
       "      <td>1995-05-24 00:00:00</td>\n",
       "      <td>22.000000</td>\n",
       "      <td>0.000000</td>\n",
       "    </tr>\n",
       "    <tr>\n",
       "      <th>50%</th>\n",
       "      <td>1997-07-12 00:00:00</td>\n",
       "      <td>49.000000</td>\n",
       "      <td>0.000000</td>\n",
       "    </tr>\n",
       "    <tr>\n",
       "      <th>75%</th>\n",
       "      <td>2003-03-13 00:00:00</td>\n",
       "      <td>70.000000</td>\n",
       "      <td>0.000000</td>\n",
       "    </tr>\n",
       "    <tr>\n",
       "      <th>max</th>\n",
       "      <td>2004-10-03 00:00:00</td>\n",
       "      <td>115.000000</td>\n",
       "      <td>1.000000</td>\n",
       "    </tr>\n",
       "    <tr>\n",
       "      <th>std</th>\n",
       "      <td>NaN</td>\n",
       "      <td>28.320688</td>\n",
       "      <td>0.376413</td>\n",
       "    </tr>\n",
       "  </tbody>\n",
       "</table>\n",
       "</div>"
      ]
     },
     "execution_count": 49,
     "metadata": {},
     "output_type": "execute_result"
    }
   ],
   "execution_count": 49
  },
  {
   "metadata": {
    "ExecuteTime": {
     "end_time": "2025-06-17T14:51:47.760997Z",
     "start_time": "2025-06-17T14:51:47.753518Z"
    }
   },
   "cell_type": "code",
   "source": "test_df.describe()",
   "id": "db5170bda1be5586",
   "outputs": [
    {
     "data": {
      "text/plain": [
       "                                date    driverId  qualifying\n",
       "count                            726  726.000000  726.000000\n",
       "mean   2011-08-04 06:56:31.735537152  252.154270    0.176309\n",
       "min              2010-03-02 00:00:00    0.000000    0.000000\n",
       "25%              2010-09-28 00:00:00   12.000000    0.000000\n",
       "50%              2011-07-25 00:00:00   23.000000    0.000000\n",
       "75%              2012-05-20 00:00:00  808.000000    0.000000\n",
       "max              2013-03-16 00:00:00  823.000000    1.000000\n",
       "std                              NaN  353.641273    0.381345"
      ],
      "text/html": [
       "<div>\n",
       "<style scoped>\n",
       "    .dataframe tbody tr th:only-of-type {\n",
       "        vertical-align: middle;\n",
       "    }\n",
       "\n",
       "    .dataframe tbody tr th {\n",
       "        vertical-align: top;\n",
       "    }\n",
       "\n",
       "    .dataframe thead th {\n",
       "        text-align: right;\n",
       "    }\n",
       "</style>\n",
       "<table border=\"1\" class=\"dataframe\">\n",
       "  <thead>\n",
       "    <tr style=\"text-align: right;\">\n",
       "      <th></th>\n",
       "      <th>date</th>\n",
       "      <th>driverId</th>\n",
       "      <th>qualifying</th>\n",
       "    </tr>\n",
       "  </thead>\n",
       "  <tbody>\n",
       "    <tr>\n",
       "      <th>count</th>\n",
       "      <td>726</td>\n",
       "      <td>726.000000</td>\n",
       "      <td>726.000000</td>\n",
       "    </tr>\n",
       "    <tr>\n",
       "      <th>mean</th>\n",
       "      <td>2011-08-04 06:56:31.735537152</td>\n",
       "      <td>252.154270</td>\n",
       "      <td>0.176309</td>\n",
       "    </tr>\n",
       "    <tr>\n",
       "      <th>min</th>\n",
       "      <td>2010-03-02 00:00:00</td>\n",
       "      <td>0.000000</td>\n",
       "      <td>0.000000</td>\n",
       "    </tr>\n",
       "    <tr>\n",
       "      <th>25%</th>\n",
       "      <td>2010-09-28 00:00:00</td>\n",
       "      <td>12.000000</td>\n",
       "      <td>0.000000</td>\n",
       "    </tr>\n",
       "    <tr>\n",
       "      <th>50%</th>\n",
       "      <td>2011-07-25 00:00:00</td>\n",
       "      <td>23.000000</td>\n",
       "      <td>0.000000</td>\n",
       "    </tr>\n",
       "    <tr>\n",
       "      <th>75%</th>\n",
       "      <td>2012-05-20 00:00:00</td>\n",
       "      <td>808.000000</td>\n",
       "      <td>0.000000</td>\n",
       "    </tr>\n",
       "    <tr>\n",
       "      <th>max</th>\n",
       "      <td>2013-03-16 00:00:00</td>\n",
       "      <td>823.000000</td>\n",
       "      <td>1.000000</td>\n",
       "    </tr>\n",
       "    <tr>\n",
       "      <th>std</th>\n",
       "      <td>NaN</td>\n",
       "      <td>353.641273</td>\n",
       "      <td>0.381345</td>\n",
       "    </tr>\n",
       "  </tbody>\n",
       "</table>\n",
       "</div>"
      ]
     },
     "execution_count": 50,
     "metadata": {},
     "output_type": "execute_result"
    }
   ],
   "execution_count": 50
  },
  {
   "metadata": {
    "ExecuteTime": {
     "end_time": "2025-06-17T14:51:47.844963Z",
     "start_time": "2025-06-17T14:51:47.837891Z"
    }
   },
   "cell_type": "code",
   "source": "val_df.describe()",
   "id": "5983267173b30778",
   "outputs": [
    {
     "data": {
      "text/plain": [
       "                                date    driverId  qualifying\n",
       "count                            588  588.000000  588.000000\n",
       "mean   2006-08-23 00:44:04.897959168   17.204082    0.202381\n",
       "min              2005-03-02 00:00:00    0.000000    0.000000\n",
       "25%              2005-09-28 00:00:00   10.000000    0.000000\n",
       "50%              2006-07-25 00:00:00   17.000000    0.000000\n",
       "75%              2007-06-20 00:00:00   24.000000    0.000000\n",
       "max              2008-03-16 00:00:00   41.000000    1.000000\n",
       "std                              NaN   10.284000    0.402117"
      ],
      "text/html": [
       "<div>\n",
       "<style scoped>\n",
       "    .dataframe tbody tr th:only-of-type {\n",
       "        vertical-align: middle;\n",
       "    }\n",
       "\n",
       "    .dataframe tbody tr th {\n",
       "        vertical-align: top;\n",
       "    }\n",
       "\n",
       "    .dataframe thead th {\n",
       "        text-align: right;\n",
       "    }\n",
       "</style>\n",
       "<table border=\"1\" class=\"dataframe\">\n",
       "  <thead>\n",
       "    <tr style=\"text-align: right;\">\n",
       "      <th></th>\n",
       "      <th>date</th>\n",
       "      <th>driverId</th>\n",
       "      <th>qualifying</th>\n",
       "    </tr>\n",
       "  </thead>\n",
       "  <tbody>\n",
       "    <tr>\n",
       "      <th>count</th>\n",
       "      <td>588</td>\n",
       "      <td>588.000000</td>\n",
       "      <td>588.000000</td>\n",
       "    </tr>\n",
       "    <tr>\n",
       "      <th>mean</th>\n",
       "      <td>2006-08-23 00:44:04.897959168</td>\n",
       "      <td>17.204082</td>\n",
       "      <td>0.202381</td>\n",
       "    </tr>\n",
       "    <tr>\n",
       "      <th>min</th>\n",
       "      <td>2005-03-02 00:00:00</td>\n",
       "      <td>0.000000</td>\n",
       "      <td>0.000000</td>\n",
       "    </tr>\n",
       "    <tr>\n",
       "      <th>25%</th>\n",
       "      <td>2005-09-28 00:00:00</td>\n",
       "      <td>10.000000</td>\n",
       "      <td>0.000000</td>\n",
       "    </tr>\n",
       "    <tr>\n",
       "      <th>50%</th>\n",
       "      <td>2006-07-25 00:00:00</td>\n",
       "      <td>17.000000</td>\n",
       "      <td>0.000000</td>\n",
       "    </tr>\n",
       "    <tr>\n",
       "      <th>75%</th>\n",
       "      <td>2007-06-20 00:00:00</td>\n",
       "      <td>24.000000</td>\n",
       "      <td>0.000000</td>\n",
       "    </tr>\n",
       "    <tr>\n",
       "      <th>max</th>\n",
       "      <td>2008-03-16 00:00:00</td>\n",
       "      <td>41.000000</td>\n",
       "      <td>1.000000</td>\n",
       "    </tr>\n",
       "    <tr>\n",
       "      <th>std</th>\n",
       "      <td>NaN</td>\n",
       "      <td>10.284000</td>\n",
       "      <td>0.402117</td>\n",
       "    </tr>\n",
       "  </tbody>\n",
       "</table>\n",
       "</div>"
      ]
     },
     "execution_count": 51,
     "metadata": {},
     "output_type": "execute_result"
    }
   ],
   "execution_count": 51
  },
  {
   "metadata": {
    "ExecuteTime": {
     "end_time": "2025-06-17T14:51:47.932280Z",
     "start_time": "2025-06-17T14:51:47.929974Z"
    }
   },
   "cell_type": "code",
   "source": [
    "top3_train_labels = train_df.qualifying.to_numpy()\n",
    "top3_test_labels = test_df.qualifying.to_numpy()\n",
    "top3_val_labels = test_df.qualifying.to_numpy()"
   ],
   "id": "b019e01d2a103df7",
   "outputs": [],
   "execution_count": 52
  },
  {
   "metadata": {
    "ExecuteTime": {
     "end_time": "2025-06-17T14:51:48.119724Z",
     "start_time": "2025-06-17T14:51:48.116304Z"
    }
   },
   "cell_type": "code",
   "source": [
    "def plot_binary_dist(ax, data, ylabel, title):\n",
    "    counts = np.bincount(data)           # [num_zero, num_one]\n",
    "    pct = counts / counts.sum()   # fractions\n",
    "    bars = ax.bar([0, 1], counts, tick_label=[\"Negative (0)\", \"Positive (1)\"])\n",
    "    for bar, p in zip(bars, pct):\n",
    "        ax.text(\n",
    "            bar.get_x() + bar.get_width()/2,\n",
    "            bar.get_height(),\n",
    "            f\"{p*100:.1f}%\",\n",
    "            ha=\"center\",\n",
    "            va=\"bottom\",\n",
    "            fontweight=\"bold\"\n",
    "        )\n",
    "    ax.set_ylabel(ylabel)\n",
    "    ax.set_title(title)"
   ],
   "id": "c48828500860fb55",
   "outputs": [],
   "execution_count": 53
  },
  {
   "metadata": {
    "ExecuteTime": {
     "end_time": "2025-06-17T14:51:48.314832Z",
     "start_time": "2025-06-17T14:51:48.155092Z"
    }
   },
   "cell_type": "code",
   "source": [
    "fig, ax = plt.subplots(1, 3, figsize=(15, 4))\n",
    "ax = ax.reshape((-1))\n",
    "\n",
    "plot_binary_dist(ax[0], top3_train_labels, 'Count', 'Train Set')\n",
    "plot_binary_dist(ax[1], top3_test_labels, 'Count', 'Test Set')\n",
    "plot_binary_dist(ax[2], top3_val_labels, 'Count', 'Validation Set')\n",
    "\n",
    "plt.savefig('driver_top3_dist.pdf')\n",
    "plt.show()"
   ],
   "id": "3a1b2ef3da031300",
   "outputs": [
    {
     "data": {
      "text/plain": [
       "<Figure size 1500x400 with 3 Axes>"
      ],
      "image/png": "[encoded data removed]"
     },
     "metadata": {},
     "output_type": "display_data"
    }
   ],
   "execution_count": 54
  },
  {
   "metadata": {
    "ExecuteTime": {
     "end_time": "2025-06-17T14:51:48.337073Z",
     "start_time": "2025-06-17T14:51:48.333024Z"
    }
   },
   "cell_type": "code",
   "source": [
    "%%sql train_df <<\n",
    "from driver_dnf_train"
   ],
   "id": "8bc71b5ac3057d94",
   "outputs": [],
   "execution_count": 55
  },
  {
   "metadata": {
    "ExecuteTime": {
     "end_time": "2025-06-17T14:51:48.370415Z",
     "start_time": "2025-06-17T14:51:48.366334Z"
    }
   },
   "cell_type": "code",
   "source": [
    "%%sql test_df <<\n",
    "from driver_dnf_test"
   ],
   "id": "7f079f3cefcf2081",
   "outputs": [],
   "execution_count": 56
  },
  {
   "metadata": {
    "ExecuteTime": {
     "end_time": "2025-06-17T14:51:48.400497Z",
     "start_time": "2025-06-17T14:51:48.395966Z"
    }
   },
   "cell_type": "code",
   "source": [
    "%%sql val_df <<\n",
    "from driver_dnf_val"
   ],
   "id": "e97f3132dc2a8d41",
   "outputs": [],
   "execution_count": 57
  },
  {
   "metadata": {
    "ExecuteTime": {
     "end_time": "2025-06-17T14:51:48.423167Z",
     "start_time": "2025-06-17T14:51:48.420835Z"
    }
   },
   "cell_type": "code",
   "source": [
    "dnf_train_labels = train_df.did_not_finish.to_numpy()\n",
    "dnf_test_labels = test_df.did_not_finish.to_numpy()\n",
    "dnf_val_labels = val_df.did_not_finish.to_numpy()"
   ],
   "id": "44d88a97db9fed56",
   "outputs": [],
   "execution_count": 58
  },
  {
   "metadata": {
    "ExecuteTime": {
     "end_time": "2025-06-17T14:51:48.597044Z",
     "start_time": "2025-06-17T14:51:48.444457Z"
    }
   },
   "cell_type": "code",
   "source": [
    "fig, ax = plt.subplots(1, 3, figsize=(15, 4))\n",
    "ax = ax.reshape((-1))\n",
    "\n",
    "plot_binary_dist(ax[0], dnf_train_labels, 'Count', 'Train Set')\n",
    "plot_binary_dist(ax[1], dnf_test_labels, 'Count', 'Test Set')\n",
    "plot_binary_dist(ax[2], dnf_val_labels, 'Count', 'Validation Set')\n",
    "\n",
    "plt.savefig('driver_dnf_dist.pdf')\n",
    "plt.show()"
   ],
   "id": "ab5dc52f35d31e5c",
   "outputs": [
    {
     "data": {
      "text/plain": [
       "<Figure size 1500x400 with 3 Axes>"
      ],
      "image/png": "[encoded data removed]"
     },
     "metadata": {},
     "output_type": "display_data"
    }
   ],
   "execution_count": 59
  },
  {
   "metadata": {
    "ExecuteTime": {
     "end_time": "2025-06-17T14:51:48.687943Z",
     "start_time": "2025-06-17T14:51:48.613038Z"
    }
   },
   "cell_type": "code",
   "source": [
    "conn.close()\n",
    "gc.collect()"
   ],
   "id": "708f14baa606dc32",
   "outputs": [
    {
     "data": {
      "text/plain": [
       "21971"
      ]
     },
     "execution_count": 60,
     "metadata": {},
     "output_type": "execute_result"
    }
   ],
   "execution_count": 60
  },
  {
   "metadata": {},
   "cell_type": "markdown",
   "source": "# HM",
   "id": "37cf5e648d549657"
  },
  {
   "metadata": {
    "ExecuteTime": {
     "end_time": "2025-06-17T14:51:48.708046Z",
     "start_time": "2025-06-17T14:51:48.701817Z"
    }
   },
   "cell_type": "code",
   "source": [
    "conn = duckdb.connect('hm.db')\n",
    "%load_ext sql\n",
    "%sql conn --alias duckdb\n",
    "%config SqlMagic.displaycon=False\n",
    "%config SqlMagic.autopandas=True\n",
    "pio.renderers.default = 'svg'"
   ],
   "id": "60319d65212541db",
   "outputs": [
    {
     "name": "stdout",
     "output_type": "stream",
     "text": [
      "The sql extension is already loaded. To reload it, use:\n",
      "  %reload_ext sql\n"
     ]
    }
   ],
   "execution_count": 61
  },
  {
   "metadata": {
    "ExecuteTime": {
     "end_time": "2025-06-17T14:51:48.824115Z",
     "start_time": "2025-06-17T14:51:48.729943Z"
    }
   },
   "cell_type": "code",
   "source": [
    "%%sql train_df <<\n",
    "from user_churn_train"
   ],
   "id": "cd3da48ddfcc14e9",
   "outputs": [],
   "execution_count": 62
  },
  {
   "metadata": {
    "ExecuteTime": {
     "end_time": "2025-06-17T14:51:48.841287Z",
     "start_time": "2025-06-17T14:51:48.836669Z"
    }
   },
   "cell_type": "code",
   "source": [
    "%%sql test_df <<\n",
    "from user_churn_test"
   ],
   "id": "33e8d524b8098af",
   "outputs": [],
   "execution_count": 63
  },
  {
   "metadata": {
    "ExecuteTime": {
     "end_time": "2025-06-17T14:51:48.866978Z",
     "start_time": "2025-06-17T14:51:48.862114Z"
    }
   },
   "cell_type": "code",
   "source": [
    "%%sql val_df <<\n",
    "from user_churn_val"
   ],
   "id": "b751881bfb6b91a4",
   "outputs": [],
   "execution_count": 64
  },
  {
   "metadata": {
    "ExecuteTime": {
     "end_time": "2025-06-17T14:51:49.008594Z",
     "start_time": "2025-06-17T14:51:48.888333Z"
    }
   },
   "cell_type": "code",
   "source": "train_df.describe()",
   "id": "7048c2295cab7814",
   "outputs": [
    {
     "data": {
      "text/plain": [
       "                           timestamp   customer_id         churn\n",
       "count                        3832692  3.832692e+06  3.832692e+06\n",
       "mean   2020-03-10 00:31:28.644325632  6.857392e+05  8.187324e-01\n",
       "min              2019-09-09 00:00:00  0.000000e+00  0.000000e+00\n",
       "25%              2019-12-02 00:00:00  3.428740e+05  1.000000e+00\n",
       "50%              2020-03-09 00:00:00  6.855210e+05  1.000000e+00\n",
       "75%              2020-06-15 00:00:00  1.028411e+06  1.000000e+00\n",
       "max              2020-08-31 00:00:00  1.371979e+06  1.000000e+00\n",
       "std                              NaN  3.962903e+05  3.852398e-01"
      ],
      "text/html": [
       "<div>\n",
       "<style scoped>\n",
       "    .dataframe tbody tr th:only-of-type {\n",
       "        vertical-align: middle;\n",
       "    }\n",
       "\n",
       "    .dataframe tbody tr th {\n",
       "        vertical-align: top;\n",
       "    }\n",
       "\n",
       "    .dataframe thead th {\n",
       "        text-align: right;\n",
       "    }\n",
       "</style>\n",
       "<table border=\"1\" class=\"dataframe\">\n",
       "  <thead>\n",
       "    <tr style=\"text-align: right;\">\n",
       "      <th></th>\n",
       "      <th>timestamp</th>\n",
       "      <th>customer_id</th>\n",
       "      <th>churn</th>\n",
       "    </tr>\n",
       "  </thead>\n",
       "  <tbody>\n",
       "    <tr>\n",
       "      <th>count</th>\n",
       "      <td>3832692</td>\n",
       "      <td>3.832692e+06</td>\n",
       "      <td>3.832692e+06</td>\n",
       "    </tr>\n",
       "    <tr>\n",
       "      <th>mean</th>\n",
       "      <td>2020-03-10 00:31:28.644325632</td>\n",
       "      <td>6.857392e+05</td>\n",
       "      <td>8.187324e-01</td>\n",
       "    </tr>\n",
       "    <tr>\n",
       "      <th>min</th>\n",
       "      <td>2019-09-09 00:00:00</td>\n",
       "      <td>0.000000e+00</td>\n",
       "      <td>0.000000e+00</td>\n",
       "    </tr>\n",
       "    <tr>\n",
       "      <th>25%</th>\n",
       "      <td>2019-12-02 00:00:00</td>\n",
       "      <td>3.428740e+05</td>\n",
       "      <td>1.000000e+00</td>\n",
       "    </tr>\n",
       "    <tr>\n",
       "      <th>50%</th>\n",
       "      <td>2020-03-09 00:00:00</td>\n",
       "      <td>6.855210e+05</td>\n",
       "      <td>1.000000e+00</td>\n",
       "    </tr>\n",
       "    <tr>\n",
       "      <th>75%</th>\n",
       "      <td>2020-06-15 00:00:00</td>\n",
       "      <td>1.028411e+06</td>\n",
       "      <td>1.000000e+00</td>\n",
       "    </tr>\n",
       "    <tr>\n",
       "      <th>max</th>\n",
       "      <td>2020-08-31 00:00:00</td>\n",
       "      <td>1.371979e+06</td>\n",
       "      <td>1.000000e+00</td>\n",
       "    </tr>\n",
       "    <tr>\n",
       "      <th>std</th>\n",
       "      <td>NaN</td>\n",
       "      <td>3.962903e+05</td>\n",
       "      <td>3.852398e-01</td>\n",
       "    </tr>\n",
       "  </tbody>\n",
       "</table>\n",
       "</div>"
      ]
     },
     "execution_count": 65,
     "metadata": {},
     "output_type": "execute_result"
    }
   ],
   "execution_count": 65
  },
  {
   "metadata": {
    "ExecuteTime": {
     "end_time": "2025-06-17T14:51:49.051779Z",
     "start_time": "2025-06-17T14:51:49.043234Z"
    }
   },
   "cell_type": "code",
   "source": "test_df.describe()",
   "id": "652700a881f49a50",
   "outputs": [
    {
     "data": {
      "text/plain": [
       "                 timestamp   customer_id         churn\n",
       "count                74575  7.457500e+04  74575.000000\n",
       "mean   2020-09-14 00:00:00  6.848040e+05      0.826135\n",
       "min    2020-09-14 00:00:00  6.000000e+00      0.000000\n",
       "25%    2020-09-14 00:00:00  3.417305e+05      1.000000\n",
       "50%    2020-09-14 00:00:00  6.817150e+05      1.000000\n",
       "75%    2020-09-14 00:00:00  1.028838e+06      1.000000\n",
       "max    2020-09-14 00:00:00  1.371977e+06      1.000000\n",
       "std                    NaN  3.962824e+05      0.378996"
      ],
      "text/html": [
       "<div>\n",
       "<style scoped>\n",
       "    .dataframe tbody tr th:only-of-type {\n",
       "        vertical-align: middle;\n",
       "    }\n",
       "\n",
       "    .dataframe tbody tr th {\n",
       "        vertical-align: top;\n",
       "    }\n",
       "\n",
       "    .dataframe thead th {\n",
       "        text-align: right;\n",
       "    }\n",
       "</style>\n",
       "<table border=\"1\" class=\"dataframe\">\n",
       "  <thead>\n",
       "    <tr style=\"text-align: right;\">\n",
       "      <th></th>\n",
       "      <th>timestamp</th>\n",
       "      <th>customer_id</th>\n",
       "      <th>churn</th>\n",
       "    </tr>\n",
       "  </thead>\n",
       "  <tbody>\n",
       "    <tr>\n",
       "      <th>count</th>\n",
       "      <td>74575</td>\n",
       "      <td>7.457500e+04</td>\n",
       "      <td>74575.000000</td>\n",
       "    </tr>\n",
       "    <tr>\n",
       "      <th>mean</th>\n",
       "      <td>2020-09-14 00:00:00</td>\n",
       "      <td>6.848040e+05</td>\n",
       "      <td>0.826135</td>\n",
       "    </tr>\n",
       "    <tr>\n",
       "      <th>min</th>\n",
       "      <td>2020-09-14 00:00:00</td>\n",
       "      <td>6.000000e+00</td>\n",
       "      <td>0.000000</td>\n",
       "    </tr>\n",
       "    <tr>\n",
       "      <th>25%</th>\n",
       "      <td>2020-09-14 00:00:00</td>\n",
       "      <td>3.417305e+05</td>\n",
       "      <td>1.000000</td>\n",
       "    </tr>\n",
       "    <tr>\n",
       "      <th>50%</th>\n",
       "      <td>2020-09-14 00:00:00</td>\n",
       "      <td>6.817150e+05</td>\n",
       "      <td>1.000000</td>\n",
       "    </tr>\n",
       "    <tr>\n",
       "      <th>75%</th>\n",
       "      <td>2020-09-14 00:00:00</td>\n",
       "      <td>1.028838e+06</td>\n",
       "      <td>1.000000</td>\n",
       "    </tr>\n",
       "    <tr>\n",
       "      <th>max</th>\n",
       "      <td>2020-09-14 00:00:00</td>\n",
       "      <td>1.371977e+06</td>\n",
       "      <td>1.000000</td>\n",
       "    </tr>\n",
       "    <tr>\n",
       "      <th>std</th>\n",
       "      <td>NaN</td>\n",
       "      <td>3.962824e+05</td>\n",
       "      <td>0.378996</td>\n",
       "    </tr>\n",
       "  </tbody>\n",
       "</table>\n",
       "</div>"
      ]
     },
     "execution_count": 66,
     "metadata": {},
     "output_type": "execute_result"
    }
   ],
   "execution_count": 66
  },
  {
   "metadata": {
    "ExecuteTime": {
     "end_time": "2025-06-17T14:51:49.120683Z",
     "start_time": "2025-06-17T14:51:49.110849Z"
    }
   },
   "cell_type": "code",
   "source": "val_df.describe()",
   "id": "be8b46b4dcd0f257",
   "outputs": [
    {
     "data": {
      "text/plain": [
       "                 timestamp   customer_id         churn\n",
       "count                76556  7.655600e+04  76556.000000\n",
       "mean   2020-09-07 00:00:00  6.840053e+05      0.812804\n",
       "min    2020-09-07 00:00:00  0.000000e+00      0.000000\n",
       "25%    2020-09-07 00:00:00  3.402850e+05      1.000000\n",
       "50%    2020-09-07 00:00:00  6.849775e+05      1.000000\n",
       "75%    2020-09-07 00:00:00  1.024983e+06      1.000000\n",
       "max    2020-09-07 00:00:00  1.371975e+06      1.000000\n",
       "std                    NaN  3.960435e+05      0.390072"
      ],
      "text/html": [
       "<div>\n",
       "<style scoped>\n",
       "    .dataframe tbody tr th:only-of-type {\n",
       "        vertical-align: middle;\n",
       "    }\n",
       "\n",
       "    .dataframe tbody tr th {\n",
       "        vertical-align: top;\n",
       "    }\n",
       "\n",
       "    .dataframe thead th {\n",
       "        text-align: right;\n",
       "    }\n",
       "</style>\n",
       "<table border=\"1\" class=\"dataframe\">\n",
       "  <thead>\n",
       "    <tr style=\"text-align: right;\">\n",
       "      <th></th>\n",
       "      <th>timestamp</th>\n",
       "      <th>customer_id</th>\n",
       "      <th>churn</th>\n",
       "    </tr>\n",
       "  </thead>\n",
       "  <tbody>\n",
       "    <tr>\n",
       "      <th>count</th>\n",
       "      <td>76556</td>\n",
       "      <td>7.655600e+04</td>\n",
       "      <td>76556.000000</td>\n",
       "    </tr>\n",
       "    <tr>\n",
       "      <th>mean</th>\n",
       "      <td>2020-09-07 00:00:00</td>\n",
       "      <td>6.840053e+05</td>\n",
       "      <td>0.812804</td>\n",
       "    </tr>\n",
       "    <tr>\n",
       "      <th>min</th>\n",
       "      <td>2020-09-07 00:00:00</td>\n",
       "      <td>0.000000e+00</td>\n",
       "      <td>0.000000</td>\n",
       "    </tr>\n",
       "    <tr>\n",
       "      <th>25%</th>\n",
       "      <td>2020-09-07 00:00:00</td>\n",
       "      <td>3.402850e+05</td>\n",
       "      <td>1.000000</td>\n",
       "    </tr>\n",
       "    <tr>\n",
       "      <th>50%</th>\n",
       "      <td>2020-09-07 00:00:00</td>\n",
       "      <td>6.849775e+05</td>\n",
       "      <td>1.000000</td>\n",
       "    </tr>\n",
       "    <tr>\n",
       "      <th>75%</th>\n",
       "      <td>2020-09-07 00:00:00</td>\n",
       "      <td>1.024983e+06</td>\n",
       "      <td>1.000000</td>\n",
       "    </tr>\n",
       "    <tr>\n",
       "      <th>max</th>\n",
       "      <td>2020-09-07 00:00:00</td>\n",
       "      <td>1.371975e+06</td>\n",
       "      <td>1.000000</td>\n",
       "    </tr>\n",
       "    <tr>\n",
       "      <th>std</th>\n",
       "      <td>NaN</td>\n",
       "      <td>3.960435e+05</td>\n",
       "      <td>0.390072</td>\n",
       "    </tr>\n",
       "  </tbody>\n",
       "</table>\n",
       "</div>"
      ]
     },
     "execution_count": 67,
     "metadata": {},
     "output_type": "execute_result"
    }
   ],
   "execution_count": 67
  },
  {
   "metadata": {
    "ExecuteTime": {
     "end_time": "2025-06-17T14:51:49.213259Z",
     "start_time": "2025-06-17T14:51:49.210565Z"
    }
   },
   "cell_type": "code",
   "source": [
    "user_churn_train_labels = train_df.churn.to_numpy()\n",
    "user_churn_test_labels = test_df.churn.to_numpy()\n",
    "user_churn_val_labels = val_df.churn.to_numpy()"
   ],
   "id": "c734cea67e2da292",
   "outputs": [],
   "execution_count": 68
  },
  {
   "metadata": {
    "ExecuteTime": {
     "end_time": "2025-06-17T14:51:49.497300Z",
     "start_time": "2025-06-17T14:51:49.286204Z"
    }
   },
   "cell_type": "code",
   "source": [
    "fig, ax = plt.subplots(1, 3, figsize=(15, 4))\n",
    "ax = ax.reshape((-1))\n",
    "\n",
    "plot_binary_dist(ax[0], user_churn_train_labels, 'Count', 'Train Set')\n",
    "plot_binary_dist(ax[1], user_churn_test_labels, 'Count', 'Test Set')\n",
    "plot_binary_dist(ax[2], user_churn_val_labels, 'Count', 'Validation Set')\n",
    "\n",
    "plt.savefig('user_churn_dist.pdf')\n",
    "plt.show()"
   ],
   "id": "72c173e0f4c1ffd7",
   "outputs": [
    {
     "data": {
      "text/plain": [
       "<Figure size 1500x400 with 3 Axes>"
      ],
      "image/png": "[encoded data removed]"
     },
     "metadata": {},
     "output_type": "display_data"
    }
   ],
   "execution_count": 69
  },
  {
   "metadata": {
    "ExecuteTime": {
     "end_time": "2025-06-17T14:51:49.658396Z",
     "start_time": "2025-06-17T14:51:49.517338Z"
    }
   },
   "cell_type": "code",
   "source": [
    "%%sql train_df <<\n",
    "from item_sales_train"
   ],
   "id": "78b234b44b8391dd",
   "outputs": [],
   "execution_count": 70
  },
  {
   "metadata": {
    "ExecuteTime": {
     "end_time": "2025-06-17T14:51:49.683105Z",
     "start_time": "2025-06-17T14:51:49.675857Z"
    }
   },
   "cell_type": "code",
   "source": [
    "%%sql test_df <<\n",
    "from item_sales_test"
   ],
   "id": "66ba9e0f49f00a61",
   "outputs": [],
   "execution_count": 71
  },
  {
   "metadata": {
    "ExecuteTime": {
     "end_time": "2025-06-17T14:51:49.705900Z",
     "start_time": "2025-06-17T14:51:49.697205Z"
    }
   },
   "cell_type": "code",
   "source": [
    "%%sql val_df <<\n",
    "from item_sales_val"
   ],
   "id": "c51cdac2724cffb1",
   "outputs": [],
   "execution_count": 72
  },
  {
   "metadata": {
    "ExecuteTime": {
     "end_time": "2025-06-17T14:51:50.075746Z",
     "start_time": "2025-06-17T14:51:49.717578Z"
    }
   },
   "cell_type": "code",
   "source": "train_df.describe()",
   "id": "61eacd714ef1fd3d",
   "outputs": [
    {
     "data": {
      "text/plain": [
       "                           timestamp    article_id         sales\n",
       "count                        5488184  5.488184e+06  5.488184e+06\n",
       "mean   2020-03-05 12:00:00.000000512  5.277050e+04  7.596521e-02\n",
       "min              2019-09-09 00:00:00  0.000000e+00  0.000000e+00\n",
       "25%              2019-12-07 06:00:00  2.638500e+04  0.000000e+00\n",
       "50%              2020-03-05 12:00:00  5.277050e+04  0.000000e+00\n",
       "75%              2020-06-02 18:00:00  7.915600e+04  0.000000e+00\n",
       "max              2020-08-31 00:00:00  1.055410e+05  8.716259e+01\n",
       "std                              NaN  3.046735e+04  4.953213e-01"
      ],
      "text/html": [
       "<div>\n",
       "<style scoped>\n",
       "    .dataframe tbody tr th:only-of-type {\n",
       "        vertical-align: middle;\n",
       "    }\n",
       "\n",
       "    .dataframe tbody tr th {\n",
       "        vertical-align: top;\n",
       "    }\n",
       "\n",
       "    .dataframe thead th {\n",
       "        text-align: right;\n",
       "    }\n",
       "</style>\n",
       "<table border=\"1\" class=\"dataframe\">\n",
       "  <thead>\n",
       "    <tr style=\"text-align: right;\">\n",
       "      <th></th>\n",
       "      <th>timestamp</th>\n",
       "      <th>article_id</th>\n",
       "      <th>sales</th>\n",
       "    </tr>\n",
       "  </thead>\n",
       "  <tbody>\n",
       "    <tr>\n",
       "      <th>count</th>\n",
       "      <td>5488184</td>\n",
       "      <td>5.488184e+06</td>\n",
       "      <td>5.488184e+06</td>\n",
       "    </tr>\n",
       "    <tr>\n",
       "      <th>mean</th>\n",
       "      <td>2020-03-05 12:00:00.000000512</td>\n",
       "      <td>5.277050e+04</td>\n",
       "      <td>7.596521e-02</td>\n",
       "    </tr>\n",
       "    <tr>\n",
       "      <th>min</th>\n",
       "      <td>2019-09-09 00:00:00</td>\n",
       "      <td>0.000000e+00</td>\n",
       "      <td>0.000000e+00</td>\n",
       "    </tr>\n",
       "    <tr>\n",
       "      <th>25%</th>\n",
       "      <td>2019-12-07 06:00:00</td>\n",
       "      <td>2.638500e+04</td>\n",
       "      <td>0.000000e+00</td>\n",
       "    </tr>\n",
       "    <tr>\n",
       "      <th>50%</th>\n",
       "      <td>2020-03-05 12:00:00</td>\n",
       "      <td>5.277050e+04</td>\n",
       "      <td>0.000000e+00</td>\n",
       "    </tr>\n",
       "    <tr>\n",
       "      <th>75%</th>\n",
       "      <td>2020-06-02 18:00:00</td>\n",
       "      <td>7.915600e+04</td>\n",
       "      <td>0.000000e+00</td>\n",
       "    </tr>\n",
       "    <tr>\n",
       "      <th>max</th>\n",
       "      <td>2020-08-31 00:00:00</td>\n",
       "      <td>1.055410e+05</td>\n",
       "      <td>8.716259e+01</td>\n",
       "    </tr>\n",
       "    <tr>\n",
       "      <th>std</th>\n",
       "      <td>NaN</td>\n",
       "      <td>3.046735e+04</td>\n",
       "      <td>4.953213e-01</td>\n",
       "    </tr>\n",
       "  </tbody>\n",
       "</table>\n",
       "</div>"
      ]
     },
     "execution_count": 73,
     "metadata": {},
     "output_type": "execute_result"
    }
   ],
   "execution_count": 73
  },
  {
   "metadata": {
    "ExecuteTime": {
     "end_time": "2025-06-17T14:51:50.421399Z",
     "start_time": "2025-06-17T14:51:50.384149Z"
    }
   },
   "cell_type": "code",
   "source": "test_df.describe()",
   "id": "5827319a1fd32f7e",
   "outputs": [
    {
     "data": {
      "text/plain": [
       "                 timestamp     article_id          sales\n",
       "count               105542  105542.000000  105542.000000\n",
       "mean   2020-09-14 00:00:00   52770.500000       0.076087\n",
       "min    2020-09-14 00:00:00       0.000000       0.000000\n",
       "25%    2020-09-14 00:00:00   26385.250000       0.000000\n",
       "50%    2020-09-14 00:00:00   52770.500000       0.000000\n",
       "75%    2020-09-14 00:00:00   79155.750000       0.000000\n",
       "max    2020-09-14 00:00:00  105541.000000      38.314763\n",
       "std                    NaN   30467.495393       0.582710"
      ],
      "text/html": [
       "<div>\n",
       "<style scoped>\n",
       "    .dataframe tbody tr th:only-of-type {\n",
       "        vertical-align: middle;\n",
       "    }\n",
       "\n",
       "    .dataframe tbody tr th {\n",
       "        vertical-align: top;\n",
       "    }\n",
       "\n",
       "    .dataframe thead th {\n",
       "        text-align: right;\n",
       "    }\n",
       "</style>\n",
       "<table border=\"1\" class=\"dataframe\">\n",
       "  <thead>\n",
       "    <tr style=\"text-align: right;\">\n",
       "      <th></th>\n",
       "      <th>timestamp</th>\n",
       "      <th>article_id</th>\n",
       "      <th>sales</th>\n",
       "    </tr>\n",
       "  </thead>\n",
       "  <tbody>\n",
       "    <tr>\n",
       "      <th>count</th>\n",
       "      <td>105542</td>\n",
       "      <td>105542.000000</td>\n",
       "      <td>105542.000000</td>\n",
       "    </tr>\n",
       "    <tr>\n",
       "      <th>mean</th>\n",
       "      <td>2020-09-14 00:00:00</td>\n",
       "      <td>52770.500000</td>\n",
       "      <td>0.076087</td>\n",
       "    </tr>\n",
       "    <tr>\n",
       "      <th>min</th>\n",
       "      <td>2020-09-14 00:00:00</td>\n",
       "      <td>0.000000</td>\n",
       "      <td>0.000000</td>\n",
       "    </tr>\n",
       "    <tr>\n",
       "      <th>25%</th>\n",
       "      <td>2020-09-14 00:00:00</td>\n",
       "      <td>26385.250000</td>\n",
       "      <td>0.000000</td>\n",
       "    </tr>\n",
       "    <tr>\n",
       "      <th>50%</th>\n",
       "      <td>2020-09-14 00:00:00</td>\n",
       "      <td>52770.500000</td>\n",
       "      <td>0.000000</td>\n",
       "    </tr>\n",
       "    <tr>\n",
       "      <th>75%</th>\n",
       "      <td>2020-09-14 00:00:00</td>\n",
       "      <td>79155.750000</td>\n",
       "      <td>0.000000</td>\n",
       "    </tr>\n",
       "    <tr>\n",
       "      <th>max</th>\n",
       "      <td>2020-09-14 00:00:00</td>\n",
       "      <td>105541.000000</td>\n",
       "      <td>38.314763</td>\n",
       "    </tr>\n",
       "    <tr>\n",
       "      <th>std</th>\n",
       "      <td>NaN</td>\n",
       "      <td>30467.495393</td>\n",
       "      <td>0.582710</td>\n",
       "    </tr>\n",
       "  </tbody>\n",
       "</table>\n",
       "</div>"
      ]
     },
     "execution_count": 74,
     "metadata": {},
     "output_type": "execute_result"
    }
   ],
   "execution_count": 74
  },
  {
   "metadata": {
    "ExecuteTime": {
     "end_time": "2025-06-17T14:51:50.592427Z",
     "start_time": "2025-06-17T14:51:50.580813Z"
    }
   },
   "cell_type": "code",
   "source": "val_df.describe()",
   "id": "b92fb8f78645924c",
   "outputs": [
    {
     "data": {
      "text/plain": [
       "                 timestamp     article_id          sales\n",
       "count               105542  105542.000000  105542.000000\n",
       "mean   2020-09-07 00:00:00   52770.500000       0.085690\n",
       "min    2020-09-07 00:00:00       0.000000       0.000000\n",
       "25%    2020-09-07 00:00:00   26385.250000       0.000000\n",
       "50%    2020-09-07 00:00:00   52770.500000       0.000000\n",
       "75%    2020-09-07 00:00:00   79155.750000       0.000000\n",
       "max    2020-09-07 00:00:00  105541.000000      40.364915\n",
       "std                    NaN   30467.495393       0.662294"
      ],
      "text/html": [
       "<div>\n",
       "<style scoped>\n",
       "    .dataframe tbody tr th:only-of-type {\n",
       "        vertical-align: middle;\n",
       "    }\n",
       "\n",
       "    .dataframe tbody tr th {\n",
       "        vertical-align: top;\n",
       "    }\n",
       "\n",
       "    .dataframe thead th {\n",
       "        text-align: right;\n",
       "    }\n",
       "</style>\n",
       "<table border=\"1\" class=\"dataframe\">\n",
       "  <thead>\n",
       "    <tr style=\"text-align: right;\">\n",
       "      <th></th>\n",
       "      <th>timestamp</th>\n",
       "      <th>article_id</th>\n",
       "      <th>sales</th>\n",
       "    </tr>\n",
       "  </thead>\n",
       "  <tbody>\n",
       "    <tr>\n",
       "      <th>count</th>\n",
       "      <td>105542</td>\n",
       "      <td>105542.000000</td>\n",
       "      <td>105542.000000</td>\n",
       "    </tr>\n",
       "    <tr>\n",
       "      <th>mean</th>\n",
       "      <td>2020-09-07 00:00:00</td>\n",
       "      <td>52770.500000</td>\n",
       "      <td>0.085690</td>\n",
       "    </tr>\n",
       "    <tr>\n",
       "      <th>min</th>\n",
       "      <td>2020-09-07 00:00:00</td>\n",
       "      <td>0.000000</td>\n",
       "      <td>0.000000</td>\n",
       "    </tr>\n",
       "    <tr>\n",
       "      <th>25%</th>\n",
       "      <td>2020-09-07 00:00:00</td>\n",
       "      <td>26385.250000</td>\n",
       "      <td>0.000000</td>\n",
       "    </tr>\n",
       "    <tr>\n",
       "      <th>50%</th>\n",
       "      <td>2020-09-07 00:00:00</td>\n",
       "      <td>52770.500000</td>\n",
       "      <td>0.000000</td>\n",
       "    </tr>\n",
       "    <tr>\n",
       "      <th>75%</th>\n",
       "      <td>2020-09-07 00:00:00</td>\n",
       "      <td>79155.750000</td>\n",
       "      <td>0.000000</td>\n",
       "    </tr>\n",
       "    <tr>\n",
       "      <th>max</th>\n",
       "      <td>2020-09-07 00:00:00</td>\n",
       "      <td>105541.000000</td>\n",
       "      <td>40.364915</td>\n",
       "    </tr>\n",
       "    <tr>\n",
       "      <th>std</th>\n",
       "      <td>NaN</td>\n",
       "      <td>30467.495393</td>\n",
       "      <td>0.662294</td>\n",
       "    </tr>\n",
       "  </tbody>\n",
       "</table>\n",
       "</div>"
      ]
     },
     "execution_count": 75,
     "metadata": {},
     "output_type": "execute_result"
    }
   ],
   "execution_count": 75
  },
  {
   "metadata": {
    "ExecuteTime": {
     "end_time": "2025-06-17T14:51:50.682267Z",
     "start_time": "2025-06-17T14:51:50.679307Z"
    }
   },
   "cell_type": "code",
   "source": [
    "item_sales_train_labels = train_df.sales.to_numpy()\n",
    "item_sales_test_labels = test_df.sales.to_numpy()\n",
    "item_sales_val_labels = val_df.sales.to_numpy()"
   ],
   "id": "11554ad995dc6bbe",
   "outputs": [],
   "execution_count": 76
  },
  {
   "metadata": {
    "ExecuteTime": {
     "end_time": "2025-06-17T14:51:51.069521Z",
     "start_time": "2025-06-17T14:51:50.752928Z"
    }
   },
   "cell_type": "code",
   "source": [
    "fig, ax = plt.subplots(1, 3, figsize=(15, 4))\n",
    "ax = ax.reshape((-1))\n",
    "\n",
    "plot_reg_dist(ax[0], item_sales_train_labels, 'Count', 'Sales', 'Train Set')\n",
    "plot_reg_dist(ax[1], item_sales_test_labels, 'Count', 'Sales', 'Test Set')\n",
    "plot_reg_dist(ax[2], item_sales_val_labels, 'Count', 'Sales', 'Validation Set')\n",
    "\n",
    "plt.savefig('item_sales_dist.pdf')\n",
    "plt.show()"
   ],
   "id": "ba14f27ae3fc1ec0",
   "outputs": [
    {
     "data": {
      "text/plain": [
       "<Figure size 1500x400 with 3 Axes>"
      ],
      "image/png": "[encoded data removed]"
     },
     "metadata": {},
     "output_type": "display_data"
    }
   ],
   "execution_count": 77
  },
  {
   "metadata": {
    "ExecuteTime": {
     "end_time": "2025-06-17T14:51:51.274712Z",
     "start_time": "2025-06-17T14:51:51.102554Z"
    }
   },
   "cell_type": "code",
   "source": [
    "conn.close()\n",
    "gc.collect()"
   ],
   "id": "60164946c27ca498",
   "outputs": [
    {
     "data": {
      "text/plain": [
       "16554"
      ]
     },
     "execution_count": 78,
     "metadata": {},
     "output_type": "execute_result"
    }
   ],
   "execution_count": 78
  },
  {
   "metadata": {},
   "cell_type": "markdown",
   "source": "# Avito",
   "id": "cb30d4712c66a9b9"
  },
  {
   "metadata": {
    "ExecuteTime": {
     "end_time": "2025-06-17T14:51:51.315787Z",
     "start_time": "2025-06-17T14:51:51.300971Z"
    }
   },
   "cell_type": "code",
   "source": [
    "conn = duckdb.connect('avito.db')\n",
    "%load_ext sql\n",
    "%sql conn --alias duckdb\n",
    "%config SqlMagic.displaycon=False\n",
    "%config SqlMagic.autopandas=True\n",
    "pio.renderers.default = 'svg'"
   ],
   "id": "8dc4ae372e8e361d",
   "outputs": [
    {
     "name": "stdout",
     "output_type": "stream",
     "text": [
      "The sql extension is already loaded. To reload it, use:\n",
      "  %reload_ext sql\n"
     ]
    }
   ],
   "execution_count": 79
  },
  {
   "metadata": {
    "ExecuteTime": {
     "end_time": "2025-06-17T14:51:51.343802Z",
     "start_time": "2025-06-17T14:51:51.335259Z"
    }
   },
   "cell_type": "code",
   "source": [
    "%%sql train_df <<\n",
    "from user_visits_train"
   ],
   "id": "2ac3628eacf63cf2",
   "outputs": [],
   "execution_count": 80
  },
  {
   "metadata": {
    "ExecuteTime": {
     "end_time": "2025-06-17T14:51:51.371414Z",
     "start_time": "2025-06-17T14:51:51.366768Z"
    }
   },
   "cell_type": "code",
   "source": [
    "%%sql test_df <<\n",
    "from user_visits_test"
   ],
   "id": "d7b4b4df8bec30f6",
   "outputs": [],
   "execution_count": 81
  },
  {
   "metadata": {
    "ExecuteTime": {
     "end_time": "2025-06-17T14:51:51.396957Z",
     "start_time": "2025-06-17T14:51:51.392648Z"
    }
   },
   "cell_type": "code",
   "source": [
    "%%sql val_df <<\n",
    "from user_visits_val"
   ],
   "id": "c464311970884ab2",
   "outputs": [],
   "execution_count": 82
  },
  {
   "metadata": {
    "ExecuteTime": {
     "end_time": "2025-06-17T14:51:51.425212Z",
     "start_time": "2025-06-17T14:51:51.421215Z"
    }
   },
   "cell_type": "code",
   "source": "train_df.head()",
   "id": "a8b9bbe8c7239b62",
   "outputs": [
    {
     "data": {
      "text/plain": [
       "   UserID  timestamp  num_click\n",
       "0   38950 2015-04-26       True\n",
       "1   35404 2015-04-26       True\n",
       "2   85455 2015-04-26       True\n",
       "3    2871 2015-04-26       True\n",
       "4   34600 2015-04-26       True"
      ],
      "text/html": [
       "<div>\n",
       "<style scoped>\n",
       "    .dataframe tbody tr th:only-of-type {\n",
       "        vertical-align: middle;\n",
       "    }\n",
       "\n",
       "    .dataframe tbody tr th {\n",
       "        vertical-align: top;\n",
       "    }\n",
       "\n",
       "    .dataframe thead th {\n",
       "        text-align: right;\n",
       "    }\n",
       "</style>\n",
       "<table border=\"1\" class=\"dataframe\">\n",
       "  <thead>\n",
       "    <tr style=\"text-align: right;\">\n",
       "      <th></th>\n",
       "      <th>UserID</th>\n",
       "      <th>timestamp</th>\n",
       "      <th>num_click</th>\n",
       "    </tr>\n",
       "  </thead>\n",
       "  <tbody>\n",
       "    <tr>\n",
       "      <th>0</th>\n",
       "      <td>38950</td>\n",
       "      <td>2015-04-26</td>\n",
       "      <td>True</td>\n",
       "    </tr>\n",
       "    <tr>\n",
       "      <th>1</th>\n",
       "      <td>35404</td>\n",
       "      <td>2015-04-26</td>\n",
       "      <td>True</td>\n",
       "    </tr>\n",
       "    <tr>\n",
       "      <th>2</th>\n",
       "      <td>85455</td>\n",
       "      <td>2015-04-26</td>\n",
       "      <td>True</td>\n",
       "    </tr>\n",
       "    <tr>\n",
       "      <th>3</th>\n",
       "      <td>2871</td>\n",
       "      <td>2015-04-26</td>\n",
       "      <td>True</td>\n",
       "    </tr>\n",
       "    <tr>\n",
       "      <th>4</th>\n",
       "      <td>34600</td>\n",
       "      <td>2015-04-26</td>\n",
       "      <td>True</td>\n",
       "    </tr>\n",
       "  </tbody>\n",
       "</table>\n",
       "</div>"
      ]
     },
     "execution_count": 83,
     "metadata": {},
     "output_type": "execute_result"
    }
   ],
   "execution_count": 83
  },
  {
   "metadata": {
    "ExecuteTime": {
     "end_time": "2025-06-17T14:51:51.474399Z",
     "start_time": "2025-06-17T14:51:51.469107Z"
    }
   },
   "cell_type": "code",
   "source": [
    "train_df['num_click'] = train_df['num_click'].astype(int)\n",
    "test_df['num_click'] = test_df['num_click'].astype(int)\n",
    "val_df['num_click']= val_df['num_click'].astype(int)\n",
    "\n",
    "train_df.head()"
   ],
   "id": "64e7b5f0874fbb41",
   "outputs": [
    {
     "data": {
      "text/plain": [
       "   UserID  timestamp  num_click\n",
       "0   38950 2015-04-26          1\n",
       "1   35404 2015-04-26          1\n",
       "2   85455 2015-04-26          1\n",
       "3    2871 2015-04-26          1\n",
       "4   34600 2015-04-26          1"
      ],
      "text/html": [
       "<div>\n",
       "<style scoped>\n",
       "    .dataframe tbody tr th:only-of-type {\n",
       "        vertical-align: middle;\n",
       "    }\n",
       "\n",
       "    .dataframe tbody tr th {\n",
       "        vertical-align: top;\n",
       "    }\n",
       "\n",
       "    .dataframe thead th {\n",
       "        text-align: right;\n",
       "    }\n",
       "</style>\n",
       "<table border=\"1\" class=\"dataframe\">\n",
       "  <thead>\n",
       "    <tr style=\"text-align: right;\">\n",
       "      <th></th>\n",
       "      <th>UserID</th>\n",
       "      <th>timestamp</th>\n",
       "      <th>num_click</th>\n",
       "    </tr>\n",
       "  </thead>\n",
       "  <tbody>\n",
       "    <tr>\n",
       "      <th>0</th>\n",
       "      <td>38950</td>\n",
       "      <td>2015-04-26</td>\n",
       "      <td>1</td>\n",
       "    </tr>\n",
       "    <tr>\n",
       "      <th>1</th>\n",
       "      <td>35404</td>\n",
       "      <td>2015-04-26</td>\n",
       "      <td>1</td>\n",
       "    </tr>\n",
       "    <tr>\n",
       "      <th>2</th>\n",
       "      <td>85455</td>\n",
       "      <td>2015-04-26</td>\n",
       "      <td>1</td>\n",
       "    </tr>\n",
       "    <tr>\n",
       "      <th>3</th>\n",
       "      <td>2871</td>\n",
       "      <td>2015-04-26</td>\n",
       "      <td>1</td>\n",
       "    </tr>\n",
       "    <tr>\n",
       "      <th>4</th>\n",
       "      <td>34600</td>\n",
       "      <td>2015-04-26</td>\n",
       "      <td>1</td>\n",
       "    </tr>\n",
       "  </tbody>\n",
       "</table>\n",
       "</div>"
      ]
     },
     "execution_count": 84,
     "metadata": {},
     "output_type": "execute_result"
    }
   ],
   "execution_count": 84
  },
  {
   "metadata": {
    "ExecuteTime": {
     "end_time": "2025-06-17T14:51:51.586200Z",
     "start_time": "2025-06-17T14:51:51.572105Z"
    }
   },
   "cell_type": "code",
   "source": "train_df.describe()",
   "id": "1a0779591704d132",
   "outputs": [
    {
     "data": {
      "text/plain": [
       "             UserID                      timestamp     num_click\n",
       "count  86619.000000                          86619  86619.000000\n",
       "mean   49188.634145  2015-04-30 03:32:15.718491392      0.905887\n",
       "min        0.000000            2015-04-26 00:00:00      0.000000\n",
       "25%    24546.000000            2015-04-26 00:00:00      1.000000\n",
       "50%    49155.000000            2015-04-30 00:00:00      1.000000\n",
       "75%    73782.000000            2015-05-04 00:00:00      1.000000\n",
       "max    98217.000000            2015-05-04 00:00:00      1.000000\n",
       "std    28340.510626                            NaN      0.291988"
      ],
      "text/html": [
       "<div>\n",
       "<style scoped>\n",
       "    .dataframe tbody tr th:only-of-type {\n",
       "        vertical-align: middle;\n",
       "    }\n",
       "\n",
       "    .dataframe tbody tr th {\n",
       "        vertical-align: top;\n",
       "    }\n",
       "\n",
       "    .dataframe thead th {\n",
       "        text-align: right;\n",
       "    }\n",
       "</style>\n",
       "<table border=\"1\" class=\"dataframe\">\n",
       "  <thead>\n",
       "    <tr style=\"text-align: right;\">\n",
       "      <th></th>\n",
       "      <th>UserID</th>\n",
       "      <th>timestamp</th>\n",
       "      <th>num_click</th>\n",
       "    </tr>\n",
       "  </thead>\n",
       "  <tbody>\n",
       "    <tr>\n",
       "      <th>count</th>\n",
       "      <td>86619.000000</td>\n",
       "      <td>86619</td>\n",
       "      <td>86619.000000</td>\n",
       "    </tr>\n",
       "    <tr>\n",
       "      <th>mean</th>\n",
       "      <td>49188.634145</td>\n",
       "      <td>2015-04-30 03:32:15.718491392</td>\n",
       "      <td>0.905887</td>\n",
       "    </tr>\n",
       "    <tr>\n",
       "      <th>min</th>\n",
       "      <td>0.000000</td>\n",
       "      <td>2015-04-26 00:00:00</td>\n",
       "      <td>0.000000</td>\n",
       "    </tr>\n",
       "    <tr>\n",
       "      <th>25%</th>\n",
       "      <td>24546.000000</td>\n",
       "      <td>2015-04-26 00:00:00</td>\n",
       "      <td>1.000000</td>\n",
       "    </tr>\n",
       "    <tr>\n",
       "      <th>50%</th>\n",
       "      <td>49155.000000</td>\n",
       "      <td>2015-04-30 00:00:00</td>\n",
       "      <td>1.000000</td>\n",
       "    </tr>\n",
       "    <tr>\n",
       "      <th>75%</th>\n",
       "      <td>73782.000000</td>\n",
       "      <td>2015-05-04 00:00:00</td>\n",
       "      <td>1.000000</td>\n",
       "    </tr>\n",
       "    <tr>\n",
       "      <th>max</th>\n",
       "      <td>98217.000000</td>\n",
       "      <td>2015-05-04 00:00:00</td>\n",
       "      <td>1.000000</td>\n",
       "    </tr>\n",
       "    <tr>\n",
       "      <th>std</th>\n",
       "      <td>28340.510626</td>\n",
       "      <td>NaN</td>\n",
       "      <td>0.291988</td>\n",
       "    </tr>\n",
       "  </tbody>\n",
       "</table>\n",
       "</div>"
      ]
     },
     "execution_count": 85,
     "metadata": {},
     "output_type": "execute_result"
    }
   ],
   "execution_count": 85
  },
  {
   "metadata": {
    "ExecuteTime": {
     "end_time": "2025-06-17T14:51:51.689458Z",
     "start_time": "2025-06-17T14:51:51.681510Z"
    }
   },
   "cell_type": "code",
   "source": "test_df.describe()",
   "id": "1be786cd970018dc",
   "outputs": [
    {
     "data": {
      "text/plain": [
       "             UserID            timestamp     num_click\n",
       "count  36129.000000                36129  36129.000000\n",
       "mean   49140.150267  2015-05-14 00:00:00      0.850591\n",
       "min        3.000000  2015-05-14 00:00:00      0.000000\n",
       "25%    24634.000000  2015-05-14 00:00:00      1.000000\n",
       "50%    49071.000000  2015-05-14 00:00:00      1.000000\n",
       "75%    73700.000000  2015-05-14 00:00:00      1.000000\n",
       "max    98139.000000  2015-05-14 00:00:00      1.000000\n",
       "std    28335.916937                  NaN      0.356496"
      ],
      "text/html": [
       "<div>\n",
       "<style scoped>\n",
       "    .dataframe tbody tr th:only-of-type {\n",
       "        vertical-align: middle;\n",
       "    }\n",
       "\n",
       "    .dataframe tbody tr th {\n",
       "        vertical-align: top;\n",
       "    }\n",
       "\n",
       "    .dataframe thead th {\n",
       "        text-align: right;\n",
       "    }\n",
       "</style>\n",
       "<table border=\"1\" class=\"dataframe\">\n",
       "  <thead>\n",
       "    <tr style=\"text-align: right;\">\n",
       "      <th></th>\n",
       "      <th>UserID</th>\n",
       "      <th>timestamp</th>\n",
       "      <th>num_click</th>\n",
       "    </tr>\n",
       "  </thead>\n",
       "  <tbody>\n",
       "    <tr>\n",
       "      <th>count</th>\n",
       "      <td>36129.000000</td>\n",
       "      <td>36129</td>\n",
       "      <td>36129.000000</td>\n",
       "    </tr>\n",
       "    <tr>\n",
       "      <th>mean</th>\n",
       "      <td>49140.150267</td>\n",
       "      <td>2015-05-14 00:00:00</td>\n",
       "      <td>0.850591</td>\n",
       "    </tr>\n",
       "    <tr>\n",
       "      <th>min</th>\n",
       "      <td>3.000000</td>\n",
       "      <td>2015-05-14 00:00:00</td>\n",
       "      <td>0.000000</td>\n",
       "    </tr>\n",
       "    <tr>\n",
       "      <th>25%</th>\n",
       "      <td>24634.000000</td>\n",
       "      <td>2015-05-14 00:00:00</td>\n",
       "      <td>1.000000</td>\n",
       "    </tr>\n",
       "    <tr>\n",
       "      <th>50%</th>\n",
       "      <td>49071.000000</td>\n",
       "      <td>2015-05-14 00:00:00</td>\n",
       "      <td>1.000000</td>\n",
       "    </tr>\n",
       "    <tr>\n",
       "      <th>75%</th>\n",
       "      <td>73700.000000</td>\n",
       "      <td>2015-05-14 00:00:00</td>\n",
       "      <td>1.000000</td>\n",
       "    </tr>\n",
       "    <tr>\n",
       "      <th>max</th>\n",
       "      <td>98139.000000</td>\n",
       "      <td>2015-05-14 00:00:00</td>\n",
       "      <td>1.000000</td>\n",
       "    </tr>\n",
       "    <tr>\n",
       "      <th>std</th>\n",
       "      <td>28335.916937</td>\n",
       "      <td>NaN</td>\n",
       "      <td>0.356496</td>\n",
       "    </tr>\n",
       "  </tbody>\n",
       "</table>\n",
       "</div>"
      ]
     },
     "execution_count": 86,
     "metadata": {},
     "output_type": "execute_result"
    }
   ],
   "execution_count": 86
  },
  {
   "metadata": {
    "ExecuteTime": {
     "end_time": "2025-06-17T14:51:51.780326Z",
     "start_time": "2025-06-17T14:51:51.772266Z"
    }
   },
   "cell_type": "code",
   "source": "val_df.describe()",
   "id": "6abe97779569f091",
   "outputs": [
    {
     "data": {
      "text/plain": [
       "             UserID            timestamp     num_click\n",
       "count  29979.000000                29979  29979.000000\n",
       "mean   48963.380366  2015-05-08 00:00:00      0.903499\n",
       "min        3.000000  2015-05-08 00:00:00      0.000000\n",
       "25%    24184.500000  2015-05-08 00:00:00      1.000000\n",
       "50%    48899.000000  2015-05-08 00:00:00      1.000000\n",
       "75%    73513.000000  2015-05-08 00:00:00      1.000000\n",
       "max    98136.000000  2015-05-08 00:00:00      1.000000\n",
       "std    28338.941071                  NaN      0.295282"
      ],
      "text/html": [
       "<div>\n",
       "<style scoped>\n",
       "    .dataframe tbody tr th:only-of-type {\n",
       "        vertical-align: middle;\n",
       "    }\n",
       "\n",
       "    .dataframe tbody tr th {\n",
       "        vertical-align: top;\n",
       "    }\n",
       "\n",
       "    .dataframe thead th {\n",
       "        text-align: right;\n",
       "    }\n",
       "</style>\n",
       "<table border=\"1\" class=\"dataframe\">\n",
       "  <thead>\n",
       "    <tr style=\"text-align: right;\">\n",
       "      <th></th>\n",
       "      <th>UserID</th>\n",
       "      <th>timestamp</th>\n",
       "      <th>num_click</th>\n",
       "    </tr>\n",
       "  </thead>\n",
       "  <tbody>\n",
       "    <tr>\n",
       "      <th>count</th>\n",
       "      <td>29979.000000</td>\n",
       "      <td>29979</td>\n",
       "      <td>29979.000000</td>\n",
       "    </tr>\n",
       "    <tr>\n",
       "      <th>mean</th>\n",
       "      <td>48963.380366</td>\n",
       "      <td>2015-05-08 00:00:00</td>\n",
       "      <td>0.903499</td>\n",
       "    </tr>\n",
       "    <tr>\n",
       "      <th>min</th>\n",
       "      <td>3.000000</td>\n",
       "      <td>2015-05-08 00:00:00</td>\n",
       "      <td>0.000000</td>\n",
       "    </tr>\n",
       "    <tr>\n",
       "      <th>25%</th>\n",
       "      <td>24184.500000</td>\n",
       "      <td>2015-05-08 00:00:00</td>\n",
       "      <td>1.000000</td>\n",
       "    </tr>\n",
       "    <tr>\n",
       "      <th>50%</th>\n",
       "      <td>48899.000000</td>\n",
       "      <td>2015-05-08 00:00:00</td>\n",
       "      <td>1.000000</td>\n",
       "    </tr>\n",
       "    <tr>\n",
       "      <th>75%</th>\n",
       "      <td>73513.000000</td>\n",
       "      <td>2015-05-08 00:00:00</td>\n",
       "      <td>1.000000</td>\n",
       "    </tr>\n",
       "    <tr>\n",
       "      <th>max</th>\n",
       "      <td>98136.000000</td>\n",
       "      <td>2015-05-08 00:00:00</td>\n",
       "      <td>1.000000</td>\n",
       "    </tr>\n",
       "    <tr>\n",
       "      <th>std</th>\n",
       "      <td>28338.941071</td>\n",
       "      <td>NaN</td>\n",
       "      <td>0.295282</td>\n",
       "    </tr>\n",
       "  </tbody>\n",
       "</table>\n",
       "</div>"
      ]
     },
     "execution_count": 87,
     "metadata": {},
     "output_type": "execute_result"
    }
   ],
   "execution_count": 87
  },
  {
   "metadata": {
    "ExecuteTime": {
     "end_time": "2025-06-17T14:51:51.881336Z",
     "start_time": "2025-06-17T14:51:51.879062Z"
    }
   },
   "cell_type": "code",
   "source": [
    "user_visits_train_labels = train_df.num_click.to_numpy()\n",
    "user_visits_test_labels = test_df.num_click.to_numpy()\n",
    "user_visits_val_labels = val_df.num_click.to_numpy()"
   ],
   "id": "83f11bd78e491e8a",
   "outputs": [],
   "execution_count": 88
  },
  {
   "metadata": {
    "ExecuteTime": {
     "end_time": "2025-06-17T14:51:52.123212Z",
     "start_time": "2025-06-17T14:51:51.961278Z"
    }
   },
   "cell_type": "code",
   "source": [
    "fig, ax = plt.subplots(1, 3, figsize=(15, 4))\n",
    "ax = ax.reshape((-1))\n",
    "\n",
    "plot_binary_dist(ax[0], user_visits_train_labels, 'Count', 'Train Set')\n",
    "plot_binary_dist(ax[1], user_visits_test_labels, 'Count', 'Test Set')\n",
    "plot_binary_dist(ax[2], user_visits_val_labels, 'Count', 'Validation Set')\n",
    "\n",
    "plt.savefig('user_visits_dist.pdf')\n",
    "plt.show()"
   ],
   "id": "b350aab506b3707e",
   "outputs": [
    {
     "data": {
      "text/plain": [
       "<Figure size 1500x400 with 3 Axes>"
      ],
      "image/png": "[encoded data removed]"
     },
     "metadata": {},
     "output_type": "display_data"
    }
   ],
   "execution_count": 89
  },
  {
   "metadata": {
    "ExecuteTime": {
     "end_time": "2025-06-17T14:51:52.149055Z",
     "start_time": "2025-06-17T14:51:52.144494Z"
    }
   },
   "cell_type": "code",
   "source": [
    "%%sql train_df <<\n",
    "from ad_ctr_train"
   ],
   "id": "5ebee7c5f06f29cc",
   "outputs": [],
   "execution_count": 90
  },
  {
   "metadata": {
    "ExecuteTime": {
     "end_time": "2025-06-17T14:51:52.188307Z",
     "start_time": "2025-06-17T14:51:52.181576Z"
    }
   },
   "cell_type": "code",
   "source": [
    "%%sql test_df <<\n",
    "from ad_ctr_test"
   ],
   "id": "862ae0210698918c",
   "outputs": [],
   "execution_count": 91
  },
  {
   "metadata": {
    "ExecuteTime": {
     "end_time": "2025-06-17T14:51:52.218699Z",
     "start_time": "2025-06-17T14:51:52.213851Z"
    }
   },
   "cell_type": "code",
   "source": [
    "%%sql val_df <<\n",
    "from ad_ctr_val"
   ],
   "id": "e1a2bef91adf458b",
   "outputs": [],
   "execution_count": 92
  },
  {
   "metadata": {
    "ExecuteTime": {
     "end_time": "2025-06-17T14:51:52.246006Z",
     "start_time": "2025-06-17T14:51:52.238028Z"
    }
   },
   "cell_type": "code",
   "source": "train_df.describe()",
   "id": "5cf60dbab89dbdd7",
   "outputs": [
    {
     "data": {
      "text/plain": [
       "               AdID                      timestamp    num_click\n",
       "count  5.100000e+03                           5100  5100.000000\n",
       "mean   3.015543e+06  2015-04-30 09:24:42.352941312     0.044565\n",
       "min    2.410000e+02            2015-04-26 00:00:00     0.000517\n",
       "25%    1.560212e+06            2015-04-26 00:00:00     0.008197\n",
       "50%    3.022963e+06            2015-04-30 00:00:00     0.017857\n",
       "75%    4.506267e+06            2015-05-04 00:00:00     0.041667\n",
       "max    5.928415e+06            2015-05-04 00:00:00     1.000000\n",
       "std    1.695615e+06                            NaN     0.095675"
      ],
      "text/html": [
       "<div>\n",
       "<style scoped>\n",
       "    .dataframe tbody tr th:only-of-type {\n",
       "        vertical-align: middle;\n",
       "    }\n",
       "\n",
       "    .dataframe tbody tr th {\n",
       "        vertical-align: top;\n",
       "    }\n",
       "\n",
       "    .dataframe thead th {\n",
       "        text-align: right;\n",
       "    }\n",
       "</style>\n",
       "<table border=\"1\" class=\"dataframe\">\n",
       "  <thead>\n",
       "    <tr style=\"text-align: right;\">\n",
       "      <th></th>\n",
       "      <th>AdID</th>\n",
       "      <th>timestamp</th>\n",
       "      <th>num_click</th>\n",
       "    </tr>\n",
       "  </thead>\n",
       "  <tbody>\n",
       "    <tr>\n",
       "      <th>count</th>\n",
       "      <td>5.100000e+03</td>\n",
       "      <td>5100</td>\n",
       "      <td>5100.000000</td>\n",
       "    </tr>\n",
       "    <tr>\n",
       "      <th>mean</th>\n",
       "      <td>3.015543e+06</td>\n",
       "      <td>2015-04-30 09:24:42.352941312</td>\n",
       "      <td>0.044565</td>\n",
       "    </tr>\n",
       "    <tr>\n",
       "      <th>min</th>\n",
       "      <td>2.410000e+02</td>\n",
       "      <td>2015-04-26 00:00:00</td>\n",
       "      <td>0.000517</td>\n",
       "    </tr>\n",
       "    <tr>\n",
       "      <th>25%</th>\n",
       "      <td>1.560212e+06</td>\n",
       "      <td>2015-04-26 00:00:00</td>\n",
       "      <td>0.008197</td>\n",
       "    </tr>\n",
       "    <tr>\n",
       "      <th>50%</th>\n",
       "      <td>3.022963e+06</td>\n",
       "      <td>2015-04-30 00:00:00</td>\n",
       "      <td>0.017857</td>\n",
       "    </tr>\n",
       "    <tr>\n",
       "      <th>75%</th>\n",
       "      <td>4.506267e+06</td>\n",
       "      <td>2015-05-04 00:00:00</td>\n",
       "      <td>0.041667</td>\n",
       "    </tr>\n",
       "    <tr>\n",
       "      <th>max</th>\n",
       "      <td>5.928415e+06</td>\n",
       "      <td>2015-05-04 00:00:00</td>\n",
       "      <td>1.000000</td>\n",
       "    </tr>\n",
       "    <tr>\n",
       "      <th>std</th>\n",
       "      <td>1.695615e+06</td>\n",
       "      <td>NaN</td>\n",
       "      <td>0.095675</td>\n",
       "    </tr>\n",
       "  </tbody>\n",
       "</table>\n",
       "</div>"
      ]
     },
     "execution_count": 93,
     "metadata": {},
     "output_type": "execute_result"
    }
   ],
   "execution_count": 93
  },
  {
   "metadata": {
    "ExecuteTime": {
     "end_time": "2025-06-17T14:51:52.298711Z",
     "start_time": "2025-06-17T14:51:52.290234Z"
    }
   },
   "cell_type": "code",
   "source": "test_df.describe()",
   "id": "d90905af30b0d9fa",
   "outputs": [
    {
     "data": {
      "text/plain": [
       "               AdID            timestamp    num_click\n",
       "count  1.816000e+03                 1816  1816.000000\n",
       "mean   2.953207e+06  2015-05-14 00:00:00     0.052210\n",
       "min    4.659000e+03  2015-05-14 00:00:00     0.000847\n",
       "25%    1.483985e+06  2015-05-14 00:00:00     0.008736\n",
       "50%    2.926594e+06  2015-05-14 00:00:00     0.018913\n",
       "75%    4.436748e+06  2015-05-14 00:00:00     0.046032\n",
       "max    5.919483e+06  2015-05-14 00:00:00     1.000000\n",
       "std    1.703636e+06                  NaN     0.109783"
      ],
      "text/html": [
       "<div>\n",
       "<style scoped>\n",
       "    .dataframe tbody tr th:only-of-type {\n",
       "        vertical-align: middle;\n",
       "    }\n",
       "\n",
       "    .dataframe tbody tr th {\n",
       "        vertical-align: top;\n",
       "    }\n",
       "\n",
       "    .dataframe thead th {\n",
       "        text-align: right;\n",
       "    }\n",
       "</style>\n",
       "<table border=\"1\" class=\"dataframe\">\n",
       "  <thead>\n",
       "    <tr style=\"text-align: right;\">\n",
       "      <th></th>\n",
       "      <th>AdID</th>\n",
       "      <th>timestamp</th>\n",
       "      <th>num_click</th>\n",
       "    </tr>\n",
       "  </thead>\n",
       "  <tbody>\n",
       "    <tr>\n",
       "      <th>count</th>\n",
       "      <td>1.816000e+03</td>\n",
       "      <td>1816</td>\n",
       "      <td>1816.000000</td>\n",
       "    </tr>\n",
       "    <tr>\n",
       "      <th>mean</th>\n",
       "      <td>2.953207e+06</td>\n",
       "      <td>2015-05-14 00:00:00</td>\n",
       "      <td>0.052210</td>\n",
       "    </tr>\n",
       "    <tr>\n",
       "      <th>min</th>\n",
       "      <td>4.659000e+03</td>\n",
       "      <td>2015-05-14 00:00:00</td>\n",
       "      <td>0.000847</td>\n",
       "    </tr>\n",
       "    <tr>\n",
       "      <th>25%</th>\n",
       "      <td>1.483985e+06</td>\n",
       "      <td>2015-05-14 00:00:00</td>\n",
       "      <td>0.008736</td>\n",
       "    </tr>\n",
       "    <tr>\n",
       "      <th>50%</th>\n",
       "      <td>2.926594e+06</td>\n",
       "      <td>2015-05-14 00:00:00</td>\n",
       "      <td>0.018913</td>\n",
       "    </tr>\n",
       "    <tr>\n",
       "      <th>75%</th>\n",
       "      <td>4.436748e+06</td>\n",
       "      <td>2015-05-14 00:00:00</td>\n",
       "      <td>0.046032</td>\n",
       "    </tr>\n",
       "    <tr>\n",
       "      <th>max</th>\n",
       "      <td>5.919483e+06</td>\n",
       "      <td>2015-05-14 00:00:00</td>\n",
       "      <td>1.000000</td>\n",
       "    </tr>\n",
       "    <tr>\n",
       "      <th>std</th>\n",
       "      <td>1.703636e+06</td>\n",
       "      <td>NaN</td>\n",
       "      <td>0.109783</td>\n",
       "    </tr>\n",
       "  </tbody>\n",
       "</table>\n",
       "</div>"
      ]
     },
     "execution_count": 94,
     "metadata": {},
     "output_type": "execute_result"
    }
   ],
   "execution_count": 94
  },
  {
   "metadata": {
    "ExecuteTime": {
     "end_time": "2025-06-17T14:51:52.367213Z",
     "start_time": "2025-06-17T14:51:52.360130Z"
    }
   },
   "cell_type": "code",
   "source": "val_df.describe()",
   "id": "7ff96b0940ab938a",
   "outputs": [
    {
     "data": {
      "text/plain": [
       "               AdID            timestamp    num_click\n",
       "count  1.766000e+03                 1766  1766.000000\n",
       "mean   3.011808e+06  2015-05-08 00:00:00     0.048414\n",
       "min    7.344000e+03  2015-05-08 00:00:00     0.000913\n",
       "25%    1.529616e+06  2015-05-08 00:00:00     0.007897\n",
       "50%    2.978298e+06  2015-05-08 00:00:00     0.017911\n",
       "75%    4.485061e+06  2015-05-08 00:00:00     0.045455\n",
       "max    5.928415e+06  2015-05-08 00:00:00     1.000000\n",
       "std    1.717176e+06                  NaN     0.099229"
      ],
      "text/html": [
       "<div>\n",
       "<style scoped>\n",
       "    .dataframe tbody tr th:only-of-type {\n",
       "        vertical-align: middle;\n",
       "    }\n",
       "\n",
       "    .dataframe tbody tr th {\n",
       "        vertical-align: top;\n",
       "    }\n",
       "\n",
       "    .dataframe thead th {\n",
       "        text-align: right;\n",
       "    }\n",
       "</style>\n",
       "<table border=\"1\" class=\"dataframe\">\n",
       "  <thead>\n",
       "    <tr style=\"text-align: right;\">\n",
       "      <th></th>\n",
       "      <th>AdID</th>\n",
       "      <th>timestamp</th>\n",
       "      <th>num_click</th>\n",
       "    </tr>\n",
       "  </thead>\n",
       "  <tbody>\n",
       "    <tr>\n",
       "      <th>count</th>\n",
       "      <td>1.766000e+03</td>\n",
       "      <td>1766</td>\n",
       "      <td>1766.000000</td>\n",
       "    </tr>\n",
       "    <tr>\n",
       "      <th>mean</th>\n",
       "      <td>3.011808e+06</td>\n",
       "      <td>2015-05-08 00:00:00</td>\n",
       "      <td>0.048414</td>\n",
       "    </tr>\n",
       "    <tr>\n",
       "      <th>min</th>\n",
       "      <td>7.344000e+03</td>\n",
       "      <td>2015-05-08 00:00:00</td>\n",
       "      <td>0.000913</td>\n",
       "    </tr>\n",
       "    <tr>\n",
       "      <th>25%</th>\n",
       "      <td>1.529616e+06</td>\n",
       "      <td>2015-05-08 00:00:00</td>\n",
       "      <td>0.007897</td>\n",
       "    </tr>\n",
       "    <tr>\n",
       "      <th>50%</th>\n",
       "      <td>2.978298e+06</td>\n",
       "      <td>2015-05-08 00:00:00</td>\n",
       "      <td>0.017911</td>\n",
       "    </tr>\n",
       "    <tr>\n",
       "      <th>75%</th>\n",
       "      <td>4.485061e+06</td>\n",
       "      <td>2015-05-08 00:00:00</td>\n",
       "      <td>0.045455</td>\n",
       "    </tr>\n",
       "    <tr>\n",
       "      <th>max</th>\n",
       "      <td>5.928415e+06</td>\n",
       "      <td>2015-05-08 00:00:00</td>\n",
       "      <td>1.000000</td>\n",
       "    </tr>\n",
       "    <tr>\n",
       "      <th>std</th>\n",
       "      <td>1.717176e+06</td>\n",
       "      <td>NaN</td>\n",
       "      <td>0.099229</td>\n",
       "    </tr>\n",
       "  </tbody>\n",
       "</table>\n",
       "</div>"
      ]
     },
     "execution_count": 95,
     "metadata": {},
     "output_type": "execute_result"
    }
   ],
   "execution_count": 95
  },
  {
   "metadata": {
    "ExecuteTime": {
     "end_time": "2025-06-17T14:51:52.465557Z",
     "start_time": "2025-06-17T14:51:52.462777Z"
    }
   },
   "cell_type": "code",
   "source": [
    "ad_ctr_train_labels = train_df.num_click.to_numpy()\n",
    "ad_ctr_test_labels = test_df.num_click.to_numpy()\n",
    "ad_ctr_val_labels = val_df.num_click.to_numpy()"
   ],
   "id": "4ecb866cf80352e8",
   "outputs": [],
   "execution_count": 96
  },
  {
   "metadata": {
    "ExecuteTime": {
     "end_time": "2025-06-17T14:51:52.986284Z",
     "start_time": "2025-06-17T14:51:52.534620Z"
    }
   },
   "cell_type": "code",
   "source": [
    "fig, ax = plt.subplots(1, 3, figsize=(15, 4))\n",
    "ax = ax.reshape((-1))\n",
    "\n",
    "plot_reg_dist(ax[0], ad_ctr_train_labels, 'Count', 'Clicks', 'Train Set')\n",
    "plot_reg_dist(ax[1], ad_ctr_test_labels, 'Count', 'Clicks', 'Test Set')\n",
    "plot_reg_dist(ax[2], ad_ctr_val_labels, 'Count', 'Clicks', 'Validation Set')\n",
    "\n",
    "plt.savefig('ad_ctr_dist.pdf')\n",
    "plt.show()"
   ],
   "id": "79153f16ec1ec71c",
   "outputs": [
    {
     "data": {
      "text/plain": [
       "<Figure size 1500x400 with 3 Axes>"
      ],
      "image/png": "[encoded data removed]"
     },
     "metadata": {},
     "output_type": "display_data"
    }
   ],
   "execution_count": 97
  },
  {
   "metadata": {
    "ExecuteTime": {
     "end_time": "2025-06-17T14:51:53.077634Z",
     "start_time": "2025-06-17T14:51:53.003685Z"
    }
   },
   "cell_type": "code",
   "source": [
    "conn.close()\n",
    "gc.collect()"
   ],
   "id": "c3bcd4cdb7881143",
   "outputs": [
    {
     "data": {
      "text/plain": [
       "21158"
      ]
     },
     "execution_count": 98,
     "metadata": {},
     "output_type": "execute_result"
    }
   ],
   "execution_count": 98
  },
  {
   "metadata": {},
   "cell_type": "markdown",
   "source": "# Trial",
   "id": "344f68e2ca65f93c"
  },
  {
   "metadata": {
    "ExecuteTime": {
     "end_time": "2025-06-17T14:51:53.114821Z",
     "start_time": "2025-06-17T14:51:53.100817Z"
    }
   },
   "cell_type": "code",
   "source": [
    "conn = duckdb.connect('trial.db')\n",
    "%load_ext sql\n",
    "%sql conn --alias duckdb\n",
    "%config SqlMagic.displaycon=False\n",
    "%config SqlMagic.autopandas=True\n",
    "pio.renderers.default = 'svg'"
   ],
   "id": "fa3726dfe0162c6b",
   "outputs": [
    {
     "name": "stdout",
     "output_type": "stream",
     "text": [
      "The sql extension is already loaded. To reload it, use:\n",
      "  %reload_ext sql\n"
     ]
    }
   ],
   "execution_count": 99
  },
  {
   "metadata": {
    "ExecuteTime": {
     "end_time": "2025-06-17T14:51:53.150673Z",
     "start_time": "2025-06-17T14:51:53.142543Z"
    }
   },
   "cell_type": "code",
   "source": [
    "%%sql train_df <<\n",
    "from study_outcome_train"
   ],
   "id": "d7b72ab88867b9ef",
   "outputs": [],
   "execution_count": 100
  },
  {
   "metadata": {
    "ExecuteTime": {
     "end_time": "2025-06-17T14:51:53.172156Z",
     "start_time": "2025-06-17T14:51:53.168485Z"
    }
   },
   "cell_type": "code",
   "source": [
    "%%sql test_df <<\n",
    "from study_outcome_test"
   ],
   "id": "b65220e5bfb094e8",
   "outputs": [],
   "execution_count": 101
  },
  {
   "metadata": {
    "ExecuteTime": {
     "end_time": "2025-06-17T14:51:53.203902Z",
     "start_time": "2025-06-17T14:51:53.195835Z"
    }
   },
   "cell_type": "code",
   "source": [
    "%%sql val_df <<\n",
    "from study_outcome_val"
   ],
   "id": "cefb3271118e8868",
   "outputs": [],
   "execution_count": 102
  },
  {
   "metadata": {
    "ExecuteTime": {
     "end_time": "2025-06-17T14:51:53.231919Z",
     "start_time": "2025-06-17T14:51:53.224664Z"
    }
   },
   "cell_type": "code",
   "source": "train_df.describe()",
   "id": "c85c099465950807",
   "outputs": [
    {
     "data": {
      "text/plain": [
       "                           timestamp         nct_id       outcome\n",
       "count                          11994   11994.000000  11994.000000\n",
       "mean   2013-09-16 11:37:11.315657984   92576.491662      0.637569\n",
       "min              2001-01-05 00:00:00      49.000000      0.000000\n",
       "25%              2011-01-03 00:00:00   46118.000000      0.000000\n",
       "50%              2014-01-02 00:00:00   86324.500000      1.000000\n",
       "75%              2017-01-01 00:00:00  135772.750000      1.000000\n",
       "max              2019-01-01 00:00:00  217762.000000      1.000000\n",
       "std                              NaN   54858.809190      0.480722"
      ],
      "text/html": [
       "<div>\n",
       "<style scoped>\n",
       "    .dataframe tbody tr th:only-of-type {\n",
       "        vertical-align: middle;\n",
       "    }\n",
       "\n",
       "    .dataframe tbody tr th {\n",
       "        vertical-align: top;\n",
       "    }\n",
       "\n",
       "    .dataframe thead th {\n",
       "        text-align: right;\n",
       "    }\n",
       "</style>\n",
       "<table border=\"1\" class=\"dataframe\">\n",
       "  <thead>\n",
       "    <tr style=\"text-align: right;\">\n",
       "      <th></th>\n",
       "      <th>timestamp</th>\n",
       "      <th>nct_id</th>\n",
       "      <th>outcome</th>\n",
       "    </tr>\n",
       "  </thead>\n",
       "  <tbody>\n",
       "    <tr>\n",
       "      <th>count</th>\n",
       "      <td>11994</td>\n",
       "      <td>11994.000000</td>\n",
       "      <td>11994.000000</td>\n",
       "    </tr>\n",
       "    <tr>\n",
       "      <th>mean</th>\n",
       "      <td>2013-09-16 11:37:11.315657984</td>\n",
       "      <td>92576.491662</td>\n",
       "      <td>0.637569</td>\n",
       "    </tr>\n",
       "    <tr>\n",
       "      <th>min</th>\n",
       "      <td>2001-01-05 00:00:00</td>\n",
       "      <td>49.000000</td>\n",
       "      <td>0.000000</td>\n",
       "    </tr>\n",
       "    <tr>\n",
       "      <th>25%</th>\n",
       "      <td>2011-01-03 00:00:00</td>\n",
       "      <td>46118.000000</td>\n",
       "      <td>0.000000</td>\n",
       "    </tr>\n",
       "    <tr>\n",
       "      <th>50%</th>\n",
       "      <td>2014-01-02 00:00:00</td>\n",
       "      <td>86324.500000</td>\n",
       "      <td>1.000000</td>\n",
       "    </tr>\n",
       "    <tr>\n",
       "      <th>75%</th>\n",
       "      <td>2017-01-01 00:00:00</td>\n",
       "      <td>135772.750000</td>\n",
       "      <td>1.000000</td>\n",
       "    </tr>\n",
       "    <tr>\n",
       "      <th>max</th>\n",
       "      <td>2019-01-01 00:00:00</td>\n",
       "      <td>217762.000000</td>\n",
       "      <td>1.000000</td>\n",
       "    </tr>\n",
       "    <tr>\n",
       "      <th>std</th>\n",
       "      <td>NaN</td>\n",
       "      <td>54858.809190</td>\n",
       "      <td>0.480722</td>\n",
       "    </tr>\n",
       "  </tbody>\n",
       "</table>\n",
       "</div>"
      ]
     },
     "execution_count": 103,
     "metadata": {},
     "output_type": "execute_result"
    }
   ],
   "execution_count": 103
  },
  {
   "metadata": {
    "ExecuteTime": {
     "end_time": "2025-06-17T14:51:53.284681Z",
     "start_time": "2025-06-17T14:51:53.277417Z"
    }
   },
   "cell_type": "code",
   "source": "test_df.describe()",
   "id": "18c428c1bc294622",
   "outputs": [
    {
     "data": {
      "text/plain": [
       "                 timestamp         nct_id     outcome\n",
       "count                  825     825.000000  825.000000\n",
       "mean   2021-01-01 00:00:00  199249.295758    0.585455\n",
       "min    2021-01-01 00:00:00   14479.000000    0.000000\n",
       "25%    2021-01-01 00:00:00  177202.000000    0.000000\n",
       "50%    2021-01-01 00:00:00  211407.000000    1.000000\n",
       "75%    2021-01-01 00:00:00  231650.000000    1.000000\n",
       "max    2021-01-01 00:00:00  249609.000000    1.000000\n",
       "std                    NaN   43653.289978    0.492942"
      ],
      "text/html": [
       "<div>\n",
       "<style scoped>\n",
       "    .dataframe tbody tr th:only-of-type {\n",
       "        vertical-align: middle;\n",
       "    }\n",
       "\n",
       "    .dataframe tbody tr th {\n",
       "        vertical-align: top;\n",
       "    }\n",
       "\n",
       "    .dataframe thead th {\n",
       "        text-align: right;\n",
       "    }\n",
       "</style>\n",
       "<table border=\"1\" class=\"dataframe\">\n",
       "  <thead>\n",
       "    <tr style=\"text-align: right;\">\n",
       "      <th></th>\n",
       "      <th>timestamp</th>\n",
       "      <th>nct_id</th>\n",
       "      <th>outcome</th>\n",
       "    </tr>\n",
       "  </thead>\n",
       "  <tbody>\n",
       "    <tr>\n",
       "      <th>count</th>\n",
       "      <td>825</td>\n",
       "      <td>825.000000</td>\n",
       "      <td>825.000000</td>\n",
       "    </tr>\n",
       "    <tr>\n",
       "      <th>mean</th>\n",
       "      <td>2021-01-01 00:00:00</td>\n",
       "      <td>199249.295758</td>\n",
       "      <td>0.585455</td>\n",
       "    </tr>\n",
       "    <tr>\n",
       "      <th>min</th>\n",
       "      <td>2021-01-01 00:00:00</td>\n",
       "      <td>14479.000000</td>\n",
       "      <td>0.000000</td>\n",
       "    </tr>\n",
       "    <tr>\n",
       "      <th>25%</th>\n",
       "      <td>2021-01-01 00:00:00</td>\n",
       "      <td>177202.000000</td>\n",
       "      <td>0.000000</td>\n",
       "    </tr>\n",
       "    <tr>\n",
       "      <th>50%</th>\n",
       "      <td>2021-01-01 00:00:00</td>\n",
       "      <td>211407.000000</td>\n",
       "      <td>1.000000</td>\n",
       "    </tr>\n",
       "    <tr>\n",
       "      <th>75%</th>\n",
       "      <td>2021-01-01 00:00:00</td>\n",
       "      <td>231650.000000</td>\n",
       "      <td>1.000000</td>\n",
       "    </tr>\n",
       "    <tr>\n",
       "      <th>max</th>\n",
       "      <td>2021-01-01 00:00:00</td>\n",
       "      <td>249609.000000</td>\n",
       "      <td>1.000000</td>\n",
       "    </tr>\n",
       "    <tr>\n",
       "      <th>std</th>\n",
       "      <td>NaN</td>\n",
       "      <td>43653.289978</td>\n",
       "      <td>0.492942</td>\n",
       "    </tr>\n",
       "  </tbody>\n",
       "</table>\n",
       "</div>"
      ]
     },
     "execution_count": 104,
     "metadata": {},
     "output_type": "execute_result"
    }
   ],
   "execution_count": 104
  },
  {
   "metadata": {
    "ExecuteTime": {
     "end_time": "2025-06-17T14:51:53.385331Z",
     "start_time": "2025-06-17T14:51:53.377840Z"
    }
   },
   "cell_type": "code",
   "source": "val_df.describe()",
   "id": "40d18c6c42dacffc",
   "outputs": [
    {
     "data": {
      "text/plain": [
       "                 timestamp         nct_id     outcome\n",
       "count                  960     960.000000  960.000000\n",
       "mean   2020-01-01 00:00:00  185996.045833    0.584375\n",
       "min    2020-01-01 00:00:00    2301.000000    0.000000\n",
       "25%    2020-01-01 00:00:00  164325.000000    0.000000\n",
       "50%    2020-01-01 00:00:00  197395.000000    1.000000\n",
       "75%    2020-01-01 00:00:00  215933.750000    1.000000\n",
       "max    2020-01-01 00:00:00  234361.000000    1.000000\n",
       "std                    NaN   40056.595518    0.493086"
      ],
      "text/html": [
       "<div>\n",
       "<style scoped>\n",
       "    .dataframe tbody tr th:only-of-type {\n",
       "        vertical-align: middle;\n",
       "    }\n",
       "\n",
       "    .dataframe tbody tr th {\n",
       "        vertical-align: top;\n",
       "    }\n",
       "\n",
       "    .dataframe thead th {\n",
       "        text-align: right;\n",
       "    }\n",
       "</style>\n",
       "<table border=\"1\" class=\"dataframe\">\n",
       "  <thead>\n",
       "    <tr style=\"text-align: right;\">\n",
       "      <th></th>\n",
       "      <th>timestamp</th>\n",
       "      <th>nct_id</th>\n",
       "      <th>outcome</th>\n",
       "    </tr>\n",
       "  </thead>\n",
       "  <tbody>\n",
       "    <tr>\n",
       "      <th>count</th>\n",
       "      <td>960</td>\n",
       "      <td>960.000000</td>\n",
       "      <td>960.000000</td>\n",
       "    </tr>\n",
       "    <tr>\n",
       "      <th>mean</th>\n",
       "      <td>2020-01-01 00:00:00</td>\n",
       "      <td>185996.045833</td>\n",
       "      <td>0.584375</td>\n",
       "    </tr>\n",
       "    <tr>\n",
       "      <th>min</th>\n",
       "      <td>2020-01-01 00:00:00</td>\n",
       "      <td>2301.000000</td>\n",
       "      <td>0.000000</td>\n",
       "    </tr>\n",
       "    <tr>\n",
       "      <th>25%</th>\n",
       "      <td>2020-01-01 00:00:00</td>\n",
       "      <td>164325.000000</td>\n",
       "      <td>0.000000</td>\n",
       "    </tr>\n",
       "    <tr>\n",
       "      <th>50%</th>\n",
       "      <td>2020-01-01 00:00:00</td>\n",
       "      <td>197395.000000</td>\n",
       "      <td>1.000000</td>\n",
       "    </tr>\n",
       "    <tr>\n",
       "      <th>75%</th>\n",
       "      <td>2020-01-01 00:00:00</td>\n",
       "      <td>215933.750000</td>\n",
       "      <td>1.000000</td>\n",
       "    </tr>\n",
       "    <tr>\n",
       "      <th>max</th>\n",
       "      <td>2020-01-01 00:00:00</td>\n",
       "      <td>234361.000000</td>\n",
       "      <td>1.000000</td>\n",
       "    </tr>\n",
       "    <tr>\n",
       "      <th>std</th>\n",
       "      <td>NaN</td>\n",
       "      <td>40056.595518</td>\n",
       "      <td>0.493086</td>\n",
       "    </tr>\n",
       "  </tbody>\n",
       "</table>\n",
       "</div>"
      ]
     },
     "execution_count": 105,
     "metadata": {},
     "output_type": "execute_result"
    }
   ],
   "execution_count": 105
  },
  {
   "metadata": {
    "ExecuteTime": {
     "end_time": "2025-06-17T14:51:53.508413Z",
     "start_time": "2025-06-17T14:51:53.506056Z"
    }
   },
   "cell_type": "code",
   "source": [
    "study_outcome_train_labels = train_df.outcome.to_numpy()\n",
    "study_outcome_test_labels = test_df.outcome.to_numpy()\n",
    "study_outcome_val_labels = val_df.outcome.to_numpy()"
   ],
   "id": "3df1f21cce36087",
   "outputs": [],
   "execution_count": 106
  },
  {
   "metadata": {
    "ExecuteTime": {
     "end_time": "2025-06-17T14:51:53.910540Z",
     "start_time": "2025-06-17T14:51:53.638599Z"
    }
   },
   "cell_type": "code",
   "source": [
    "fig, ax = plt.subplots(1, 3, figsize=(15, 4))\n",
    "ax = ax.reshape((-1))\n",
    "\n",
    "plot_binary_dist(ax[0], study_outcome_train_labels, 'Count', 'Train Set')\n",
    "plot_binary_dist(ax[1], study_outcome_test_labels, 'Count', 'Test Set')\n",
    "plot_binary_dist(ax[2], study_outcome_val_labels, 'Count', 'Validation Set')\n",
    "\n",
    "plt.savefig('study_outcome_dist.pdf')\n",
    "plt.show()"
   ],
   "id": "8465bfcd039fab74",
   "outputs": [
    {
     "data": {
      "text/plain": [
       "<Figure size 1500x400 with 3 Axes>"
      ],
      "image/png": "[encoded data removed]"
     },
     "metadata": {},
     "output_type": "display_data"
    }
   ],
   "execution_count": 107
  },
  {
   "metadata": {
    "ExecuteTime": {
     "end_time": "2025-06-17T14:51:53.947488Z",
     "start_time": "2025-06-17T14:51:53.941166Z"
    }
   },
   "cell_type": "code",
   "source": [
    "%%sql train_df <<\n",
    "from site_success_train"
   ],
   "id": "8c3b88741c856d43",
   "outputs": [],
   "execution_count": 108
  },
  {
   "metadata": {
    "ExecuteTime": {
     "end_time": "2025-06-17T14:51:54.001508Z",
     "start_time": "2025-06-17T14:51:53.997092Z"
    }
   },
   "cell_type": "code",
   "source": [
    "%%sql test_df <<\n",
    "from site_success_test"
   ],
   "id": "276795e09e289ac1",
   "outputs": [],
   "execution_count": 109
  },
  {
   "metadata": {
    "ExecuteTime": {
     "end_time": "2025-06-17T14:51:54.032939Z",
     "start_time": "2025-06-17T14:51:54.026002Z"
    }
   },
   "cell_type": "code",
   "source": [
    "%%sql val_df <<\n",
    "from site_success_val"
   ],
   "id": "b1e5b6ae30232415",
   "outputs": [],
   "execution_count": 110
  },
  {
   "metadata": {
    "ExecuteTime": {
     "end_time": "2025-06-17T14:51:54.079765Z",
     "start_time": "2025-06-17T14:51:54.059635Z"
    }
   },
   "cell_type": "code",
   "source": "train_df.describe()",
   "id": "5b0e14480e25fd9b",
   "outputs": [
    {
     "data": {
      "text/plain": [
       "                           timestamp    facility_id   success_rate\n",
       "count                         151407  151407.000000  151407.000000\n",
       "mean   2014-12-05 14:37:31.346371072  148505.767996       0.442396\n",
       "min              2001-01-05 00:00:00       1.000000       0.000000\n",
       "25%              2013-01-02 00:00:00   35745.500000       0.000000\n",
       "50%              2015-01-02 00:00:00  110521.000000       0.000000\n",
       "75%              2018-01-01 00:00:00  254082.500000       1.000000\n",
       "max              2019-01-01 00:00:00  453211.000000       1.000000\n",
       "std                              NaN  131004.067856       0.475863"
      ],
      "text/html": [
       "<div>\n",
       "<style scoped>\n",
       "    .dataframe tbody tr th:only-of-type {\n",
       "        vertical-align: middle;\n",
       "    }\n",
       "\n",
       "    .dataframe tbody tr th {\n",
       "        vertical-align: top;\n",
       "    }\n",
       "\n",
       "    .dataframe thead th {\n",
       "        text-align: right;\n",
       "    }\n",
       "</style>\n",
       "<table border=\"1\" class=\"dataframe\">\n",
       "  <thead>\n",
       "    <tr style=\"text-align: right;\">\n",
       "      <th></th>\n",
       "      <th>timestamp</th>\n",
       "      <th>facility_id</th>\n",
       "      <th>success_rate</th>\n",
       "    </tr>\n",
       "  </thead>\n",
       "  <tbody>\n",
       "    <tr>\n",
       "      <th>count</th>\n",
       "      <td>151407</td>\n",
       "      <td>151407.000000</td>\n",
       "      <td>151407.000000</td>\n",
       "    </tr>\n",
       "    <tr>\n",
       "      <th>mean</th>\n",
       "      <td>2014-12-05 14:37:31.346371072</td>\n",
       "      <td>148505.767996</td>\n",
       "      <td>0.442396</td>\n",
       "    </tr>\n",
       "    <tr>\n",
       "      <th>min</th>\n",
       "      <td>2001-01-05 00:00:00</td>\n",
       "      <td>1.000000</td>\n",
       "      <td>0.000000</td>\n",
       "    </tr>\n",
       "    <tr>\n",
       "      <th>25%</th>\n",
       "      <td>2013-01-02 00:00:00</td>\n",
       "      <td>35745.500000</td>\n",
       "      <td>0.000000</td>\n",
       "    </tr>\n",
       "    <tr>\n",
       "      <th>50%</th>\n",
       "      <td>2015-01-02 00:00:00</td>\n",
       "      <td>110521.000000</td>\n",
       "      <td>0.000000</td>\n",
       "    </tr>\n",
       "    <tr>\n",
       "      <th>75%</th>\n",
       "      <td>2018-01-01 00:00:00</td>\n",
       "      <td>254082.500000</td>\n",
       "      <td>1.000000</td>\n",
       "    </tr>\n",
       "    <tr>\n",
       "      <th>max</th>\n",
       "      <td>2019-01-01 00:00:00</td>\n",
       "      <td>453211.000000</td>\n",
       "      <td>1.000000</td>\n",
       "    </tr>\n",
       "    <tr>\n",
       "      <th>std</th>\n",
       "      <td>NaN</td>\n",
       "      <td>131004.067856</td>\n",
       "      <td>0.475863</td>\n",
       "    </tr>\n",
       "  </tbody>\n",
       "</table>\n",
       "</div>"
      ]
     },
     "execution_count": 111,
     "metadata": {},
     "output_type": "execute_result"
    }
   ],
   "execution_count": 111
  },
  {
   "metadata": {
    "ExecuteTime": {
     "end_time": "2025-06-17T14:51:54.139465Z",
     "start_time": "2025-06-17T14:51:54.131863Z"
    }
   },
   "cell_type": "code",
   "source": "test_df.describe()",
   "id": "109b402946393bb2",
   "outputs": [
    {
     "data": {
      "text/plain": [
       "                 timestamp    facility_id  success_rate\n",
       "count                22617   22617.000000  22617.000000\n",
       "mean   2021-01-01 00:00:00  155604.373613      0.462222\n",
       "min    2021-01-01 00:00:00       1.000000      0.000000\n",
       "25%    2021-01-01 00:00:00   34393.000000      0.000000\n",
       "50%    2021-01-01 00:00:00  118894.000000      0.166667\n",
       "75%    2021-01-01 00:00:00  259463.000000      1.000000\n",
       "max    2021-01-01 00:00:00  453227.000000      1.000000\n",
       "std                    NaN  137467.358421      0.481231"
      ],
      "text/html": [
       "<div>\n",
       "<style scoped>\n",
       "    .dataframe tbody tr th:only-of-type {\n",
       "        vertical-align: middle;\n",
       "    }\n",
       "\n",
       "    .dataframe tbody tr th {\n",
       "        vertical-align: top;\n",
       "    }\n",
       "\n",
       "    .dataframe thead th {\n",
       "        text-align: right;\n",
       "    }\n",
       "</style>\n",
       "<table border=\"1\" class=\"dataframe\">\n",
       "  <thead>\n",
       "    <tr style=\"text-align: right;\">\n",
       "      <th></th>\n",
       "      <th>timestamp</th>\n",
       "      <th>facility_id</th>\n",
       "      <th>success_rate</th>\n",
       "    </tr>\n",
       "  </thead>\n",
       "  <tbody>\n",
       "    <tr>\n",
       "      <th>count</th>\n",
       "      <td>22617</td>\n",
       "      <td>22617.000000</td>\n",
       "      <td>22617.000000</td>\n",
       "    </tr>\n",
       "    <tr>\n",
       "      <th>mean</th>\n",
       "      <td>2021-01-01 00:00:00</td>\n",
       "      <td>155604.373613</td>\n",
       "      <td>0.462222</td>\n",
       "    </tr>\n",
       "    <tr>\n",
       "      <th>min</th>\n",
       "      <td>2021-01-01 00:00:00</td>\n",
       "      <td>1.000000</td>\n",
       "      <td>0.000000</td>\n",
       "    </tr>\n",
       "    <tr>\n",
       "      <th>25%</th>\n",
       "      <td>2021-01-01 00:00:00</td>\n",
       "      <td>34393.000000</td>\n",
       "      <td>0.000000</td>\n",
       "    </tr>\n",
       "    <tr>\n",
       "      <th>50%</th>\n",
       "      <td>2021-01-01 00:00:00</td>\n",
       "      <td>118894.000000</td>\n",
       "      <td>0.166667</td>\n",
       "    </tr>\n",
       "    <tr>\n",
       "      <th>75%</th>\n",
       "      <td>2021-01-01 00:00:00</td>\n",
       "      <td>259463.000000</td>\n",
       "      <td>1.000000</td>\n",
       "    </tr>\n",
       "    <tr>\n",
       "      <th>max</th>\n",
       "      <td>2021-01-01 00:00:00</td>\n",
       "      <td>453227.000000</td>\n",
       "      <td>1.000000</td>\n",
       "    </tr>\n",
       "    <tr>\n",
       "      <th>std</th>\n",
       "      <td>NaN</td>\n",
       "      <td>137467.358421</td>\n",
       "      <td>0.481231</td>\n",
       "    </tr>\n",
       "  </tbody>\n",
       "</table>\n",
       "</div>"
      ]
     },
     "execution_count": 112,
     "metadata": {},
     "output_type": "execute_result"
    }
   ],
   "execution_count": 112
  },
  {
   "metadata": {
    "ExecuteTime": {
     "end_time": "2025-06-17T14:51:54.401878Z",
     "start_time": "2025-06-17T14:51:54.384100Z"
    }
   },
   "cell_type": "code",
   "source": "val_df.describe()",
   "id": "8776c6f3b226a83",
   "outputs": [
    {
     "data": {
      "text/plain": [
       "                 timestamp    facility_id  success_rate\n",
       "count                19740   19740.000000  19740.000000\n",
       "mean   2020-01-01 00:00:00  158304.955218      0.474937\n",
       "min    2020-01-01 00:00:00       1.000000      0.000000\n",
       "25%    2020-01-01 00:00:00   36905.750000      0.000000\n",
       "50%    2020-01-01 00:00:00  128224.500000      0.400000\n",
       "75%    2020-01-01 00:00:00  269598.500000      1.000000\n",
       "max    2020-01-01 00:00:00  452806.000000      1.000000\n",
       "std                    NaN  130859.318094      0.477706"
      ],
      "text/html": [
       "<div>\n",
       "<style scoped>\n",
       "    .dataframe tbody tr th:only-of-type {\n",
       "        vertical-align: middle;\n",
       "    }\n",
       "\n",
       "    .dataframe tbody tr th {\n",
       "        vertical-align: top;\n",
       "    }\n",
       "\n",
       "    .dataframe thead th {\n",
       "        text-align: right;\n",
       "    }\n",
       "</style>\n",
       "<table border=\"1\" class=\"dataframe\">\n",
       "  <thead>\n",
       "    <tr style=\"text-align: right;\">\n",
       "      <th></th>\n",
       "      <th>timestamp</th>\n",
       "      <th>facility_id</th>\n",
       "      <th>success_rate</th>\n",
       "    </tr>\n",
       "  </thead>\n",
       "  <tbody>\n",
       "    <tr>\n",
       "      <th>count</th>\n",
       "      <td>19740</td>\n",
       "      <td>19740.000000</td>\n",
       "      <td>19740.000000</td>\n",
       "    </tr>\n",
       "    <tr>\n",
       "      <th>mean</th>\n",
       "      <td>2020-01-01 00:00:00</td>\n",
       "      <td>158304.955218</td>\n",
       "      <td>0.474937</td>\n",
       "    </tr>\n",
       "    <tr>\n",
       "      <th>min</th>\n",
       "      <td>2020-01-01 00:00:00</td>\n",
       "      <td>1.000000</td>\n",
       "      <td>0.000000</td>\n",
       "    </tr>\n",
       "    <tr>\n",
       "      <th>25%</th>\n",
       "      <td>2020-01-01 00:00:00</td>\n",
       "      <td>36905.750000</td>\n",
       "      <td>0.000000</td>\n",
       "    </tr>\n",
       "    <tr>\n",
       "      <th>50%</th>\n",
       "      <td>2020-01-01 00:00:00</td>\n",
       "      <td>128224.500000</td>\n",
       "      <td>0.400000</td>\n",
       "    </tr>\n",
       "    <tr>\n",
       "      <th>75%</th>\n",
       "      <td>2020-01-01 00:00:00</td>\n",
       "      <td>269598.500000</td>\n",
       "      <td>1.000000</td>\n",
       "    </tr>\n",
       "    <tr>\n",
       "      <th>max</th>\n",
       "      <td>2020-01-01 00:00:00</td>\n",
       "      <td>452806.000000</td>\n",
       "      <td>1.000000</td>\n",
       "    </tr>\n",
       "    <tr>\n",
       "      <th>std</th>\n",
       "      <td>NaN</td>\n",
       "      <td>130859.318094</td>\n",
       "      <td>0.477706</td>\n",
       "    </tr>\n",
       "  </tbody>\n",
       "</table>\n",
       "</div>"
      ]
     },
     "execution_count": 113,
     "metadata": {},
     "output_type": "execute_result"
    }
   ],
   "execution_count": 113
  },
  {
   "metadata": {
    "ExecuteTime": {
     "end_time": "2025-06-17T14:51:54.500743Z",
     "start_time": "2025-06-17T14:51:54.497606Z"
    }
   },
   "cell_type": "code",
   "source": [
    "site_success_train_labels = train_df.success_rate.to_numpy()\n",
    "site_success_test_labels = test_df.success_rate.to_numpy()\n",
    "site_success_val_labels = val_df.success_rate.to_numpy()"
   ],
   "id": "15e7d64b8846ee2b",
   "outputs": [],
   "execution_count": 114
  },
  {
   "metadata": {
    "ExecuteTime": {
     "end_time": "2025-06-17T14:51:54.903694Z",
     "start_time": "2025-06-17T14:51:54.616040Z"
    }
   },
   "cell_type": "code",
   "source": [
    "fig, ax = plt.subplots(1, 3, figsize=(15, 4))\n",
    "ax = ax.reshape((-1))\n",
    "\n",
    "plot_reg_dist(ax[0], site_success_train_labels, 'Count', 'Success Rate', 'Train Set')\n",
    "plot_reg_dist(ax[1], site_success_test_labels, 'Count', 'Success Rate', 'Test Set')\n",
    "plot_reg_dist(ax[2], site_success_val_labels, 'Count', 'Success Rate', 'Validation Set')\n",
    "\n",
    "plt.savefig('site_success_dist.pdf')\n",
    "plt.show()"
   ],
   "id": "4e8e47df9e94b4f6",
   "outputs": [
    {
     "data": {
      "text/plain": [
       "<Figure size 1500x400 with 3 Axes>"
      ],
      "image/png": "[encoded data removed]"
     },
     "metadata": {},
     "output_type": "display_data"
    }
   ],
   "execution_count": 115
  },
  {
   "metadata": {
    "ExecuteTime": {
     "end_time": "2025-06-17T14:51:54.937605Z",
     "start_time": "2025-06-17T14:51:54.929122Z"
    }
   },
   "cell_type": "code",
   "source": [
    "%%sql train_df <<\n",
    "from study_adverse_train"
   ],
   "id": "517a2d6ab1d699b1",
   "outputs": [],
   "execution_count": 116
  },
  {
   "metadata": {
    "ExecuteTime": {
     "end_time": "2025-06-17T14:51:54.970818Z",
     "start_time": "2025-06-17T14:51:54.965419Z"
    }
   },
   "cell_type": "code",
   "source": [
    "%%sql test_df <<\n",
    "from study_adverse_test"
   ],
   "id": "e8d645006ff19c06",
   "outputs": [],
   "execution_count": 117
  },
  {
   "metadata": {
    "ExecuteTime": {
     "end_time": "2025-06-17T14:51:55.009251Z",
     "start_time": "2025-06-17T14:51:55.003459Z"
    }
   },
   "cell_type": "code",
   "source": [
    "%%sql val_df <<\n",
    "from study_adverse_val"
   ],
   "id": "80cc2fe9157e06c7",
   "outputs": [],
   "execution_count": 118
  },
  {
   "metadata": {
    "ExecuteTime": {
     "end_time": "2025-06-17T14:51:55.043734Z",
     "start_time": "2025-06-17T14:51:55.033924Z"
    }
   },
   "cell_type": "code",
   "source": "train_df.describe()",
   "id": "99a10f904ea8906e",
   "outputs": [
    {
     "data": {
      "text/plain": [
       "                           timestamp         nct_id  num_of_adverse_events\n",
       "count                          43335   43335.000000           43335.000000\n",
       "mean   2013-10-16 16:54:19.813083904   92183.386270              39.843268\n",
       "min              2001-01-05 00:00:00      37.000000               0.000000\n",
       "25%              2011-01-03 00:00:00   45384.000000               0.000000\n",
       "50%              2014-01-02 00:00:00   86129.000000               2.000000\n",
       "75%              2017-01-01 00:00:00  134732.500000              15.000000\n",
       "max              2019-01-01 00:00:00  218391.000000           28085.000000\n",
       "std                              NaN   55048.973537             339.110533"
      ],
      "text/html": [
       "<div>\n",
       "<style scoped>\n",
       "    .dataframe tbody tr th:only-of-type {\n",
       "        vertical-align: middle;\n",
       "    }\n",
       "\n",
       "    .dataframe tbody tr th {\n",
       "        vertical-align: top;\n",
       "    }\n",
       "\n",
       "    .dataframe thead th {\n",
       "        text-align: right;\n",
       "    }\n",
       "</style>\n",
       "<table border=\"1\" class=\"dataframe\">\n",
       "  <thead>\n",
       "    <tr style=\"text-align: right;\">\n",
       "      <th></th>\n",
       "      <th>timestamp</th>\n",
       "      <th>nct_id</th>\n",
       "      <th>num_of_adverse_events</th>\n",
       "    </tr>\n",
       "  </thead>\n",
       "  <tbody>\n",
       "    <tr>\n",
       "      <th>count</th>\n",
       "      <td>43335</td>\n",
       "      <td>43335.000000</td>\n",
       "      <td>43335.000000</td>\n",
       "    </tr>\n",
       "    <tr>\n",
       "      <th>mean</th>\n",
       "      <td>2013-10-16 16:54:19.813083904</td>\n",
       "      <td>92183.386270</td>\n",
       "      <td>39.843268</td>\n",
       "    </tr>\n",
       "    <tr>\n",
       "      <th>min</th>\n",
       "      <td>2001-01-05 00:00:00</td>\n",
       "      <td>37.000000</td>\n",
       "      <td>0.000000</td>\n",
       "    </tr>\n",
       "    <tr>\n",
       "      <th>25%</th>\n",
       "      <td>2011-01-03 00:00:00</td>\n",
       "      <td>45384.000000</td>\n",
       "      <td>0.000000</td>\n",
       "    </tr>\n",
       "    <tr>\n",
       "      <th>50%</th>\n",
       "      <td>2014-01-02 00:00:00</td>\n",
       "      <td>86129.000000</td>\n",
       "      <td>2.000000</td>\n",
       "    </tr>\n",
       "    <tr>\n",
       "      <th>75%</th>\n",
       "      <td>2017-01-01 00:00:00</td>\n",
       "      <td>134732.500000</td>\n",
       "      <td>15.000000</td>\n",
       "    </tr>\n",
       "    <tr>\n",
       "      <th>max</th>\n",
       "      <td>2019-01-01 00:00:00</td>\n",
       "      <td>218391.000000</td>\n",
       "      <td>28085.000000</td>\n",
       "    </tr>\n",
       "    <tr>\n",
       "      <th>std</th>\n",
       "      <td>NaN</td>\n",
       "      <td>55048.973537</td>\n",
       "      <td>339.110533</td>\n",
       "    </tr>\n",
       "  </tbody>\n",
       "</table>\n",
       "</div>"
      ]
     },
     "execution_count": 119,
     "metadata": {},
     "output_type": "execute_result"
    }
   ],
   "execution_count": 119
  },
  {
   "metadata": {
    "ExecuteTime": {
     "end_time": "2025-06-17T14:51:55.090748Z",
     "start_time": "2025-06-17T14:51:55.084700Z"
    }
   },
   "cell_type": "code",
   "source": "test_df.describe()",
   "id": "1f1bcd878730110d",
   "outputs": [
    {
     "data": {
      "text/plain": [
       "                           timestamp         nct_id  num_of_adverse_events\n",
       "count                           3098    3098.000000            3098.000000\n",
       "mean   2021-01-01 00:00:00.000000256  198118.268238              57.930278\n",
       "min              2021-01-01 00:00:00     315.000000               0.000000\n",
       "25%              2021-01-01 00:00:00  174176.500000               0.000000\n",
       "50%              2021-01-01 00:00:00  213002.500000               3.000000\n",
       "75%              2021-01-01 00:00:00  233620.750000              24.000000\n",
       "max              2021-01-01 00:00:00  249609.000000            5978.000000\n",
       "std                              NaN   47412.398715             249.726540"
      ],
      "text/html": [
       "<div>\n",
       "<style scoped>\n",
       "    .dataframe tbody tr th:only-of-type {\n",
       "        vertical-align: middle;\n",
       "    }\n",
       "\n",
       "    .dataframe tbody tr th {\n",
       "        vertical-align: top;\n",
       "    }\n",
       "\n",
       "    .dataframe thead th {\n",
       "        text-align: right;\n",
       "    }\n",
       "</style>\n",
       "<table border=\"1\" class=\"dataframe\">\n",
       "  <thead>\n",
       "    <tr style=\"text-align: right;\">\n",
       "      <th></th>\n",
       "      <th>timestamp</th>\n",
       "      <th>nct_id</th>\n",
       "      <th>num_of_adverse_events</th>\n",
       "    </tr>\n",
       "  </thead>\n",
       "  <tbody>\n",
       "    <tr>\n",
       "      <th>count</th>\n",
       "      <td>3098</td>\n",
       "      <td>3098.000000</td>\n",
       "      <td>3098.000000</td>\n",
       "    </tr>\n",
       "    <tr>\n",
       "      <th>mean</th>\n",
       "      <td>2021-01-01 00:00:00.000000256</td>\n",
       "      <td>198118.268238</td>\n",
       "      <td>57.930278</td>\n",
       "    </tr>\n",
       "    <tr>\n",
       "      <th>min</th>\n",
       "      <td>2021-01-01 00:00:00</td>\n",
       "      <td>315.000000</td>\n",
       "      <td>0.000000</td>\n",
       "    </tr>\n",
       "    <tr>\n",
       "      <th>25%</th>\n",
       "      <td>2021-01-01 00:00:00</td>\n",
       "      <td>174176.500000</td>\n",
       "      <td>0.000000</td>\n",
       "    </tr>\n",
       "    <tr>\n",
       "      <th>50%</th>\n",
       "      <td>2021-01-01 00:00:00</td>\n",
       "      <td>213002.500000</td>\n",
       "      <td>3.000000</td>\n",
       "    </tr>\n",
       "    <tr>\n",
       "      <th>75%</th>\n",
       "      <td>2021-01-01 00:00:00</td>\n",
       "      <td>233620.750000</td>\n",
       "      <td>24.000000</td>\n",
       "    </tr>\n",
       "    <tr>\n",
       "      <th>max</th>\n",
       "      <td>2021-01-01 00:00:00</td>\n",
       "      <td>249609.000000</td>\n",
       "      <td>5978.000000</td>\n",
       "    </tr>\n",
       "    <tr>\n",
       "      <th>std</th>\n",
       "      <td>NaN</td>\n",
       "      <td>47412.398715</td>\n",
       "      <td>249.726540</td>\n",
       "    </tr>\n",
       "  </tbody>\n",
       "</table>\n",
       "</div>"
      ]
     },
     "execution_count": 120,
     "metadata": {},
     "output_type": "execute_result"
    }
   ],
   "execution_count": 120
  },
  {
   "metadata": {
    "ExecuteTime": {
     "end_time": "2025-06-17T14:51:55.161538Z",
     "start_time": "2025-06-17T14:51:55.155110Z"
    }
   },
   "cell_type": "code",
   "source": "val_df.describe()",
   "id": "22cc60dd2b3fe76",
   "outputs": [
    {
     "data": {
      "text/plain": [
       "                           timestamp         nct_id  num_of_adverse_events\n",
       "count                           3596    3596.000000            3596.000000\n",
       "mean   2020-01-01 00:00:00.000000256  185187.685206              57.082870\n",
       "min              2020-01-01 00:00:00     225.000000               0.000000\n",
       "25%              2020-01-01 00:00:00  164685.250000               0.000000\n",
       "50%              2020-01-01 00:00:00  197525.000000               2.000000\n",
       "75%              2020-01-01 00:00:00  217057.500000              18.000000\n",
       "max              2020-01-01 00:00:00  234821.000000           17245.000000\n",
       "std                              NaN   43167.668795             391.170094"
      ],
      "text/html": [
       "<div>\n",
       "<style scoped>\n",
       "    .dataframe tbody tr th:only-of-type {\n",
       "        vertical-align: middle;\n",
       "    }\n",
       "\n",
       "    .dataframe tbody tr th {\n",
       "        vertical-align: top;\n",
       "    }\n",
       "\n",
       "    .dataframe thead th {\n",
       "        text-align: right;\n",
       "    }\n",
       "</style>\n",
       "<table border=\"1\" class=\"dataframe\">\n",
       "  <thead>\n",
       "    <tr style=\"text-align: right;\">\n",
       "      <th></th>\n",
       "      <th>timestamp</th>\n",
       "      <th>nct_id</th>\n",
       "      <th>num_of_adverse_events</th>\n",
       "    </tr>\n",
       "  </thead>\n",
       "  <tbody>\n",
       "    <tr>\n",
       "      <th>count</th>\n",
       "      <td>3596</td>\n",
       "      <td>3596.000000</td>\n",
       "      <td>3596.000000</td>\n",
       "    </tr>\n",
       "    <tr>\n",
       "      <th>mean</th>\n",
       "      <td>2020-01-01 00:00:00.000000256</td>\n",
       "      <td>185187.685206</td>\n",
       "      <td>57.082870</td>\n",
       "    </tr>\n",
       "    <tr>\n",
       "      <th>min</th>\n",
       "      <td>2020-01-01 00:00:00</td>\n",
       "      <td>225.000000</td>\n",
       "      <td>0.000000</td>\n",
       "    </tr>\n",
       "    <tr>\n",
       "      <th>25%</th>\n",
       "      <td>2020-01-01 00:00:00</td>\n",
       "      <td>164685.250000</td>\n",
       "      <td>0.000000</td>\n",
       "    </tr>\n",
       "    <tr>\n",
       "      <th>50%</th>\n",
       "      <td>2020-01-01 00:00:00</td>\n",
       "      <td>197525.000000</td>\n",
       "      <td>2.000000</td>\n",
       "    </tr>\n",
       "    <tr>\n",
       "      <th>75%</th>\n",
       "      <td>2020-01-01 00:00:00</td>\n",
       "      <td>217057.500000</td>\n",
       "      <td>18.000000</td>\n",
       "    </tr>\n",
       "    <tr>\n",
       "      <th>max</th>\n",
       "      <td>2020-01-01 00:00:00</td>\n",
       "      <td>234821.000000</td>\n",
       "      <td>17245.000000</td>\n",
       "    </tr>\n",
       "    <tr>\n",
       "      <th>std</th>\n",
       "      <td>NaN</td>\n",
       "      <td>43167.668795</td>\n",
       "      <td>391.170094</td>\n",
       "    </tr>\n",
       "  </tbody>\n",
       "</table>\n",
       "</div>"
      ]
     },
     "execution_count": 121,
     "metadata": {},
     "output_type": "execute_result"
    }
   ],
   "execution_count": 121
  },
  {
   "metadata": {
    "ExecuteTime": {
     "end_time": "2025-06-17T14:51:55.300647Z",
     "start_time": "2025-06-17T14:51:55.298600Z"
    }
   },
   "cell_type": "code",
   "source": [
    "study_adverse_train_labels = train_df.num_of_adverse_events.to_numpy()\n",
    "study_adverse_test_labels = test_df.num_of_adverse_events.to_numpy()\n",
    "study_adverse_val_labels = val_df.num_of_adverse_events.to_numpy()"
   ],
   "id": "dba612725970c0f2",
   "outputs": [],
   "execution_count": 122
  },
  {
   "metadata": {
    "ExecuteTime": {
     "end_time": "2025-06-17T14:52:17.799692Z",
     "start_time": "2025-06-17T14:51:55.412583Z"
    }
   },
   "cell_type": "code",
   "source": [
    "fig, ax = plt.subplots(1, 3, figsize=(15, 4))\n",
    "ax = ax.reshape((-1))\n",
    "\n",
    "plot_reg_dist(ax[0], study_adverse_train_labels, 'Count', 'Number of adverse events', 'Train Set')\n",
    "plot_reg_dist(ax[1], study_adverse_test_labels, 'Count', 'Number of adverse events', 'Test Set')\n",
    "plot_reg_dist(ax[2], study_adverse_val_labels, 'Count', 'Number of adverse events', 'Validation Set')\n",
    "\n",
    "plt.savefig('study_adverse.pdf')\n",
    "plt.show()"
   ],
   "id": "11e45158ee12d28d",
   "outputs": [
    {
     "data": {
      "text/plain": [
       "<Figure size 1500x400 with 3 Axes>"
      ],
      "image/png": "[encoded data removed]"
     },
     "metadata": {},
     "output_type": "display_data"
    }
   ],
   "execution_count": 123
  },
  {
   "metadata": {
    "ExecuteTime": {
     "end_time": "2025-06-17T14:52:18.297352Z",
     "start_time": "2025-06-17T14:52:17.877790Z"
    }
   },
   "cell_type": "code",
   "source": [
    "conn.close()\n",
    "gc.collect()"
   ],
   "id": "115ed56bd831410f",
   "outputs": [
    {
     "data": {
      "text/plain": [
       "10"
      ]
     },
     "execution_count": 124,
     "metadata": {},
     "output_type": "execute_result"
    }
   ],
   "execution_count": 124
  },
  {
   "metadata": {},
   "cell_type": "markdown",
   "source": "# Stack",
   "id": "cdcf2c99edde511f"
  },
  {
   "metadata": {
    "ExecuteTime": {
     "end_time": "2025-06-17T14:57:41.176139Z",
     "start_time": "2025-06-17T14:57:41.153454Z"
    }
   },
   "cell_type": "code",
   "source": [
    "conn = duckdb.connect('stack.db')\n",
    "%load_ext sql\n",
    "%sql conn --alias duckdb\n",
    "%config SqlMagic.displaycon=False\n",
    "%config SqlMagic.autopandas=True\n",
    "pio.renderers.default = 'svg'"
   ],
   "id": "bac4fa166982c406",
   "outputs": [
    {
     "name": "stdout",
     "output_type": "stream",
     "text": [
      "The sql extension is already loaded. To reload it, use:\n",
      "  %reload_ext sql\n"
     ]
    }
   ],
   "execution_count": 135
  },
  {
   "metadata": {
    "ExecuteTime": {
     "end_time": "2025-06-17T14:57:49.376526Z",
     "start_time": "2025-06-17T14:57:49.329904Z"
    }
   },
   "cell_type": "code",
   "source": [
    "%%sql train_df <<\n",
    "from user_engagement_train"
   ],
   "id": "98e3135f97c01a22",
   "outputs": [],
   "execution_count": 137
  },
  {
   "metadata": {
    "ExecuteTime": {
     "end_time": "2025-06-17T14:57:50.573595Z",
     "start_time": "2025-06-17T14:57:50.565124Z"
    }
   },
   "cell_type": "code",
   "source": [
    "%%sql test_df <<\n",
    "from user_engagement_test"
   ],
   "id": "916ae003eeadf66d",
   "outputs": [],
   "execution_count": 138
  },
  {
   "metadata": {
    "ExecuteTime": {
     "end_time": "2025-06-17T14:57:50.962788Z",
     "start_time": "2025-06-17T14:57:50.953116Z"
    }
   },
   "cell_type": "code",
   "source": [
    "%%sql val_df <<\n",
    "from user_engagement_val"
   ],
   "id": "6b28f49f594f7353",
   "outputs": [],
   "execution_count": 139
  },
  {
   "metadata": {
    "ExecuteTime": {
     "end_time": "2025-06-17T14:57:51.450852Z",
     "start_time": "2025-06-17T14:57:51.376747Z"
    }
   },
   "cell_type": "code",
   "source": "train_df.describe()",
   "id": "416fe88552c33f00",
   "outputs": [
    {
     "data": {
      "text/plain": [
       "                           timestamp   OwnerUserId  contribution\n",
       "count                        1360850  1.360850e+06  1.360850e+06\n",
       "mean   2017-11-13 17:06:43.704743680  5.871405e+04  4.998347e-02\n",
       "min              2009-04-16 00:00:00  0.000000e+00  0.000000e+00\n",
       "25%              2016-07-07 00:00:00  1.687100e+04  0.000000e+00\n",
       "50%              2018-04-05 00:00:00  4.198400e+04  0.000000e+00\n",
       "75%              2019-07-04 00:00:00  8.599100e+04  0.000000e+00\n",
       "max              2020-07-02 00:00:00  2.525400e+05  1.000000e+00\n",
       "std                              NaN  5.317730e+04  2.179109e-01"
      ],
      "text/html": [
       "<div>\n",
       "<style scoped>\n",
       "    .dataframe tbody tr th:only-of-type {\n",
       "        vertical-align: middle;\n",
       "    }\n",
       "\n",
       "    .dataframe tbody tr th {\n",
       "        vertical-align: top;\n",
       "    }\n",
       "\n",
       "    .dataframe thead th {\n",
       "        text-align: right;\n",
       "    }\n",
       "</style>\n",
       "<table border=\"1\" class=\"dataframe\">\n",
       "  <thead>\n",
       "    <tr style=\"text-align: right;\">\n",
       "      <th></th>\n",
       "      <th>timestamp</th>\n",
       "      <th>OwnerUserId</th>\n",
       "      <th>contribution</th>\n",
       "    </tr>\n",
       "  </thead>\n",
       "  <tbody>\n",
       "    <tr>\n",
       "      <th>count</th>\n",
       "      <td>1360850</td>\n",
       "      <td>1.360850e+06</td>\n",
       "      <td>1.360850e+06</td>\n",
       "    </tr>\n",
       "    <tr>\n",
       "      <th>mean</th>\n",
       "      <td>2017-11-13 17:06:43.704743680</td>\n",
       "      <td>5.871405e+04</td>\n",
       "      <td>4.998347e-02</td>\n",
       "    </tr>\n",
       "    <tr>\n",
       "      <th>min</th>\n",
       "      <td>2009-04-16 00:00:00</td>\n",
       "      <td>0.000000e+00</td>\n",
       "      <td>0.000000e+00</td>\n",
       "    </tr>\n",
       "    <tr>\n",
       "      <th>25%</th>\n",
       "      <td>2016-07-07 00:00:00</td>\n",
       "      <td>1.687100e+04</td>\n",
       "      <td>0.000000e+00</td>\n",
       "    </tr>\n",
       "    <tr>\n",
       "      <th>50%</th>\n",
       "      <td>2018-04-05 00:00:00</td>\n",
       "      <td>4.198400e+04</td>\n",
       "      <td>0.000000e+00</td>\n",
       "    </tr>\n",
       "    <tr>\n",
       "      <th>75%</th>\n",
       "      <td>2019-07-04 00:00:00</td>\n",
       "      <td>8.599100e+04</td>\n",
       "      <td>0.000000e+00</td>\n",
       "    </tr>\n",
       "    <tr>\n",
       "      <th>max</th>\n",
       "      <td>2020-07-02 00:00:00</td>\n",
       "      <td>2.525400e+05</td>\n",
       "      <td>1.000000e+00</td>\n",
       "    </tr>\n",
       "    <tr>\n",
       "      <th>std</th>\n",
       "      <td>NaN</td>\n",
       "      <td>5.317730e+04</td>\n",
       "      <td>2.179109e-01</td>\n",
       "    </tr>\n",
       "  </tbody>\n",
       "</table>\n",
       "</div>"
      ]
     },
     "execution_count": 140,
     "metadata": {},
     "output_type": "execute_result"
    }
   ],
   "execution_count": 140
  },
  {
   "metadata": {
    "ExecuteTime": {
     "end_time": "2025-06-17T14:57:52.447977Z",
     "start_time": "2025-06-17T14:57:52.431913Z"
    }
   },
   "cell_type": "code",
   "source": "test_df.describe()",
   "id": "809935b2c9acc56f",
   "outputs": [
    {
     "data": {
      "text/plain": [
       "                 timestamp    OwnerUserId  contribution\n",
       "count                88137   88137.000000  88137.000000\n",
       "mean   2021-01-01 00:00:00  104481.995121      0.027355\n",
       "min    2021-01-01 00:00:00       0.000000      0.000000\n",
       "25%    2021-01-01 00:00:00   37569.000000      0.000000\n",
       "50%    2021-01-01 00:00:00   88666.000000      0.000000\n",
       "75%    2021-01-01 00:00:00  169146.000000      0.000000\n",
       "max    2021-01-01 00:00:00  255358.000000      1.000000\n",
       "std                    NaN   75397.114417      0.163117"
      ],
      "text/html": [
       "<div>\n",
       "<style scoped>\n",
       "    .dataframe tbody tr th:only-of-type {\n",
       "        vertical-align: middle;\n",
       "    }\n",
       "\n",
       "    .dataframe tbody tr th {\n",
       "        vertical-align: top;\n",
       "    }\n",
       "\n",
       "    .dataframe thead th {\n",
       "        text-align: right;\n",
       "    }\n",
       "</style>\n",
       "<table border=\"1\" class=\"dataframe\">\n",
       "  <thead>\n",
       "    <tr style=\"text-align: right;\">\n",
       "      <th></th>\n",
       "      <th>timestamp</th>\n",
       "      <th>OwnerUserId</th>\n",
       "      <th>contribution</th>\n",
       "    </tr>\n",
       "  </thead>\n",
       "  <tbody>\n",
       "    <tr>\n",
       "      <th>count</th>\n",
       "      <td>88137</td>\n",
       "      <td>88137.000000</td>\n",
       "      <td>88137.000000</td>\n",
       "    </tr>\n",
       "    <tr>\n",
       "      <th>mean</th>\n",
       "      <td>2021-01-01 00:00:00</td>\n",
       "      <td>104481.995121</td>\n",
       "      <td>0.027355</td>\n",
       "    </tr>\n",
       "    <tr>\n",
       "      <th>min</th>\n",
       "      <td>2021-01-01 00:00:00</td>\n",
       "      <td>0.000000</td>\n",
       "      <td>0.000000</td>\n",
       "    </tr>\n",
       "    <tr>\n",
       "      <th>25%</th>\n",
       "      <td>2021-01-01 00:00:00</td>\n",
       "      <td>37569.000000</td>\n",
       "      <td>0.000000</td>\n",
       "    </tr>\n",
       "    <tr>\n",
       "      <th>50%</th>\n",
       "      <td>2021-01-01 00:00:00</td>\n",
       "      <td>88666.000000</td>\n",
       "      <td>0.000000</td>\n",
       "    </tr>\n",
       "    <tr>\n",
       "      <th>75%</th>\n",
       "      <td>2021-01-01 00:00:00</td>\n",
       "      <td>169146.000000</td>\n",
       "      <td>0.000000</td>\n",
       "    </tr>\n",
       "    <tr>\n",
       "      <th>max</th>\n",
       "      <td>2021-01-01 00:00:00</td>\n",
       "      <td>255358.000000</td>\n",
       "      <td>1.000000</td>\n",
       "    </tr>\n",
       "    <tr>\n",
       "      <th>std</th>\n",
       "      <td>NaN</td>\n",
       "      <td>75397.114417</td>\n",
       "      <td>0.163117</td>\n",
       "    </tr>\n",
       "  </tbody>\n",
       "</table>\n",
       "</div>"
      ]
     },
     "execution_count": 141,
     "metadata": {},
     "output_type": "execute_result"
    }
   ],
   "execution_count": 141
  },
  {
   "metadata": {
    "ExecuteTime": {
     "end_time": "2025-06-17T14:57:52.961194Z",
     "start_time": "2025-06-17T14:57:52.950608Z"
    }
   },
   "cell_type": "code",
   "source": "val_df.describe()",
   "id": "74c68c70dadedefd",
   "outputs": [
    {
     "data": {
      "text/plain": [
       "                 timestamp    OwnerUserId  contribution\n",
       "count                85838   85838.000000  85838.000000\n",
       "mean   2020-10-01 00:00:00  100932.342016      0.028088\n",
       "min    2020-10-01 00:00:00       0.000000      0.000000\n",
       "25%    2020-10-01 00:00:00   36492.500000      0.000000\n",
       "50%    2020-10-01 00:00:00   85743.500000      0.000000\n",
       "75%    2020-10-01 00:00:00  163466.250000      0.000000\n",
       "max    2020-10-01 00:00:00  252669.000000      1.000000\n",
       "std                    NaN   72878.547556      0.165225"
      ],
      "text/html": [
       "<div>\n",
       "<style scoped>\n",
       "    .dataframe tbody tr th:only-of-type {\n",
       "        vertical-align: middle;\n",
       "    }\n",
       "\n",
       "    .dataframe tbody tr th {\n",
       "        vertical-align: top;\n",
       "    }\n",
       "\n",
       "    .dataframe thead th {\n",
       "        text-align: right;\n",
       "    }\n",
       "</style>\n",
       "<table border=\"1\" class=\"dataframe\">\n",
       "  <thead>\n",
       "    <tr style=\"text-align: right;\">\n",
       "      <th></th>\n",
       "      <th>timestamp</th>\n",
       "      <th>OwnerUserId</th>\n",
       "      <th>contribution</th>\n",
       "    </tr>\n",
       "  </thead>\n",
       "  <tbody>\n",
       "    <tr>\n",
       "      <th>count</th>\n",
       "      <td>85838</td>\n",
       "      <td>85838.000000</td>\n",
       "      <td>85838.000000</td>\n",
       "    </tr>\n",
       "    <tr>\n",
       "      <th>mean</th>\n",
       "      <td>2020-10-01 00:00:00</td>\n",
       "      <td>100932.342016</td>\n",
       "      <td>0.028088</td>\n",
       "    </tr>\n",
       "    <tr>\n",
       "      <th>min</th>\n",
       "      <td>2020-10-01 00:00:00</td>\n",
       "      <td>0.000000</td>\n",
       "      <td>0.000000</td>\n",
       "    </tr>\n",
       "    <tr>\n",
       "      <th>25%</th>\n",
       "      <td>2020-10-01 00:00:00</td>\n",
       "      <td>36492.500000</td>\n",
       "      <td>0.000000</td>\n",
       "    </tr>\n",
       "    <tr>\n",
       "      <th>50%</th>\n",
       "      <td>2020-10-01 00:00:00</td>\n",
       "      <td>85743.500000</td>\n",
       "      <td>0.000000</td>\n",
       "    </tr>\n",
       "    <tr>\n",
       "      <th>75%</th>\n",
       "      <td>2020-10-01 00:00:00</td>\n",
       "      <td>163466.250000</td>\n",
       "      <td>0.000000</td>\n",
       "    </tr>\n",
       "    <tr>\n",
       "      <th>max</th>\n",
       "      <td>2020-10-01 00:00:00</td>\n",
       "      <td>252669.000000</td>\n",
       "      <td>1.000000</td>\n",
       "    </tr>\n",
       "    <tr>\n",
       "      <th>std</th>\n",
       "      <td>NaN</td>\n",
       "      <td>72878.547556</td>\n",
       "      <td>0.165225</td>\n",
       "    </tr>\n",
       "  </tbody>\n",
       "</table>\n",
       "</div>"
      ]
     },
     "execution_count": 142,
     "metadata": {},
     "output_type": "execute_result"
    }
   ],
   "execution_count": 142
  },
  {
   "metadata": {
    "ExecuteTime": {
     "end_time": "2025-06-17T14:57:53.508722Z",
     "start_time": "2025-06-17T14:57:53.505234Z"
    }
   },
   "cell_type": "code",
   "source": [
    "user_engagement_train_labels = train_df.contribution.to_numpy()\n",
    "user_engagement_test_labels = test_df.contribution.to_numpy()\n",
    "user_engagement_val_labels = val_df.contribution.to_numpy()"
   ],
   "id": "a92b587a14f2ae07",
   "outputs": [],
   "execution_count": 143
  },
  {
   "metadata": {
    "ExecuteTime": {
     "end_time": "2025-06-17T14:57:54.851419Z",
     "start_time": "2025-06-17T14:57:54.683924Z"
    }
   },
   "cell_type": "code",
   "source": [
    "fig, ax = plt.subplots(1, 3, figsize=(15, 4))\n",
    "ax = ax.reshape((-1))\n",
    "\n",
    "plot_binary_dist(ax[0], user_engagement_train_labels, 'Count', 'Train Set')\n",
    "plot_binary_dist(ax[1], user_engagement_test_labels, 'Count', 'Test Set')\n",
    "plot_binary_dist(ax[2], user_engagement_val_labels, 'Count', 'Validation Set')\n",
    "\n",
    "plt.savefig('user_engagement_dist.pdf')\n",
    "plt.show()"
   ],
   "id": "6ee7193f4e1b47fd",
   "outputs": [
    {
     "data": {
      "text/plain": [
       "<Figure size 1500x400 with 3 Axes>"
      ],
      "image/png": "[encoded data removed]"
     },
     "metadata": {},
     "output_type": "display_data"
    }
   ],
   "execution_count": 144
  },
  {
   "metadata": {
    "ExecuteTime": {
     "end_time": "2025-06-17T14:57:59.790583Z",
     "start_time": "2025-06-17T14:57:58.998138Z"
    }
   },
   "cell_type": "code",
   "source": [
    "conn.close()\n",
    "gc.collect()"
   ],
   "id": "2b4eea05b056f802",
   "outputs": [
    {
     "data": {
      "text/plain": [
       "180"
      ]
     },
     "execution_count": 145,
     "metadata": {},
     "output_type": "execute_result"
    }
   ],
   "execution_count": 145
  },
  {
   "metadata": {},
   "cell_type": "code",
   "outputs": [],
   "execution_count": null,
   "source": "",
   "id": "672189f70394664f"
  }
 ],
 "metadata": {
  "kernelspec": {
   "display_name": "Python 3",
   "language": "python",
   "name": "python3"
  },
  "language_info": {
   "codemirror_mode": {
    "name": "ipython",
    "version": 2
   },
   "file_extension": ".py",
   "mimetype": "text/x-python",
   "name": "python",
   "nbconvert_exporter": "python",
   "pygments_lexer": "ipython2",
   "version": "2.7.6"
  }
 },
 "nbformat": 4,
 "nbformat_minor": 5
}
